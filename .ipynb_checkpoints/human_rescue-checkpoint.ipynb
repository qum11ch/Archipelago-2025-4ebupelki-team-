{
 "cells": [
  {
   "cell_type": "code",
   "execution_count": null,
   "id": "46762e5d-db50-4883-a1a4-2134ad8961d9",
   "metadata": {},
   "outputs": [],
   "source": [
    "pip install torch"
   ]
  },
  {
   "cell_type": "code",
   "execution_count": null,
   "id": "3c8a15b3-f923-4ab8-ada8-84ef8203adb5",
   "metadata": {
    "scrolled": true
   },
   "outputs": [],
   "source": [
    "pip install ultralytics"
   ]
  },
  {
   "cell_type": "code",
   "execution_count": null,
   "id": "0469f80d-2eaa-4596-929f-12ff72bd4169",
   "metadata": {},
   "outputs": [],
   "source": [
    "pip install opencv-python"
   ]
  },
  {
   "cell_type": "code",
   "execution_count": null,
   "id": "d4dca61d-7d71-42f5-994e-8ba5c3b10015",
   "metadata": {},
   "outputs": [],
   "source": [
    "pip install pandas"
   ]
  },
  {
   "cell_type": "code",
   "execution_count": null,
   "id": "fb0fa4c9-4705-4fa5-9745-a0ca6c6b85d1",
   "metadata": {
    "scrolled": true
   },
   "outputs": [],
   "source": [
    "pip install pathlib"
   ]
  },
  {
   "cell_type": "code",
   "execution_count": null,
   "id": "8b52e6b6-2e4b-4ed3-8400-3117150e0cd0",
   "metadata": {
    "scrolled": true
   },
   "outputs": [],
   "source": [
    "pip install torch torchvision torchaudio --index-url https://download.pytorch.org/whl/cu128"
   ]
  },
  {
   "cell_type": "code",
   "execution_count": 12,
   "id": "aa074f16-f9e0-427d-ae01-155c659407cc",
   "metadata": {},
   "outputs": [],
   "source": [
    "import torch\n",
    "import torchvision"
   ]
  },
  {
   "cell_type": "code",
   "execution_count": 2,
   "id": "fc789aec-bdbd-4989-9d53-e08f4a096a26",
   "metadata": {},
   "outputs": [
    {
     "name": "stdout",
     "output_type": "stream",
     "text": [
      "True\n",
      "NVIDIA GeForce RTX 4070 SUPER\n"
     ]
    }
   ],
   "source": [
    "# Шаг 0. Проверка работы CUDA\n",
    "print(torch.cuda.is_available())\n",
    "print(torch.cuda.get_device_name(0))"
   ]
  },
  {
   "cell_type": "markdown",
   "id": "bb2572d7-462f-4dc2-9043-f80bfce80c46",
   "metadata": {},
   "source": [
    "# Расположение файлов в директории\n",
    "<pre>\n",
    "│─ data.yaml\n",
    "│─ model.pt <i>(Обученная модель YOLOv8s)</i>\n",
    "│─ solution/\n",
    "│   ├─ metadata.json\n",
    "│   ├─ model.pt\n",
    "│   ├─ solution.py <i>(Скрипт, реализующий решение)</i>\n",
    "│   └─ solution.zip <i>(Готовый архив решения, который загружается в систему)</i>\n",
    "│─ test/ <i>(Директория с изображениями для ручного тестирования модели)</i>\n",
    "│─ dataset_additional_training/ <i>(Датасет <b>дообучения</b> модели)</i>\n",
    "│   ├─ images/\n",
    "│   │   ├─ train/\n",
    "│   │   └─ val/\n",
    "│   └─ labels/\n",
    "│       ├─ train/\n",
    "│       └─ val/\n",
    "│─ additional_training_data/ <i>(Пары для сбора датасета <b>дообучения</b> модели)</i>\n",
    "│   ├─ images/\n",
    "│   └─ labels/\n",
    "│─ training_data/ <i>(Пары для сбора датасета <b>обучения</b> модели)</i>\n",
    "│   ├─ images/\n",
    "│   └─ labels/\n",
    "│─ runs/ <i>(Результаты <b>обучения</b> модели)</i>\n",
    "│   └─ detect/\n",
    "└─ dataset/ <i>(Основной датасет <b>обучения</b> модели)</i>\n",
    "    ├─ images/\n",
    "    │   ├─ train/\n",
    "    │   └─ val/\n",
    "    └─ labels/\n",
    "        ├─ train/\n",
    "        └─ val/\n",
    "</pre>"
   ]
  },
  {
   "cell_type": "markdown",
   "id": "b4ff7b0d-029a-4520-ae70-db968f83fd5e",
   "metadata": {},
   "source": [
    "# Обучение модели YOLOv8s"
   ]
  },
  {
   "cell_type": "code",
   "execution_count": 2,
   "id": "bee8070f-3c10-4cab-950f-6f0f26f59c6a",
   "metadata": {
    "scrolled": true
   },
   "outputs": [],
   "source": [
    "# Шаг 1. Подготовка датасета. \n",
    "# Шаг 1.1 Переименование расширения с .JPG на .jpg\n",
    "import os\n",
    "\n",
    "IMAGES_DIR = 'C:/Human_rescue/additional_training_data/images'\n",
    "\n",
    "def rename_jpg_to_lowercase():\n",
    "    print(f\"Обрабатываю директорию: {IMAGES_DIR}\")\n",
    "    \n",
    "    # Проверяем, существует ли директория\n",
    "    if not os.path.exists(IMAGES_DIR):\n",
    "        print(\"Ошибка: Директория не существует!\")\n",
    "        return\n",
    "    \n",
    "    count = 0\n",
    "    \n",
    "    for filename in os.listdir(IMAGES_DIR):\n",
    "        if filename.endswith('.JPG'):\n",
    "            old_path = os.path.join(IMAGES_DIR, filename)\n",
    "            new_filename = filename[:-4] + '.jpg'\n",
    "            new_path = os.path.join(IMAGES_DIR, new_filename)\n",
    "            \n",
    "            try:\n",
    "                os.rename(old_path, new_path)\n",
    "                print(f\"Переименовано: {filename} -> {new_filename}\")\n",
    "                count += 1\n",
    "            except Exception as e:\n",
    "                print(f\"Ошибка при переименовании {filename}: {e}\")\n",
    "    \n",
    "    print(f\"\\nГотово! Переименовано файлов: {count}\")\n",
    "\n",
    "if __name__ == \"__main__\":\n",
    "    rename_jpg_to_lowercase()"
   ]
  },
  {
   "cell_type": "code",
   "execution_count": 4,
   "id": "e4d8f1eb-5328-492d-9593-9438d9482b4f",
   "metadata": {
    "scrolled": true
   },
   "outputs": [
    {
     "name": "stdout",
     "output_type": "stream",
     "text": [
      "Папка с изображениями: C:\\Human_rescue\\dataset_additional_training\\images\\train\n",
      "Папка с разметкой: C:\\Human_rescue\\dataset_additional_training\\labels\\train\n",
      "\n",
      "Всего изображений: 800\n",
      "Всего файлов разметки: 800\n",
      "\n",
      "Успешно! Все файлы соответствуют!\n"
     ]
    }
   ],
   "source": [
    "# Шаг 1. Подготовка датасета. \n",
    "# Шаг 1.2 Проверка наличия пары image-label\n",
    "\n",
    "def check_matching_files(images_dir, labels_dir, image_ext='.jpg', label_ext='.txt'):\n",
    "    if not os.path.exists(images_dir):\n",
    "        raise FileNotFoundError(f\"Папка с изображениями не найдена: {os.path.abspath(images_dir)}\")\n",
    "    if not os.path.exists(labels_dir):\n",
    "        raise FileNotFoundError(f\"Папка с разметкой не найдена: {os.path.abspath(labels_dir)}\")\n",
    "\n",
    "    image_files = [f for f in os.listdir(images_dir) if f.endswith(image_ext)]\n",
    "    label_files = [f for f in os.listdir(labels_dir) if f.endswith(label_ext)]\n",
    "\n",
    "    if not image_files:\n",
    "        print(f\"Ошибка! В папке {images_dir} нет файлов с расширением {image_ext}\")\n",
    "    if not label_files:\n",
    "        print(f\"Ошибка! В папке {labels_dir} нет файлов с расширением {label_ext}\")\n",
    "\n",
    "    image_names = {os.path.splitext(f)[0] for f in image_files}\n",
    "    label_names = {os.path.splitext(f)[0] for f in label_files}\n",
    "\n",
    "    images_without_labels = image_names - label_names\n",
    "    labels_without_images = label_names - image_names\n",
    "\n",
    "    report = {\n",
    "        'total_images': len(image_files),\n",
    "        'total_labels': len(label_files),\n",
    "        'images_without_labels': len(images_without_labels),\n",
    "        'labels_without_images': len(labels_without_images),\n",
    "        'missing_labels': sorted(f\"{name}{image_ext}\" for name in images_without_labels),\n",
    "        'orphan_labels': sorted(f\"{name}{label_ext}\" for name in labels_without_images),\n",
    "        'all_matched': not images_without_labels and not labels_without_images\n",
    "    }\n",
    "    return report\n",
    "\n",
    "if __name__ == \"__main__\":\n",
    "    # Проверка наличия пар до деления на train и val\n",
    "    # IMAGES_DIR = 'C:/Human_rescue/additional_training_data/images'\n",
    "    # LABELS_DIR = 'C:/Human_rescue/additional_training_data/labels'\n",
    "\n",
    "    # Проверка наличия пар после деления на train и val\n",
    "    # IMAGES_DIR = 'C:/Human_rescue/dataset/images/train'\n",
    "    # LABELS_DIR = 'C:/Human_rescue/dataset/labels/train'\n",
    "\n",
    "    # Датасет дообучения\n",
    "    IMAGES_DIR = 'C:/Human_rescue/dataset_additional_training/images/train'\n",
    "    LABELS_DIR = 'C:/Human_rescue/dataset_additional_training/labels/train'\n",
    "    \n",
    "    try:\n",
    "        report = check_matching_files(IMAGES_DIR, LABELS_DIR)\n",
    "        \n",
    "        print(f\"Папка с изображениями: {os.path.abspath(IMAGES_DIR)}\")\n",
    "        print(f\"Папка с разметкой: {os.path.abspath(LABELS_DIR)}\\n\")\n",
    "        \n",
    "        print(f\"Всего изображений: {report['total_images']}\")\n",
    "        print(f\"Всего файлов разметки: {report['total_labels']}\\n\")\n",
    "\n",
    "        if report['all_matched']:\n",
    "            print(\"Успешно! Все файлы соответствуют!\")\n",
    "        else:\n",
    "            if report['images_without_labels']:\n",
    "                print(f\"Найдено {report['images_without_labels']} изображений без разметки:\")\n",
    "                for img in report['missing_labels']:\n",
    "                    print(f\"  - {img}\")\n",
    "            \n",
    "            if report['labels_without_images']:\n",
    "                print(f\"\\nНайдено {report['labels_without_images']} файлов разметки без изображений:\")\n",
    "                for lbl in report['orphan_labels']:\n",
    "                    print(f\"  - {lbl}\")\n",
    "    \n",
    "    except Exception as e:\n",
    "        print(f\"Ошибка: {e}\")"
   ]
  },
  {
   "cell_type": "code",
   "execution_count": 3,
   "id": "41d0718d-ca0e-41e4-a250-7f33bad95e63",
   "metadata": {},
   "outputs": [
    {
     "name": "stdout",
     "output_type": "stream",
     "text": [
      "Всего парных файлов: 1000\n",
      "Train: 800 (80.0%)\n",
      "Val: 200 (20.0%)\n"
     ]
    },
    {
     "name": "stderr",
     "output_type": "stream",
     "text": [
      "Копирование train:   0%|                                                                       | 0/800 [00:00<?, ?it/s]\n",
      "Копирование train: 100%|████████████████████████████████████████████████████████████| 800/800 [00:07<00:00, 104.48it/s]\u001b[A\n",
      "\n",
      "Копирование val:   0%|▎                                                                | 1/200 [00:07<25:25,  7.67s/it]\u001b[A\n",
      "Копирование val:   6%|███▊                                                            | 12/200 [00:07<01:27,  2.14it/s]\u001b[A\n",
      "Копирование val:  12%|███████▋                                                        | 24/200 [00:07<00:34,  5.13it/s]\u001b[A\n",
      "Копирование val:  18%|███████████▏                                                    | 35/200 [00:07<00:18,  8.79it/s]\u001b[A\n",
      "Копирование val:  24%|███████████████                                                 | 47/200 [00:08<00:10, 14.04it/s]\u001b[A\n",
      "Копирование val:  29%|██████████████████▌                                             | 58/200 [00:08<00:07, 20.05it/s]\u001b[A\n",
      "Копирование val:  34%|██████████████████████                                          | 69/200 [00:08<00:04, 27.24it/s]\u001b[A\n",
      "Копирование val:  40%|█████████████████████████▌                                      | 80/200 [00:08<00:03, 35.57it/s]\u001b[A\n",
      "Копирование val:  46%|█████████████████████████████                                   | 91/200 [00:08<00:02, 44.83it/s]\u001b[A\n",
      "Копирование val:  51%|████████████████████████████████▏                              | 102/200 [00:08<00:01, 52.89it/s]\u001b[A\n",
      "Копирование val:  56%|███████████████████████████████████▎                           | 112/200 [00:08<00:01, 60.82it/s]\u001b[A\n",
      "Копирование val:  61%|██████████████████████████████████████▍                        | 122/200 [00:08<00:01, 67.99it/s]\u001b[A\n",
      "Копирование val:  66%|█████████████████████████████████████████▉                     | 133/200 [00:08<00:00, 76.35it/s]\u001b[A\n",
      "Копирование val:  72%|█████████████████████████████████████████████                  | 143/200 [00:09<00:00, 81.73it/s]\u001b[A\n",
      "Копирование val:  77%|████████████████████████████████████████████████▌              | 154/200 [00:09<00:00, 86.93it/s]\u001b[A\n",
      "Копирование val:  83%|████████████████████████████████████████████████████▎          | 166/200 [00:09<00:00, 94.39it/s]\u001b[A\n",
      "Копирование val:  88%|███████████████████████████████████████████████████████▊       | 177/200 [00:09<00:00, 96.80it/s]\u001b[A\n",
      "Копирование val:  94%|███████████████████████████████████████████████████████████▏   | 188/200 [00:09<00:00, 97.23it/s]\u001b[A\n",
      "Копирование val: 100%|███████████████████████████████████████████████████████████████| 200/200 [00:09<00:00, 20.82it/s]\u001b[A"
     ]
    },
    {
     "name": "stdout",
     "output_type": "stream",
     "text": [
      "\n",
      "Готово! Результат:\n",
      "│── images/\n",
      "│   ├── train/ (800 файлов)\n",
      "│   └── val/ (200 файлов)\n",
      "└── labels/\n",
      "    ├── train/ (800 файлов)\n",
      "    └── val/ (200 файлов)\n"
     ]
    },
    {
     "name": "stderr",
     "output_type": "stream",
     "text": [
      "\n"
     ]
    }
   ],
   "source": [
    "# Шаг 1. Подготовка датасета. \n",
    "# Шаг 1.3 Деление датасета на train и val\n",
    "import shutil\n",
    "import random\n",
    "import time\n",
    "\n",
    "def split_dataset(\n",
    "    images_dir,\n",
    "    labels_dir,\n",
    "    # \"output_root\": \"dataset\",\n",
    "    output_root=\"dataset_additional_training\",\n",
    "    train_ratio=0.8,\n",
    "    image_ext=\".jpg\",\n",
    "    label_ext=\".txt\",\n",
    "    seed=None,\n",
    "    shuffle_rounds=3,\n",
    "):\n",
    "    if seed is not None:\n",
    "        random.seed(seed)\n",
    "    else:\n",
    "        random.seed(int(time.time() * 1_000_000) % (2**32))\n",
    "\n",
    "    # Создаем папки (если нужно)\n",
    "    os.makedirs(os.path.join(output_root, \"images\", \"train\"), exist_ok=True)\n",
    "    os.makedirs(os.path.join(output_root, \"images\", \"val\"), exist_ok=True)\n",
    "    os.makedirs(os.path.join(output_root, \"labels\", \"train\"), exist_ok=True)\n",
    "    os.makedirs(os.path.join(output_root, \"labels\", \"val\"), exist_ok=True)\n",
    "\n",
    "    # Получаем список парных файлов\n",
    "    image_files = [f for f in os.listdir(images_dir) if f.endswith(image_ext)]\n",
    "    label_files = [f for f in os.listdir(labels_dir) if f.endswith(label_ext)]\n",
    "\n",
    "    image_names = {os.path.splitext(f)[0] for f in image_files}\n",
    "    label_names = {os.path.splitext(f)[0] for f in label_files}\n",
    "    paired_names = list(image_names & label_names)\n",
    "\n",
    "    # Усиленное перемешивание\n",
    "    for _ in range(shuffle_rounds):\n",
    "        random.shuffle(paired_names)\n",
    "        time.sleep(0.01)\n",
    "\n",
    "    split_idx = int(len(paired_names) * train_ratio)\n",
    "    train_names = paired_names[:split_idx]\n",
    "    val_names = paired_names[split_idx:]\n",
    "\n",
    "    print(f\"Всего парных файлов: {len(paired_names)}\")\n",
    "    print(f\"Train: {len(train_names)} ({(len(train_names)/len(paired_names)*100):.1f}%)\")\n",
    "    print(f\"Val: {len(val_names)} ({(len(val_names)/len(paired_names)*100):.1f}%)\")\n",
    "\n",
    "    # Копирование файлов\n",
    "    try:\n",
    "        from tqdm import tqdm\n",
    "        train_names = tqdm(train_names, desc=\"Копирование train\")\n",
    "        val_names = tqdm(val_names, desc=\"Копирование val\")\n",
    "    except ImportError:\n",
    "        pass\n",
    "\n",
    "    for name in train_names:\n",
    "        shutil.copy(\n",
    "            os.path.join(images_dir, f\"{name}{image_ext}\"),\n",
    "            os.path.join(output_root, \"images\", \"train\", f\"{name}{image_ext}\"),\n",
    "        )\n",
    "        shutil.copy(\n",
    "            os.path.join(labels_dir, f\"{name}{label_ext}\"),\n",
    "            os.path.join(output_root, \"labels\", \"train\", f\"{name}{label_ext}\"),\n",
    "        )\n",
    "\n",
    "    for name in val_names:\n",
    "        shutil.copy(\n",
    "            os.path.join(images_dir, f\"{name}{image_ext}\"),\n",
    "            os.path.join(output_root, \"images\", \"val\", f\"{name}{image_ext}\"),\n",
    "        )\n",
    "        shutil.copy(\n",
    "            os.path.join(labels_dir, f\"{name}{label_ext}\"),\n",
    "            os.path.join(output_root, \"labels\", \"val\", f\"{name}{label_ext}\"),\n",
    "        )\n",
    "\n",
    "    print(\"\\nГотово! Результат:\")\n",
    "    print(f\"│── images/\")\n",
    "    print(f\"│   ├── train/ ({len(train_names)} файлов)\")\n",
    "    print(f\"│   └── val/ ({len(val_names)} файлов)\")\n",
    "    print(f\"└── labels/\")\n",
    "    print(f\"    ├── train/ ({len(train_names)} файлов)\")\n",
    "    print(f\"    └── val/ ({len(val_names)} файлов)\")\n",
    "\n",
    "if __name__ == \"__main__\":\n",
    "    config = {\n",
    "        \"images_dir\": \"C:/Human_rescue/additional_training_data/images\",\n",
    "        \"labels_dir\": \"C:/Human_rescue/additional_training_data/labels\",\n",
    "        # \"output_root\": \"C:/Human_rescue/dataset\",\n",
    "        \"output_root\": \"C:/Human_rescue/dataset_additional_training\",\n",
    "        \"train_ratio\": 0.8,\n",
    "        \"seed\": None,\n",
    "        \"shuffle_rounds\": 5,\n",
    "    }\n",
    "\n",
    "    split_dataset(**config)"
   ]
  },
  {
   "cell_type": "code",
   "execution_count": 1,
   "id": "fd1092f1-0429-4a72-a8d5-6236393fe713",
   "metadata": {
    "scrolled": true
   },
   "outputs": [
    {
     "name": "stdout",
     "output_type": "stream",
     "text": [
      "New https://pypi.org/project/ultralytics/8.3.175 available  Update with 'pip install -U ultralytics'\n",
      "Ultralytics 8.3.172  Python-3.11.5 torch-2.0.1+cu118 CUDA:0 (NVIDIA GeForce RTX 4070 SUPER, 12282MiB)\n",
      "\u001b[34m\u001b[1mengine\\trainer: \u001b[0magnostic_nms=False, amp=True, augment=False, auto_augment=randaugment, batch=10, bgr=0.0, box=9.0, cache=False, cfg=None, classes=None, close_mosaic=10, cls=0.5, conf=None, copy_paste=0.0, copy_paste_mode=flip, cos_lr=True, cutmix=0.0, data=data.yaml, degrees=10.0, deterministic=True, device=0, dfl=2.5, dnn=False, dropout=0.0, dynamic=False, embed=None, epochs=100, erasing=0.4, exist_ok=False, fliplr=0.5, flipud=0.5, format=torchscript, fraction=1.0, freeze=None, half=False, hsv_h=0.1, hsv_s=0.1, hsv_v=0.1, imgsz=1280, int8=False, iou=0.7, keras=False, kobj=1.0, line_width=None, lr0=0.001, lrf=0.01, mask_ratio=4, max_det=300, mixup=0.0, mode=train, model=best.pt, momentum=0.937, mosaic=0.2, multi_scale=False, name=train38, nbs=64, nms=False, opset=None, optimize=False, optimizer=AdamW, overlap_mask=True, patience=20, perspective=0.0, plots=True, pose=12.0, pretrained=True, profile=False, project=None, rect=False, resume=False, retina_masks=False, save=True, save_conf=False, save_crop=False, save_dir=runs\\detect\\train38, save_frames=False, save_json=False, save_period=-1, save_txt=False, scale=0.5, seed=0, shear=0.0, show=False, show_boxes=True, show_conf=True, show_labels=True, simplify=True, single_cls=True, source=None, split=val, stream_buffer=False, task=detect, time=None, tracker=botsort.yaml, translate=0.1, val=True, verbose=True, vid_stride=1, visualize=False, warmup_bias_lr=0.1, warmup_epochs=5, warmup_momentum=0.8, weight_decay=0.001, workers=6, workspace=None\n",
      "Overriding class names with single class.\n",
      "\n",
      "                   from  n    params  module                                       arguments                     \n",
      "  0                  -1  1       928  ultralytics.nn.modules.conv.Conv             [3, 32, 3, 2]                 \n",
      "  1                  -1  1     18560  ultralytics.nn.modules.conv.Conv             [32, 64, 3, 2]                \n",
      "  2                  -1  1     29056  ultralytics.nn.modules.block.C2f             [64, 64, 1, True]             \n",
      "  3                  -1  1     73984  ultralytics.nn.modules.conv.Conv             [64, 128, 3, 2]               \n",
      "  4                  -1  2    197632  ultralytics.nn.modules.block.C2f             [128, 128, 2, True]           \n",
      "  5                  -1  1    295424  ultralytics.nn.modules.conv.Conv             [128, 256, 3, 2]              \n",
      "  6                  -1  2    788480  ultralytics.nn.modules.block.C2f             [256, 256, 2, True]           \n",
      "  7                  -1  1   1180672  ultralytics.nn.modules.conv.Conv             [256, 512, 3, 2]              \n",
      "  8                  -1  1   1838080  ultralytics.nn.modules.block.C2f             [512, 512, 1, True]           \n",
      "  9                  -1  1    656896  ultralytics.nn.modules.block.SPPF            [512, 512, 5]                 \n",
      " 10                  -1  1         0  torch.nn.modules.upsampling.Upsample         [None, 2, 'nearest']          \n",
      " 11             [-1, 6]  1         0  ultralytics.nn.modules.conv.Concat           [1]                           \n",
      " 12                  -1  1    591360  ultralytics.nn.modules.block.C2f             [768, 256, 1]                 \n",
      " 13                  -1  1         0  torch.nn.modules.upsampling.Upsample         [None, 2, 'nearest']          \n",
      " 14             [-1, 4]  1         0  ultralytics.nn.modules.conv.Concat           [1]                           \n",
      " 15                  -1  1    148224  ultralytics.nn.modules.block.C2f             [384, 128, 1]                 \n",
      " 16                  -1  1    147712  ultralytics.nn.modules.conv.Conv             [128, 128, 3, 2]              \n",
      " 17            [-1, 12]  1         0  ultralytics.nn.modules.conv.Concat           [1]                           \n",
      " 18                  -1  1    493056  ultralytics.nn.modules.block.C2f             [384, 256, 1]                 \n",
      " 19                  -1  1    590336  ultralytics.nn.modules.conv.Conv             [256, 256, 3, 2]              \n",
      " 20             [-1, 9]  1         0  ultralytics.nn.modules.conv.Concat           [1]                           \n",
      " 21                  -1  1   1969152  ultralytics.nn.modules.block.C2f             [768, 512, 1]                 \n",
      " 22        [15, 18, 21]  1   2116435  ultralytics.nn.modules.head.Detect           [1, [128, 256, 512]]          \n",
      "YOLOv8s summary: 129 layers, 11,135,987 parameters, 11,135,971 gradients, 28.6 GFLOPs\n",
      "\n",
      "Transferred 355/355 items from pretrained weights\n",
      "Freezing layer 'model.22.dfl.conv.weight'\n",
      "\u001b[34m\u001b[1mAMP: \u001b[0mrunning Automatic Mixed Precision (AMP) checks...\n",
      "\u001b[34m\u001b[1mAMP: \u001b[0mchecks passed \n",
      "\u001b[34m\u001b[1mtrain: \u001b[0mFast image access  (ping: 0.00.0 ms, read: 969.1369.0 MB/s, size: 6552.1 KB)\n"
     ]
    },
    {
     "name": "stderr",
     "output_type": "stream",
     "text": [
      "\u001b[34m\u001b[1mtrain: \u001b[0mScanning C:\\Human_rescue\\dataset\\labels\\train... 800 images, 232 backgrounds, 0 corrupt: 100%|██████████| 800/80\u001b[0m"
     ]
    },
    {
     "name": "stdout",
     "output_type": "stream",
     "text": [
      "\u001b[34m\u001b[1mtrain: \u001b[0mNew cache created: C:\\Human_rescue\\dataset\\labels\\train.cache\n"
     ]
    },
    {
     "name": "stderr",
     "output_type": "stream",
     "text": [
      "\n"
     ]
    },
    {
     "name": "stdout",
     "output_type": "stream",
     "text": [
      "\u001b[34m\u001b[1mval: \u001b[0mFast image access  (ping: 0.10.0 ms, read: 786.8248.9 MB/s, size: 7703.2 KB)\n"
     ]
    },
    {
     "name": "stderr",
     "output_type": "stream",
     "text": [
      "\u001b[34m\u001b[1mval: \u001b[0mScanning C:\\Human_rescue\\dataset\\labels\\val... 200 images, 62 backgrounds, 0 corrupt: 100%|██████████| 200/200 [00\u001b[0m"
     ]
    },
    {
     "name": "stdout",
     "output_type": "stream",
     "text": [
      "\u001b[34m\u001b[1mval: \u001b[0mNew cache created: C:\\Human_rescue\\dataset\\labels\\val.cache\n"
     ]
    },
    {
     "name": "stderr",
     "output_type": "stream",
     "text": [
      "\n"
     ]
    },
    {
     "name": "stdout",
     "output_type": "stream",
     "text": [
      "Plotting labels to runs\\detect\\train38\\labels.jpg... \n",
      "\u001b[34m\u001b[1moptimizer:\u001b[0m AdamW(lr=0.001, momentum=0.937) with parameter groups 57 weight(decay=0.0), 64 weight(decay=0.0009375), 63 bias(decay=0.0)\n",
      "Image sizes 1280 train, 1280 val\n",
      "Using 6 dataloader workers\n",
      "Logging results to \u001b[1mruns\\detect\\train38\u001b[0m\n",
      "Starting training for 100 epochs...\n",
      "\n",
      "      Epoch    GPU_mem   box_loss   cls_loss   dfl_loss  Instances       Size\n"
     ]
    },
    {
     "name": "stderr",
     "output_type": "stream",
     "text": [
      "      1/100      8.69G      1.878     0.9558      1.662         17       1280: 100%|██████████| 80/80 [00:22<00:00,  3.\n",
      "                 Class     Images  Instances      Box(P          R      mAP50  mAP50-95): 100%|██████████| 10/10 [00:01"
     ]
    },
    {
     "name": "stdout",
     "output_type": "stream",
     "text": [
      "                   all        200        353      0.901      0.768      0.825      0.442\n"
     ]
    },
    {
     "name": "stderr",
     "output_type": "stream",
     "text": [
      "\n"
     ]
    },
    {
     "name": "stdout",
     "output_type": "stream",
     "text": [
      "\n",
      "      Epoch    GPU_mem   box_loss   cls_loss   dfl_loss  Instances       Size\n"
     ]
    },
    {
     "name": "stderr",
     "output_type": "stream",
     "text": [
      "      2/100      8.76G      1.815      0.876      1.626         11       1280: 100%|██████████| 80/80 [00:20<00:00,  3.\n",
      "                 Class     Images  Instances      Box(P          R      mAP50  mAP50-95): 100%|██████████| 10/10 [00:01"
     ]
    },
    {
     "name": "stdout",
     "output_type": "stream",
     "text": [
      "                   all        200        353      0.902      0.768      0.827      0.447\n"
     ]
    },
    {
     "name": "stderr",
     "output_type": "stream",
     "text": [
      "\n"
     ]
    },
    {
     "name": "stdout",
     "output_type": "stream",
     "text": [
      "\n",
      "      Epoch    GPU_mem   box_loss   cls_loss   dfl_loss  Instances       Size\n"
     ]
    },
    {
     "name": "stderr",
     "output_type": "stream",
     "text": [
      "      3/100      8.76G      1.777     0.8435      1.603         26       1280: 100%|██████████| 80/80 [00:25<00:00,  3.\n",
      "                 Class     Images  Instances      Box(P          R      mAP50  mAP50-95): 100%|██████████| 10/10 [00:02"
     ]
    },
    {
     "name": "stdout",
     "output_type": "stream",
     "text": [
      "                   all        200        353      0.933      0.754      0.846      0.462\n"
     ]
    },
    {
     "name": "stderr",
     "output_type": "stream",
     "text": [
      "\n"
     ]
    },
    {
     "name": "stdout",
     "output_type": "stream",
     "text": [
      "\n",
      "      Epoch    GPU_mem   box_loss   cls_loss   dfl_loss  Instances       Size\n"
     ]
    },
    {
     "name": "stderr",
     "output_type": "stream",
     "text": [
      "      4/100      8.76G      1.729     0.8026      1.581         15       1280: 100%|██████████| 80/80 [00:31<00:00,  2.\n",
      "                 Class     Images  Instances      Box(P          R      mAP50  mAP50-95): 100%|██████████| 10/10 [00:02"
     ]
    },
    {
     "name": "stdout",
     "output_type": "stream",
     "text": [
      "                   all        200        353      0.907      0.772      0.853      0.476\n"
     ]
    },
    {
     "name": "stderr",
     "output_type": "stream",
     "text": [
      "\n"
     ]
    },
    {
     "name": "stdout",
     "output_type": "stream",
     "text": [
      "\n",
      "      Epoch    GPU_mem   box_loss   cls_loss   dfl_loss  Instances       Size\n"
     ]
    },
    {
     "name": "stderr",
     "output_type": "stream",
     "text": [
      "      5/100      8.76G      1.706     0.7887      1.585         16       1280: 100%|██████████| 80/80 [00:22<00:00,  3.\n",
      "                 Class     Images  Instances      Box(P          R      mAP50  mAP50-95): 100%|██████████| 10/10 [00:02"
     ]
    },
    {
     "name": "stdout",
     "output_type": "stream",
     "text": [
      "                   all        200        353      0.894      0.793      0.847      0.462\n"
     ]
    },
    {
     "name": "stderr",
     "output_type": "stream",
     "text": [
      "\n"
     ]
    },
    {
     "name": "stdout",
     "output_type": "stream",
     "text": [
      "\n",
      "      Epoch    GPU_mem   box_loss   cls_loss   dfl_loss  Instances       Size\n"
     ]
    },
    {
     "name": "stderr",
     "output_type": "stream",
     "text": [
      "      6/100      8.79G      1.706     0.7685      1.573         23       1280: 100%|██████████| 80/80 [02:03<00:00,  1.\n",
      "                 Class     Images  Instances      Box(P          R      mAP50  mAP50-95): 100%|██████████| 10/10 [00:02"
     ]
    },
    {
     "name": "stdout",
     "output_type": "stream",
     "text": [
      "                   all        200        353      0.905      0.812       0.87      0.477\n"
     ]
    },
    {
     "name": "stderr",
     "output_type": "stream",
     "text": [
      "\n"
     ]
    },
    {
     "name": "stdout",
     "output_type": "stream",
     "text": [
      "\n",
      "      Epoch    GPU_mem   box_loss   cls_loss   dfl_loss  Instances       Size\n"
     ]
    },
    {
     "name": "stderr",
     "output_type": "stream",
     "text": [
      "      7/100      8.76G      1.717     0.7612      1.565         25       1280: 100%|██████████| 80/80 [00:22<00:00,  3.\n",
      "                 Class     Images  Instances      Box(P          R      mAP50  mAP50-95): 100%|██████████| 10/10 [00:01"
     ]
    },
    {
     "name": "stdout",
     "output_type": "stream",
     "text": [
      "                   all        200        353      0.916      0.806      0.873      0.517\n"
     ]
    },
    {
     "name": "stderr",
     "output_type": "stream",
     "text": [
      "\n"
     ]
    },
    {
     "name": "stdout",
     "output_type": "stream",
     "text": [
      "\n",
      "      Epoch    GPU_mem   box_loss   cls_loss   dfl_loss  Instances       Size\n"
     ]
    },
    {
     "name": "stderr",
     "output_type": "stream",
     "text": [
      "      8/100      8.79G      1.704     0.7694      1.559         16       1280: 100%|██████████| 80/80 [00:20<00:00,  3.\n",
      "                 Class     Images  Instances      Box(P          R      mAP50  mAP50-95): 100%|██████████| 10/10 [00:01"
     ]
    },
    {
     "name": "stdout",
     "output_type": "stream",
     "text": [
      "                   all        200        353      0.873       0.78      0.857      0.483\n"
     ]
    },
    {
     "name": "stderr",
     "output_type": "stream",
     "text": [
      "\n"
     ]
    },
    {
     "name": "stdout",
     "output_type": "stream",
     "text": [
      "\n",
      "      Epoch    GPU_mem   box_loss   cls_loss   dfl_loss  Instances       Size\n"
     ]
    },
    {
     "name": "stderr",
     "output_type": "stream",
     "text": [
      "      9/100      8.79G      1.618     0.7224      1.541         12       1280: 100%|██████████| 80/80 [00:21<00:00,  3.\n",
      "                 Class     Images  Instances      Box(P          R      mAP50  mAP50-95): 100%|██████████| 10/10 [00:01"
     ]
    },
    {
     "name": "stdout",
     "output_type": "stream",
     "text": [
      "                   all        200        353       0.91      0.782      0.868      0.479\n"
     ]
    },
    {
     "name": "stderr",
     "output_type": "stream",
     "text": [
      "\n"
     ]
    },
    {
     "name": "stdout",
     "output_type": "stream",
     "text": [
      "\n",
      "      Epoch    GPU_mem   box_loss   cls_loss   dfl_loss  Instances       Size\n"
     ]
    },
    {
     "name": "stderr",
     "output_type": "stream",
     "text": [
      "     10/100      8.76G      1.661     0.7468      1.553         29       1280: 100%|██████████| 80/80 [00:20<00:00,  3.\n",
      "                 Class     Images  Instances      Box(P          R      mAP50  mAP50-95): 100%|██████████| 10/10 [00:01"
     ]
    },
    {
     "name": "stdout",
     "output_type": "stream",
     "text": [
      "                   all        200        353      0.914      0.786       0.87      0.489\n"
     ]
    },
    {
     "name": "stderr",
     "output_type": "stream",
     "text": [
      "\n"
     ]
    },
    {
     "name": "stdout",
     "output_type": "stream",
     "text": [
      "\n",
      "      Epoch    GPU_mem   box_loss   cls_loss   dfl_loss  Instances       Size\n"
     ]
    },
    {
     "name": "stderr",
     "output_type": "stream",
     "text": [
      "     11/100      8.79G      1.682     0.7384      1.549         12       1280: 100%|██████████| 80/80 [00:20<00:00,  3.\n",
      "                 Class     Images  Instances      Box(P          R      mAP50  mAP50-95): 100%|██████████| 10/10 [00:01"
     ]
    },
    {
     "name": "stdout",
     "output_type": "stream",
     "text": [
      "                   all        200        353      0.906      0.836      0.885      0.494\n"
     ]
    },
    {
     "name": "stderr",
     "output_type": "stream",
     "text": [
      "\n"
     ]
    },
    {
     "name": "stdout",
     "output_type": "stream",
     "text": [
      "\n",
      "      Epoch    GPU_mem   box_loss   cls_loss   dfl_loss  Instances       Size\n"
     ]
    },
    {
     "name": "stderr",
     "output_type": "stream",
     "text": [
      "     12/100      8.81G      1.627     0.7339       1.55         20       1280: 100%|██████████| 80/80 [00:27<00:00,  2.\n",
      "                 Class     Images  Instances      Box(P          R      mAP50  mAP50-95): 100%|██████████| 10/10 [00:02"
     ]
    },
    {
     "name": "stdout",
     "output_type": "stream",
     "text": [
      "                   all        200        353      0.914      0.807      0.868      0.494\n"
     ]
    },
    {
     "name": "stderr",
     "output_type": "stream",
     "text": [
      "\n"
     ]
    },
    {
     "name": "stdout",
     "output_type": "stream",
     "text": [
      "\n",
      "      Epoch    GPU_mem   box_loss   cls_loss   dfl_loss  Instances       Size\n"
     ]
    },
    {
     "name": "stderr",
     "output_type": "stream",
     "text": [
      "     13/100      8.75G      1.614     0.7371      1.536         14       1280: 100%|██████████| 80/80 [00:20<00:00,  3.\n",
      "                 Class     Images  Instances      Box(P          R      mAP50  mAP50-95): 100%|██████████| 10/10 [00:02"
     ]
    },
    {
     "name": "stdout",
     "output_type": "stream",
     "text": [
      "                   all        200        353      0.927       0.79      0.885      0.508\n"
     ]
    },
    {
     "name": "stderr",
     "output_type": "stream",
     "text": [
      "\n"
     ]
    },
    {
     "name": "stdout",
     "output_type": "stream",
     "text": [
      "\n",
      "      Epoch    GPU_mem   box_loss   cls_loss   dfl_loss  Instances       Size\n"
     ]
    },
    {
     "name": "stderr",
     "output_type": "stream",
     "text": [
      "     14/100      8.79G      1.623     0.7141      1.555         21       1280: 100%|██████████| 80/80 [00:21<00:00,  3.\n",
      "                 Class     Images  Instances      Box(P          R      mAP50  mAP50-95): 100%|██████████| 10/10 [00:01"
     ]
    },
    {
     "name": "stdout",
     "output_type": "stream",
     "text": [
      "                   all        200        353      0.944       0.81      0.886      0.511\n"
     ]
    },
    {
     "name": "stderr",
     "output_type": "stream",
     "text": [
      "\n"
     ]
    },
    {
     "name": "stdout",
     "output_type": "stream",
     "text": [
      "\n",
      "      Epoch    GPU_mem   box_loss   cls_loss   dfl_loss  Instances       Size\n"
     ]
    },
    {
     "name": "stderr",
     "output_type": "stream",
     "text": [
      "     15/100      8.79G      1.638     0.7162      1.551         24       1280: 100%|██████████| 80/80 [00:20<00:00,  3.\n",
      "                 Class     Images  Instances      Box(P          R      mAP50  mAP50-95): 100%|██████████| 10/10 [00:01"
     ]
    },
    {
     "name": "stdout",
     "output_type": "stream",
     "text": [
      "                   all        200        353      0.903      0.773      0.861      0.488\n"
     ]
    },
    {
     "name": "stderr",
     "output_type": "stream",
     "text": [
      "\n"
     ]
    },
    {
     "name": "stdout",
     "output_type": "stream",
     "text": [
      "\n",
      "      Epoch    GPU_mem   box_loss   cls_loss   dfl_loss  Instances       Size\n"
     ]
    },
    {
     "name": "stderr",
     "output_type": "stream",
     "text": [
      "     16/100      8.76G      1.627     0.7067      1.554         18       1280: 100%|██████████| 80/80 [00:20<00:00,  3.\n",
      "                 Class     Images  Instances      Box(P          R      mAP50  mAP50-95): 100%|██████████| 10/10 [00:02"
     ]
    },
    {
     "name": "stdout",
     "output_type": "stream",
     "text": [
      "                   all        200        353      0.921      0.796      0.875      0.528\n"
     ]
    },
    {
     "name": "stderr",
     "output_type": "stream",
     "text": [
      "\n"
     ]
    },
    {
     "name": "stdout",
     "output_type": "stream",
     "text": [
      "\n",
      "      Epoch    GPU_mem   box_loss   cls_loss   dfl_loss  Instances       Size\n"
     ]
    },
    {
     "name": "stderr",
     "output_type": "stream",
     "text": [
      "     17/100      8.79G      1.572      0.699      1.512         21       1280: 100%|██████████| 80/80 [00:20<00:00,  3.\n",
      "                 Class     Images  Instances      Box(P          R      mAP50  mAP50-95): 100%|██████████| 10/10 [00:02"
     ]
    },
    {
     "name": "stdout",
     "output_type": "stream",
     "text": [
      "                   all        200        353      0.928      0.768      0.866      0.511\n"
     ]
    },
    {
     "name": "stderr",
     "output_type": "stream",
     "text": [
      "\n"
     ]
    },
    {
     "name": "stdout",
     "output_type": "stream",
     "text": [
      "\n",
      "      Epoch    GPU_mem   box_loss   cls_loss   dfl_loss  Instances       Size\n"
     ]
    },
    {
     "name": "stderr",
     "output_type": "stream",
     "text": [
      "     18/100      8.79G      1.572     0.7045      1.531         29       1280: 100%|██████████| 80/80 [00:20<00:00,  3.\n",
      "                 Class     Images  Instances      Box(P          R      mAP50  mAP50-95): 100%|██████████| 10/10 [00:02"
     ]
    },
    {
     "name": "stdout",
     "output_type": "stream",
     "text": [
      "                   all        200        353      0.916      0.802       0.88      0.516\n"
     ]
    },
    {
     "name": "stderr",
     "output_type": "stream",
     "text": [
      "\n"
     ]
    },
    {
     "name": "stdout",
     "output_type": "stream",
     "text": [
      "\n",
      "      Epoch    GPU_mem   box_loss   cls_loss   dfl_loss  Instances       Size\n"
     ]
    },
    {
     "name": "stderr",
     "output_type": "stream",
     "text": [
      "     19/100      8.76G      1.559     0.6778      1.518         19       1280: 100%|██████████| 80/80 [00:21<00:00,  3.\n",
      "                 Class     Images  Instances      Box(P          R      mAP50  mAP50-95): 100%|██████████| 10/10 [00:02"
     ]
    },
    {
     "name": "stdout",
     "output_type": "stream",
     "text": [
      "                   all        200        353      0.919      0.819      0.891      0.512\n"
     ]
    },
    {
     "name": "stderr",
     "output_type": "stream",
     "text": [
      "\n"
     ]
    },
    {
     "name": "stdout",
     "output_type": "stream",
     "text": [
      "\n",
      "      Epoch    GPU_mem   box_loss   cls_loss   dfl_loss  Instances       Size\n"
     ]
    },
    {
     "name": "stderr",
     "output_type": "stream",
     "text": [
      "     20/100      8.79G      1.556     0.6764      1.514         18       1280: 100%|██████████| 80/80 [00:21<00:00,  3.\n",
      "                 Class     Images  Instances      Box(P          R      mAP50  mAP50-95): 100%|██████████| 10/10 [00:02"
     ]
    },
    {
     "name": "stdout",
     "output_type": "stream",
     "text": [
      "                   all        200        353      0.928      0.822      0.877      0.513\n"
     ]
    },
    {
     "name": "stderr",
     "output_type": "stream",
     "text": [
      "\n"
     ]
    },
    {
     "name": "stdout",
     "output_type": "stream",
     "text": [
      "\n",
      "      Epoch    GPU_mem   box_loss   cls_loss   dfl_loss  Instances       Size\n"
     ]
    },
    {
     "name": "stderr",
     "output_type": "stream",
     "text": [
      "     21/100      8.79G      1.581     0.6965      1.516         26       1280: 100%|██████████| 80/80 [00:21<00:00,  3.\n",
      "                 Class     Images  Instances      Box(P          R      mAP50  mAP50-95): 100%|██████████| 10/10 [00:01"
     ]
    },
    {
     "name": "stdout",
     "output_type": "stream",
     "text": [
      "                   all        200        353      0.911      0.788       0.87      0.512\n"
     ]
    },
    {
     "name": "stderr",
     "output_type": "stream",
     "text": [
      "\n"
     ]
    },
    {
     "name": "stdout",
     "output_type": "stream",
     "text": [
      "\n",
      "      Epoch    GPU_mem   box_loss   cls_loss   dfl_loss  Instances       Size\n"
     ]
    },
    {
     "name": "stderr",
     "output_type": "stream",
     "text": [
      "     22/100      8.76G      1.631     0.7083      1.536         13       1280: 100%|██████████| 80/80 [00:20<00:00,  3.\n",
      "                 Class     Images  Instances      Box(P          R      mAP50  mAP50-95): 100%|██████████| 10/10 [00:01"
     ]
    },
    {
     "name": "stdout",
     "output_type": "stream",
     "text": [
      "                   all        200        353      0.921      0.836      0.899      0.534\n"
     ]
    },
    {
     "name": "stderr",
     "output_type": "stream",
     "text": [
      "\n"
     ]
    },
    {
     "name": "stdout",
     "output_type": "stream",
     "text": [
      "\n",
      "      Epoch    GPU_mem   box_loss   cls_loss   dfl_loss  Instances       Size\n"
     ]
    },
    {
     "name": "stderr",
     "output_type": "stream",
     "text": [
      "     23/100      8.79G      1.556     0.6813      1.514         31       1280: 100%|██████████| 80/80 [00:21<00:00,  3.\n",
      "                 Class     Images  Instances      Box(P          R      mAP50  mAP50-95): 100%|██████████| 10/10 [00:01"
     ]
    },
    {
     "name": "stdout",
     "output_type": "stream",
     "text": [
      "                   all        200        353      0.923      0.802       0.88      0.509\n"
     ]
    },
    {
     "name": "stderr",
     "output_type": "stream",
     "text": [
      "\n"
     ]
    },
    {
     "name": "stdout",
     "output_type": "stream",
     "text": [
      "\n",
      "      Epoch    GPU_mem   box_loss   cls_loss   dfl_loss  Instances       Size\n"
     ]
    },
    {
     "name": "stderr",
     "output_type": "stream",
     "text": [
      "     24/100      8.79G      1.582     0.6724      1.523         30       1280: 100%|██████████| 80/80 [00:28<00:00,  2.\n",
      "                 Class     Images  Instances      Box(P          R      mAP50  mAP50-95): 100%|██████████| 10/10 [00:01"
     ]
    },
    {
     "name": "stdout",
     "output_type": "stream",
     "text": [
      "                   all        200        353      0.951      0.831      0.904       0.51\n"
     ]
    },
    {
     "name": "stderr",
     "output_type": "stream",
     "text": [
      "\n"
     ]
    },
    {
     "name": "stdout",
     "output_type": "stream",
     "text": [
      "\n",
      "      Epoch    GPU_mem   box_loss   cls_loss   dfl_loss  Instances       Size\n"
     ]
    },
    {
     "name": "stderr",
     "output_type": "stream",
     "text": [
      "     25/100      8.76G      1.559     0.6781      1.511         16       1280: 100%|██████████| 80/80 [00:20<00:00,  3.\n",
      "                 Class     Images  Instances      Box(P          R      mAP50  mAP50-95): 100%|██████████| 10/10 [00:01"
     ]
    },
    {
     "name": "stdout",
     "output_type": "stream",
     "text": [
      "                   all        200        353      0.949      0.845      0.898      0.503\n"
     ]
    },
    {
     "name": "stderr",
     "output_type": "stream",
     "text": [
      "\n"
     ]
    },
    {
     "name": "stdout",
     "output_type": "stream",
     "text": [
      "\n",
      "      Epoch    GPU_mem   box_loss   cls_loss   dfl_loss  Instances       Size\n"
     ]
    },
    {
     "name": "stderr",
     "output_type": "stream",
     "text": [
      "     26/100      8.79G       1.54     0.6747      1.517         16       1280: 100%|██████████| 80/80 [00:20<00:00,  3.\n",
      "                 Class     Images  Instances      Box(P          R      mAP50  mAP50-95): 100%|██████████| 10/10 [00:01"
     ]
    },
    {
     "name": "stdout",
     "output_type": "stream",
     "text": [
      "                   all        200        353      0.936      0.783      0.889      0.499\n"
     ]
    },
    {
     "name": "stderr",
     "output_type": "stream",
     "text": [
      "\n"
     ]
    },
    {
     "name": "stdout",
     "output_type": "stream",
     "text": [
      "\n",
      "      Epoch    GPU_mem   box_loss   cls_loss   dfl_loss  Instances       Size\n"
     ]
    },
    {
     "name": "stderr",
     "output_type": "stream",
     "text": [
      "     27/100      8.79G      1.551     0.6731      1.523          9       1280: 100%|██████████| 80/80 [00:20<00:00,  3.\n",
      "                 Class     Images  Instances      Box(P          R      mAP50  mAP50-95): 100%|██████████| 10/10 [00:01"
     ]
    },
    {
     "name": "stdout",
     "output_type": "stream",
     "text": [
      "                   all        200        353      0.932      0.856       0.91      0.538\n"
     ]
    },
    {
     "name": "stderr",
     "output_type": "stream",
     "text": [
      "\n"
     ]
    },
    {
     "name": "stdout",
     "output_type": "stream",
     "text": [
      "\n",
      "      Epoch    GPU_mem   box_loss   cls_loss   dfl_loss  Instances       Size\n"
     ]
    },
    {
     "name": "stderr",
     "output_type": "stream",
     "text": [
      "     28/100      8.76G      1.531      0.693       1.51         19       1280: 100%|██████████| 80/80 [00:20<00:00,  3.\n",
      "                 Class     Images  Instances      Box(P          R      mAP50  mAP50-95): 100%|██████████| 10/10 [00:01"
     ]
    },
    {
     "name": "stdout",
     "output_type": "stream",
     "text": [
      "                   all        200        353      0.947      0.833      0.906      0.541\n"
     ]
    },
    {
     "name": "stderr",
     "output_type": "stream",
     "text": [
      "\n"
     ]
    },
    {
     "name": "stdout",
     "output_type": "stream",
     "text": [
      "\n",
      "      Epoch    GPU_mem   box_loss   cls_loss   dfl_loss  Instances       Size\n"
     ]
    },
    {
     "name": "stderr",
     "output_type": "stream",
     "text": [
      "     29/100      8.79G      1.575     0.6689       1.52         14       1280: 100%|██████████| 80/80 [00:21<00:00,  3.\n",
      "                 Class     Images  Instances      Box(P          R      mAP50  mAP50-95): 100%|██████████| 10/10 [00:01"
     ]
    },
    {
     "name": "stdout",
     "output_type": "stream",
     "text": [
      "                   all        200        353      0.915      0.849      0.894      0.499\n"
     ]
    },
    {
     "name": "stderr",
     "output_type": "stream",
     "text": [
      "\n"
     ]
    },
    {
     "name": "stdout",
     "output_type": "stream",
     "text": [
      "\n",
      "      Epoch    GPU_mem   box_loss   cls_loss   dfl_loss  Instances       Size\n"
     ]
    },
    {
     "name": "stderr",
     "output_type": "stream",
     "text": [
      "     30/100      8.79G      1.525     0.6683      1.502          6       1280: 100%|██████████| 80/80 [00:28<00:00,  2.\n",
      "                 Class     Images  Instances      Box(P          R      mAP50  mAP50-95): 100%|██████████| 10/10 [00:01"
     ]
    },
    {
     "name": "stdout",
     "output_type": "stream",
     "text": [
      "                   all        200        353      0.943       0.85      0.919      0.516\n"
     ]
    },
    {
     "name": "stderr",
     "output_type": "stream",
     "text": [
      "\n"
     ]
    },
    {
     "name": "stdout",
     "output_type": "stream",
     "text": [
      "\n",
      "      Epoch    GPU_mem   box_loss   cls_loss   dfl_loss  Instances       Size\n"
     ]
    },
    {
     "name": "stderr",
     "output_type": "stream",
     "text": [
      "     31/100      8.76G      1.555     0.6607      1.516         11       1280: 100%|██████████| 80/80 [00:20<00:00,  3.\n",
      "                 Class     Images  Instances      Box(P          R      mAP50  mAP50-95): 100%|██████████| 10/10 [00:01"
     ]
    },
    {
     "name": "stdout",
     "output_type": "stream",
     "text": [
      "                   all        200        353      0.949      0.853      0.912      0.531\n"
     ]
    },
    {
     "name": "stderr",
     "output_type": "stream",
     "text": [
      "\n"
     ]
    },
    {
     "name": "stdout",
     "output_type": "stream",
     "text": [
      "\n",
      "      Epoch    GPU_mem   box_loss   cls_loss   dfl_loss  Instances       Size\n"
     ]
    },
    {
     "name": "stderr",
     "output_type": "stream",
     "text": [
      "     32/100      8.79G      1.529     0.6588      1.504         16       1280: 100%|██████████| 80/80 [00:20<00:00,  3.\n",
      "                 Class     Images  Instances      Box(P          R      mAP50  mAP50-95): 100%|██████████| 10/10 [00:01"
     ]
    },
    {
     "name": "stdout",
     "output_type": "stream",
     "text": [
      "                   all        200        353      0.932      0.854      0.911      0.531\n"
     ]
    },
    {
     "name": "stderr",
     "output_type": "stream",
     "text": [
      "\n"
     ]
    },
    {
     "name": "stdout",
     "output_type": "stream",
     "text": [
      "\n",
      "      Epoch    GPU_mem   box_loss   cls_loss   dfl_loss  Instances       Size\n"
     ]
    },
    {
     "name": "stderr",
     "output_type": "stream",
     "text": [
      "     33/100      8.79G      1.531     0.6717        1.5         12       1280: 100%|██████████| 80/80 [00:20<00:00,  3.\n",
      "                 Class     Images  Instances      Box(P          R      mAP50  mAP50-95): 100%|██████████| 10/10 [00:02"
     ]
    },
    {
     "name": "stdout",
     "output_type": "stream",
     "text": [
      "                   all        200        353      0.948      0.839       0.91      0.562\n"
     ]
    },
    {
     "name": "stderr",
     "output_type": "stream",
     "text": [
      "\n"
     ]
    },
    {
     "name": "stdout",
     "output_type": "stream",
     "text": [
      "\n",
      "      Epoch    GPU_mem   box_loss   cls_loss   dfl_loss  Instances       Size\n"
     ]
    },
    {
     "name": "stderr",
     "output_type": "stream",
     "text": [
      "     34/100      8.76G       1.51     0.6467      1.495         21       1280: 100%|██████████| 80/80 [00:20<00:00,  3.\n",
      "                 Class     Images  Instances      Box(P          R      mAP50  mAP50-95): 100%|██████████| 10/10 [00:01"
     ]
    },
    {
     "name": "stdout",
     "output_type": "stream",
     "text": [
      "                   all        200        353      0.971      0.851      0.917      0.521\n"
     ]
    },
    {
     "name": "stderr",
     "output_type": "stream",
     "text": [
      "\n"
     ]
    },
    {
     "name": "stdout",
     "output_type": "stream",
     "text": [
      "\n",
      "      Epoch    GPU_mem   box_loss   cls_loss   dfl_loss  Instances       Size\n"
     ]
    },
    {
     "name": "stderr",
     "output_type": "stream",
     "text": [
      "     35/100      8.79G      1.538     0.6481      1.514         28       1280: 100%|██████████| 80/80 [00:20<00:00,  3.\n",
      "                 Class     Images  Instances      Box(P          R      mAP50  mAP50-95): 100%|██████████| 10/10 [00:01"
     ]
    },
    {
     "name": "stdout",
     "output_type": "stream",
     "text": [
      "                   all        200        353      0.946      0.847      0.902      0.517\n"
     ]
    },
    {
     "name": "stderr",
     "output_type": "stream",
     "text": [
      "\n"
     ]
    },
    {
     "name": "stdout",
     "output_type": "stream",
     "text": [
      "\n",
      "      Epoch    GPU_mem   box_loss   cls_loss   dfl_loss  Instances       Size\n"
     ]
    },
    {
     "name": "stderr",
     "output_type": "stream",
     "text": [
      "     36/100      8.79G      1.503     0.6453      1.505         22       1280: 100%|██████████| 80/80 [00:20<00:00,  3.\n",
      "                 Class     Images  Instances      Box(P          R      mAP50  mAP50-95): 100%|██████████| 10/10 [00:01"
     ]
    },
    {
     "name": "stdout",
     "output_type": "stream",
     "text": [
      "                   all        200        353       0.94      0.844      0.907      0.528\n"
     ]
    },
    {
     "name": "stderr",
     "output_type": "stream",
     "text": [
      "\n"
     ]
    },
    {
     "name": "stdout",
     "output_type": "stream",
     "text": [
      "\n",
      "      Epoch    GPU_mem   box_loss   cls_loss   dfl_loss  Instances       Size\n"
     ]
    },
    {
     "name": "stderr",
     "output_type": "stream",
     "text": [
      "     37/100      8.76G      1.536     0.6378      1.502         24       1280: 100%|██████████| 80/80 [00:20<00:00,  3.\n",
      "                 Class     Images  Instances      Box(P          R      mAP50  mAP50-95): 100%|██████████| 10/10 [00:01"
     ]
    },
    {
     "name": "stdout",
     "output_type": "stream",
     "text": [
      "                   all        200        353      0.955      0.844      0.913      0.562\n"
     ]
    },
    {
     "name": "stderr",
     "output_type": "stream",
     "text": [
      "\n"
     ]
    },
    {
     "name": "stdout",
     "output_type": "stream",
     "text": [
      "\n",
      "      Epoch    GPU_mem   box_loss   cls_loss   dfl_loss  Instances       Size\n"
     ]
    },
    {
     "name": "stderr",
     "output_type": "stream",
     "text": [
      "     38/100      8.79G      1.518     0.6421      1.497         30       1280: 100%|██████████| 80/80 [00:20<00:00,  3.\n",
      "                 Class     Images  Instances      Box(P          R      mAP50  mAP50-95): 100%|██████████| 10/10 [00:01"
     ]
    },
    {
     "name": "stdout",
     "output_type": "stream",
     "text": [
      "                   all        200        353      0.965      0.839      0.915      0.539\n"
     ]
    },
    {
     "name": "stderr",
     "output_type": "stream",
     "text": [
      "\n"
     ]
    },
    {
     "name": "stdout",
     "output_type": "stream",
     "text": [
      "\n",
      "      Epoch    GPU_mem   box_loss   cls_loss   dfl_loss  Instances       Size\n"
     ]
    },
    {
     "name": "stderr",
     "output_type": "stream",
     "text": [
      "     39/100      8.79G      1.457     0.6332      1.482         23       1280: 100%|██████████| 80/80 [00:20<00:00,  3.\n",
      "                 Class     Images  Instances      Box(P          R      mAP50  mAP50-95): 100%|██████████| 10/10 [00:01"
     ]
    },
    {
     "name": "stdout",
     "output_type": "stream",
     "text": [
      "                   all        200        353      0.928      0.844      0.898      0.537\n"
     ]
    },
    {
     "name": "stderr",
     "output_type": "stream",
     "text": [
      "\n"
     ]
    },
    {
     "name": "stdout",
     "output_type": "stream",
     "text": [
      "\n",
      "      Epoch    GPU_mem   box_loss   cls_loss   dfl_loss  Instances       Size\n"
     ]
    },
    {
     "name": "stderr",
     "output_type": "stream",
     "text": [
      "     40/100      8.76G      1.472     0.6282      1.488         27       1280: 100%|██████████| 80/80 [00:20<00:00,  3.\n",
      "                 Class     Images  Instances      Box(P          R      mAP50  mAP50-95): 100%|██████████| 10/10 [00:01"
     ]
    },
    {
     "name": "stdout",
     "output_type": "stream",
     "text": [
      "                   all        200        353      0.959       0.85      0.922      0.547\n"
     ]
    },
    {
     "name": "stderr",
     "output_type": "stream",
     "text": [
      "\n"
     ]
    },
    {
     "name": "stdout",
     "output_type": "stream",
     "text": [
      "\n",
      "      Epoch    GPU_mem   box_loss   cls_loss   dfl_loss  Instances       Size\n"
     ]
    },
    {
     "name": "stderr",
     "output_type": "stream",
     "text": [
      "     41/100      8.79G      1.463     0.6164      1.485         14       1280: 100%|██████████| 80/80 [00:20<00:00,  3.\n",
      "                 Class     Images  Instances      Box(P          R      mAP50  mAP50-95): 100%|██████████| 10/10 [00:01"
     ]
    },
    {
     "name": "stdout",
     "output_type": "stream",
     "text": [
      "                   all        200        353      0.926      0.839      0.912      0.552\n"
     ]
    },
    {
     "name": "stderr",
     "output_type": "stream",
     "text": [
      "\n"
     ]
    },
    {
     "name": "stdout",
     "output_type": "stream",
     "text": [
      "\n",
      "      Epoch    GPU_mem   box_loss   cls_loss   dfl_loss  Instances       Size\n"
     ]
    },
    {
     "name": "stderr",
     "output_type": "stream",
     "text": [
      "     42/100      8.79G      1.524     0.6329      1.502         18       1280: 100%|██████████| 80/80 [00:20<00:00,  3.\n",
      "                 Class     Images  Instances      Box(P          R      mAP50  mAP50-95): 100%|██████████| 10/10 [00:01"
     ]
    },
    {
     "name": "stdout",
     "output_type": "stream",
     "text": [
      "                   all        200        353      0.951      0.832      0.909       0.56\n"
     ]
    },
    {
     "name": "stderr",
     "output_type": "stream",
     "text": [
      "\n"
     ]
    },
    {
     "name": "stdout",
     "output_type": "stream",
     "text": [
      "\n",
      "      Epoch    GPU_mem   box_loss   cls_loss   dfl_loss  Instances       Size\n"
     ]
    },
    {
     "name": "stderr",
     "output_type": "stream",
     "text": [
      "     43/100      8.76G      1.551     0.6441      1.508         23       1280: 100%|██████████| 80/80 [00:20<00:00,  3.\n",
      "                 Class     Images  Instances      Box(P          R      mAP50  mAP50-95): 100%|██████████| 10/10 [00:02"
     ]
    },
    {
     "name": "stdout",
     "output_type": "stream",
     "text": [
      "                   all        200        353      0.931      0.842      0.901      0.555\n"
     ]
    },
    {
     "name": "stderr",
     "output_type": "stream",
     "text": [
      "\n"
     ]
    },
    {
     "name": "stdout",
     "output_type": "stream",
     "text": [
      "\n",
      "      Epoch    GPU_mem   box_loss   cls_loss   dfl_loss  Instances       Size\n"
     ]
    },
    {
     "name": "stderr",
     "output_type": "stream",
     "text": [
      "     44/100      8.79G      1.467     0.6223      1.492         14       1280: 100%|██████████| 80/80 [00:23<00:00,  3.\n",
      "                 Class     Images  Instances      Box(P          R      mAP50  mAP50-95): 100%|██████████| 10/10 [00:02"
     ]
    },
    {
     "name": "stdout",
     "output_type": "stream",
     "text": [
      "                   all        200        353      0.948      0.878      0.915      0.553\n"
     ]
    },
    {
     "name": "stderr",
     "output_type": "stream",
     "text": [
      "\n"
     ]
    },
    {
     "name": "stdout",
     "output_type": "stream",
     "text": [
      "\n",
      "      Epoch    GPU_mem   box_loss   cls_loss   dfl_loss  Instances       Size\n"
     ]
    },
    {
     "name": "stderr",
     "output_type": "stream",
     "text": [
      "     45/100      8.79G       1.48     0.6098      1.506         26       1280: 100%|██████████| 80/80 [00:21<00:00,  3.\n",
      "                 Class     Images  Instances      Box(P          R      mAP50  mAP50-95): 100%|██████████| 10/10 [00:01"
     ]
    },
    {
     "name": "stdout",
     "output_type": "stream",
     "text": [
      "                   all        200        353      0.947      0.856      0.921      0.556\n"
     ]
    },
    {
     "name": "stderr",
     "output_type": "stream",
     "text": [
      "\n"
     ]
    },
    {
     "name": "stdout",
     "output_type": "stream",
     "text": [
      "\n",
      "      Epoch    GPU_mem   box_loss   cls_loss   dfl_loss  Instances       Size\n"
     ]
    },
    {
     "name": "stderr",
     "output_type": "stream",
     "text": [
      "     46/100      8.73G      1.445     0.6132      1.474         12       1280: 100%|██████████| 80/80 [00:20<00:00,  3.\n",
      "                 Class     Images  Instances      Box(P          R      mAP50  mAP50-95): 100%|██████████| 10/10 [00:01"
     ]
    },
    {
     "name": "stdout",
     "output_type": "stream",
     "text": [
      "                   all        200        353      0.937      0.844      0.911      0.536\n"
     ]
    },
    {
     "name": "stderr",
     "output_type": "stream",
     "text": [
      "\n"
     ]
    },
    {
     "name": "stdout",
     "output_type": "stream",
     "text": [
      "\n",
      "      Epoch    GPU_mem   box_loss   cls_loss   dfl_loss  Instances       Size\n"
     ]
    },
    {
     "name": "stderr",
     "output_type": "stream",
     "text": [
      "     47/100      8.79G      1.464     0.6119      1.498         27       1280: 100%|██████████| 80/80 [00:20<00:00,  3.\n",
      "                 Class     Images  Instances      Box(P          R      mAP50  mAP50-95): 100%|██████████| 10/10 [00:02"
     ]
    },
    {
     "name": "stdout",
     "output_type": "stream",
     "text": [
      "                   all        200        353      0.897      0.835      0.887      0.529\n"
     ]
    },
    {
     "name": "stderr",
     "output_type": "stream",
     "text": [
      "\n"
     ]
    },
    {
     "name": "stdout",
     "output_type": "stream",
     "text": [
      "\n",
      "      Epoch    GPU_mem   box_loss   cls_loss   dfl_loss  Instances       Size\n"
     ]
    },
    {
     "name": "stderr",
     "output_type": "stream",
     "text": [
      "     48/100      8.81G      1.492     0.6109      1.484         27       1280: 100%|██████████| 80/80 [00:20<00:00,  3.\n",
      "                 Class     Images  Instances      Box(P          R      mAP50  mAP50-95): 100%|██████████| 10/10 [00:01"
     ]
    },
    {
     "name": "stdout",
     "output_type": "stream",
     "text": [
      "                   all        200        353      0.944      0.878      0.925      0.572\n"
     ]
    },
    {
     "name": "stderr",
     "output_type": "stream",
     "text": [
      "\n"
     ]
    },
    {
     "name": "stdout",
     "output_type": "stream",
     "text": [
      "\n",
      "      Epoch    GPU_mem   box_loss   cls_loss   dfl_loss  Instances       Size\n"
     ]
    },
    {
     "name": "stderr",
     "output_type": "stream",
     "text": [
      "     49/100      8.76G       1.46     0.6139      1.476         14       1280: 100%|██████████| 80/80 [00:20<00:00,  3.\n",
      "                 Class     Images  Instances      Box(P          R      mAP50  mAP50-95): 100%|██████████| 10/10 [00:01"
     ]
    },
    {
     "name": "stdout",
     "output_type": "stream",
     "text": [
      "                   all        200        353      0.885      0.864      0.908      0.555\n"
     ]
    },
    {
     "name": "stderr",
     "output_type": "stream",
     "text": [
      "\n"
     ]
    },
    {
     "name": "stdout",
     "output_type": "stream",
     "text": [
      "\n",
      "      Epoch    GPU_mem   box_loss   cls_loss   dfl_loss  Instances       Size\n"
     ]
    },
    {
     "name": "stderr",
     "output_type": "stream",
     "text": [
      "     50/100      8.79G      1.457     0.6124      1.491         12       1280: 100%|██████████| 80/80 [00:20<00:00,  3.\n",
      "                 Class     Images  Instances      Box(P          R      mAP50  mAP50-95): 100%|██████████| 10/10 [00:02"
     ]
    },
    {
     "name": "stdout",
     "output_type": "stream",
     "text": [
      "                   all        200        353      0.924      0.878      0.926      0.572\n"
     ]
    },
    {
     "name": "stderr",
     "output_type": "stream",
     "text": [
      "\n"
     ]
    },
    {
     "name": "stdout",
     "output_type": "stream",
     "text": [
      "\n",
      "      Epoch    GPU_mem   box_loss   cls_loss   dfl_loss  Instances       Size\n"
     ]
    },
    {
     "name": "stderr",
     "output_type": "stream",
     "text": [
      "     51/100       8.8G      1.459     0.6255      1.477         11       1280: 100%|██████████| 80/80 [00:20<00:00,  3.\n",
      "                 Class     Images  Instances      Box(P          R      mAP50  mAP50-95): 100%|██████████| 10/10 [00:01"
     ]
    },
    {
     "name": "stdout",
     "output_type": "stream",
     "text": [
      "                   all        200        353      0.902      0.856       0.91      0.526\n"
     ]
    },
    {
     "name": "stderr",
     "output_type": "stream",
     "text": [
      "\n"
     ]
    },
    {
     "name": "stdout",
     "output_type": "stream",
     "text": [
      "\n",
      "      Epoch    GPU_mem   box_loss   cls_loss   dfl_loss  Instances       Size\n"
     ]
    },
    {
     "name": "stderr",
     "output_type": "stream",
     "text": [
      "     52/100      8.76G      1.441     0.5993      1.476         20       1280: 100%|██████████| 80/80 [00:20<00:00,  3.\n",
      "                 Class     Images  Instances      Box(P          R      mAP50  mAP50-95): 100%|██████████| 10/10 [00:01"
     ]
    },
    {
     "name": "stdout",
     "output_type": "stream",
     "text": [
      "                   all        200        353      0.927      0.861      0.911      0.562\n"
     ]
    },
    {
     "name": "stderr",
     "output_type": "stream",
     "text": [
      "\n"
     ]
    },
    {
     "name": "stdout",
     "output_type": "stream",
     "text": [
      "\n",
      "      Epoch    GPU_mem   box_loss   cls_loss   dfl_loss  Instances       Size\n"
     ]
    },
    {
     "name": "stderr",
     "output_type": "stream",
     "text": [
      "     53/100      8.79G      1.451      0.603      1.473         35       1280: 100%|██████████| 80/80 [00:20<00:00,  3.\n",
      "                 Class     Images  Instances      Box(P          R      mAP50  mAP50-95): 100%|██████████| 10/10 [00:01"
     ]
    },
    {
     "name": "stdout",
     "output_type": "stream",
     "text": [
      "                   all        200        353       0.93      0.867      0.923      0.563\n"
     ]
    },
    {
     "name": "stderr",
     "output_type": "stream",
     "text": [
      "\n"
     ]
    },
    {
     "name": "stdout",
     "output_type": "stream",
     "text": [
      "\n",
      "      Epoch    GPU_mem   box_loss   cls_loss   dfl_loss  Instances       Size\n"
     ]
    },
    {
     "name": "stderr",
     "output_type": "stream",
     "text": [
      "     54/100      8.79G      1.461     0.5963      1.474         19       1280: 100%|██████████| 80/80 [00:20<00:00,  3.\n",
      "                 Class     Images  Instances      Box(P          R      mAP50  mAP50-95): 100%|██████████| 10/10 [00:01"
     ]
    },
    {
     "name": "stdout",
     "output_type": "stream",
     "text": [
      "                   all        200        353      0.958      0.864      0.924      0.578\n"
     ]
    },
    {
     "name": "stderr",
     "output_type": "stream",
     "text": [
      "\n"
     ]
    },
    {
     "name": "stdout",
     "output_type": "stream",
     "text": [
      "\n",
      "      Epoch    GPU_mem   box_loss   cls_loss   dfl_loss  Instances       Size\n"
     ]
    },
    {
     "name": "stderr",
     "output_type": "stream",
     "text": [
      "     55/100      8.76G      1.402     0.5858      1.468         14       1280: 100%|██████████| 80/80 [00:20<00:00,  3.\n",
      "                 Class     Images  Instances      Box(P          R      mAP50  mAP50-95): 100%|██████████| 10/10 [00:01"
     ]
    },
    {
     "name": "stdout",
     "output_type": "stream",
     "text": [
      "                   all        200        353      0.945      0.887      0.921      0.563\n"
     ]
    },
    {
     "name": "stderr",
     "output_type": "stream",
     "text": [
      "\n"
     ]
    },
    {
     "name": "stdout",
     "output_type": "stream",
     "text": [
      "\n",
      "      Epoch    GPU_mem   box_loss   cls_loss   dfl_loss  Instances       Size\n"
     ]
    },
    {
     "name": "stderr",
     "output_type": "stream",
     "text": [
      "     56/100      8.79G      1.416     0.5906      1.459         20       1280: 100%|██████████| 80/80 [00:21<00:00,  3.\n",
      "                 Class     Images  Instances      Box(P          R      mAP50  mAP50-95): 100%|██████████| 10/10 [00:01"
     ]
    },
    {
     "name": "stdout",
     "output_type": "stream",
     "text": [
      "                   all        200        353      0.934      0.878      0.925      0.565\n"
     ]
    },
    {
     "name": "stderr",
     "output_type": "stream",
     "text": [
      "\n"
     ]
    },
    {
     "name": "stdout",
     "output_type": "stream",
     "text": [
      "\n",
      "      Epoch    GPU_mem   box_loss   cls_loss   dfl_loss  Instances       Size\n"
     ]
    },
    {
     "name": "stderr",
     "output_type": "stream",
     "text": [
      "     57/100      8.79G      1.419     0.5882      1.484         21       1280: 100%|██████████| 80/80 [00:21<00:00,  3.\n",
      "                 Class     Images  Instances      Box(P          R      mAP50  mAP50-95): 100%|██████████| 10/10 [00:01"
     ]
    },
    {
     "name": "stdout",
     "output_type": "stream",
     "text": [
      "                   all        200        353      0.948      0.864      0.926      0.557\n"
     ]
    },
    {
     "name": "stderr",
     "output_type": "stream",
     "text": [
      "\n"
     ]
    },
    {
     "name": "stdout",
     "output_type": "stream",
     "text": [
      "\n",
      "      Epoch    GPU_mem   box_loss   cls_loss   dfl_loss  Instances       Size\n"
     ]
    },
    {
     "name": "stderr",
     "output_type": "stream",
     "text": [
      "     58/100      8.76G      1.411     0.5851      1.477         29       1280: 100%|██████████| 80/80 [00:20<00:00,  3.\n",
      "                 Class     Images  Instances      Box(P          R      mAP50  mAP50-95): 100%|██████████| 10/10 [00:01"
     ]
    },
    {
     "name": "stdout",
     "output_type": "stream",
     "text": [
      "                   all        200        353      0.933      0.864      0.925       0.54\n"
     ]
    },
    {
     "name": "stderr",
     "output_type": "stream",
     "text": [
      "\n"
     ]
    },
    {
     "name": "stdout",
     "output_type": "stream",
     "text": [
      "\n",
      "      Epoch    GPU_mem   box_loss   cls_loss   dfl_loss  Instances       Size\n"
     ]
    },
    {
     "name": "stderr",
     "output_type": "stream",
     "text": [
      "     59/100      8.77G      1.402     0.6031       1.47         13       1280: 100%|██████████| 80/80 [00:20<00:00,  3.\n",
      "                 Class     Images  Instances      Box(P          R      mAP50  mAP50-95): 100%|██████████| 10/10 [00:01"
     ]
    },
    {
     "name": "stdout",
     "output_type": "stream",
     "text": [
      "                   all        200        353      0.943      0.897      0.934      0.578\n"
     ]
    },
    {
     "name": "stderr",
     "output_type": "stream",
     "text": [
      "\n"
     ]
    },
    {
     "name": "stdout",
     "output_type": "stream",
     "text": [
      "\n",
      "      Epoch    GPU_mem   box_loss   cls_loss   dfl_loss  Instances       Size\n"
     ]
    },
    {
     "name": "stderr",
     "output_type": "stream",
     "text": [
      "     60/100      8.81G      1.394     0.5821      1.456         22       1280: 100%|██████████| 80/80 [00:21<00:00,  3.\n",
      "                 Class     Images  Instances      Box(P          R      mAP50  mAP50-95): 100%|██████████| 10/10 [00:01"
     ]
    },
    {
     "name": "stdout",
     "output_type": "stream",
     "text": [
      "                   all        200        353      0.952      0.878      0.934      0.554\n"
     ]
    },
    {
     "name": "stderr",
     "output_type": "stream",
     "text": [
      "\n"
     ]
    },
    {
     "name": "stdout",
     "output_type": "stream",
     "text": [
      "\n",
      "      Epoch    GPU_mem   box_loss   cls_loss   dfl_loss  Instances       Size\n"
     ]
    },
    {
     "name": "stderr",
     "output_type": "stream",
     "text": [
      "     61/100      8.76G      1.364     0.5717      1.452         12       1280: 100%|██████████| 80/80 [00:20<00:00,  3.\n",
      "                 Class     Images  Instances      Box(P          R      mAP50  mAP50-95): 100%|██████████| 10/10 [00:02"
     ]
    },
    {
     "name": "stdout",
     "output_type": "stream",
     "text": [
      "                   all        200        353      0.933      0.864      0.918      0.554\n"
     ]
    },
    {
     "name": "stderr",
     "output_type": "stream",
     "text": [
      "\n"
     ]
    },
    {
     "name": "stdout",
     "output_type": "stream",
     "text": [
      "\n",
      "      Epoch    GPU_mem   box_loss   cls_loss   dfl_loss  Instances       Size\n"
     ]
    },
    {
     "name": "stderr",
     "output_type": "stream",
     "text": [
      "     62/100      8.79G      1.376      0.579      1.456         15       1280: 100%|██████████| 80/80 [00:21<00:00,  3.\n",
      "                 Class     Images  Instances      Box(P          R      mAP50  mAP50-95): 100%|██████████| 10/10 [00:01"
     ]
    },
    {
     "name": "stdout",
     "output_type": "stream",
     "text": [
      "                   all        200        353      0.939      0.861      0.921      0.581\n"
     ]
    },
    {
     "name": "stderr",
     "output_type": "stream",
     "text": [
      "\n"
     ]
    },
    {
     "name": "stdout",
     "output_type": "stream",
     "text": [
      "\n",
      "      Epoch    GPU_mem   box_loss   cls_loss   dfl_loss  Instances       Size\n"
     ]
    },
    {
     "name": "stderr",
     "output_type": "stream",
     "text": [
      "     63/100      8.79G      1.397     0.5775      1.459         22       1280: 100%|██████████| 80/80 [00:20<00:00,  3.\n",
      "                 Class     Images  Instances      Box(P          R      mAP50  mAP50-95): 100%|██████████| 10/10 [00:02"
     ]
    },
    {
     "name": "stdout",
     "output_type": "stream",
     "text": [
      "                   all        200        353      0.941      0.875      0.929      0.565\n"
     ]
    },
    {
     "name": "stderr",
     "output_type": "stream",
     "text": [
      "\n"
     ]
    },
    {
     "name": "stdout",
     "output_type": "stream",
     "text": [
      "\n",
      "      Epoch    GPU_mem   box_loss   cls_loss   dfl_loss  Instances       Size\n"
     ]
    },
    {
     "name": "stderr",
     "output_type": "stream",
     "text": [
      "     64/100      8.76G      1.406     0.5784       1.46         26       1280: 100%|██████████| 80/80 [00:20<00:00,  3.\n",
      "                 Class     Images  Instances      Box(P          R      mAP50  mAP50-95): 100%|██████████| 10/10 [00:01"
     ]
    },
    {
     "name": "stdout",
     "output_type": "stream",
     "text": [
      "                   all        200        353      0.922      0.873      0.923       0.56\n"
     ]
    },
    {
     "name": "stderr",
     "output_type": "stream",
     "text": [
      "\n"
     ]
    },
    {
     "name": "stdout",
     "output_type": "stream",
     "text": [
      "\n",
      "      Epoch    GPU_mem   box_loss   cls_loss   dfl_loss  Instances       Size\n"
     ]
    },
    {
     "name": "stderr",
     "output_type": "stream",
     "text": [
      "     65/100      8.79G      1.415     0.5873      1.468         20       1280: 100%|██████████| 80/80 [00:20<00:00,  3.\n",
      "                 Class     Images  Instances      Box(P          R      mAP50  mAP50-95): 100%|██████████| 10/10 [00:01"
     ]
    },
    {
     "name": "stdout",
     "output_type": "stream",
     "text": [
      "                   all        200        353      0.907      0.864      0.918      0.571\n"
     ]
    },
    {
     "name": "stderr",
     "output_type": "stream",
     "text": [
      "\n"
     ]
    },
    {
     "name": "stdout",
     "output_type": "stream",
     "text": [
      "\n",
      "      Epoch    GPU_mem   box_loss   cls_loss   dfl_loss  Instances       Size\n"
     ]
    },
    {
     "name": "stderr",
     "output_type": "stream",
     "text": [
      "     66/100      8.79G      1.382      0.572      1.472         19       1280: 100%|██████████| 80/80 [00:20<00:00,  3.\n",
      "                 Class     Images  Instances      Box(P          R      mAP50  mAP50-95): 100%|██████████| 10/10 [00:01"
     ]
    },
    {
     "name": "stdout",
     "output_type": "stream",
     "text": [
      "                   all        200        353       0.93      0.892      0.931      0.584\n"
     ]
    },
    {
     "name": "stderr",
     "output_type": "stream",
     "text": [
      "\n"
     ]
    },
    {
     "name": "stdout",
     "output_type": "stream",
     "text": [
      "\n",
      "      Epoch    GPU_mem   box_loss   cls_loss   dfl_loss  Instances       Size\n"
     ]
    },
    {
     "name": "stderr",
     "output_type": "stream",
     "text": [
      "     67/100      8.76G        1.4     0.5767       1.48         26       1280: 100%|██████████| 80/80 [00:20<00:00,  3.\n",
      "                 Class     Images  Instances      Box(P          R      mAP50  mAP50-95): 100%|██████████| 10/10 [00:01"
     ]
    },
    {
     "name": "stdout",
     "output_type": "stream",
     "text": [
      "                   all        200        353       0.95      0.878      0.933      0.566\n"
     ]
    },
    {
     "name": "stderr",
     "output_type": "stream",
     "text": [
      "\n"
     ]
    },
    {
     "name": "stdout",
     "output_type": "stream",
     "text": [
      "\n",
      "      Epoch    GPU_mem   box_loss   cls_loss   dfl_loss  Instances       Size\n"
     ]
    },
    {
     "name": "stderr",
     "output_type": "stream",
     "text": [
      "     68/100      8.79G      1.395     0.5749      1.473         11       1280: 100%|██████████| 80/80 [00:20<00:00,  3.\n",
      "                 Class     Images  Instances      Box(P          R      mAP50  mAP50-95): 100%|██████████| 10/10 [00:01"
     ]
    },
    {
     "name": "stdout",
     "output_type": "stream",
     "text": [
      "                   all        200        353      0.914      0.881      0.928      0.564\n"
     ]
    },
    {
     "name": "stderr",
     "output_type": "stream",
     "text": [
      "\n"
     ]
    },
    {
     "name": "stdout",
     "output_type": "stream",
     "text": [
      "\n",
      "      Epoch    GPU_mem   box_loss   cls_loss   dfl_loss  Instances       Size\n"
     ]
    },
    {
     "name": "stderr",
     "output_type": "stream",
     "text": [
      "     69/100       8.8G      1.423     0.5728      1.458         16       1280: 100%|██████████| 80/80 [00:20<00:00,  3.\n",
      "                 Class     Images  Instances      Box(P          R      mAP50  mAP50-95): 100%|██████████| 10/10 [00:01"
     ]
    },
    {
     "name": "stdout",
     "output_type": "stream",
     "text": [
      "                   all        200        353       0.93      0.871      0.925      0.583\n"
     ]
    },
    {
     "name": "stderr",
     "output_type": "stream",
     "text": [
      "\n"
     ]
    },
    {
     "name": "stdout",
     "output_type": "stream",
     "text": [
      "\n",
      "      Epoch    GPU_mem   box_loss   cls_loss   dfl_loss  Instances       Size\n"
     ]
    },
    {
     "name": "stderr",
     "output_type": "stream",
     "text": [
      "     70/100      8.77G      1.404      0.575       1.46         21       1280: 100%|██████████| 80/80 [00:20<00:00,  3.\n",
      "                 Class     Images  Instances      Box(P          R      mAP50  mAP50-95): 100%|██████████| 10/10 [00:01"
     ]
    },
    {
     "name": "stdout",
     "output_type": "stream",
     "text": [
      "                   all        200        353      0.951      0.867      0.929       0.57\n"
     ]
    },
    {
     "name": "stderr",
     "output_type": "stream",
     "text": [
      "\n"
     ]
    },
    {
     "name": "stdout",
     "output_type": "stream",
     "text": [
      "\n",
      "      Epoch    GPU_mem   box_loss   cls_loss   dfl_loss  Instances       Size\n"
     ]
    },
    {
     "name": "stderr",
     "output_type": "stream",
     "text": [
      "     71/100      8.79G      1.384     0.5741      1.472         20       1280: 100%|██████████| 80/80 [00:20<00:00,  3.\n",
      "                 Class     Images  Instances      Box(P          R      mAP50  mAP50-95): 100%|██████████| 10/10 [00:02"
     ]
    },
    {
     "name": "stdout",
     "output_type": "stream",
     "text": [
      "                   all        200        353      0.947      0.867      0.925      0.566\n"
     ]
    },
    {
     "name": "stderr",
     "output_type": "stream",
     "text": [
      "\n"
     ]
    },
    {
     "name": "stdout",
     "output_type": "stream",
     "text": [
      "\n",
      "      Epoch    GPU_mem   box_loss   cls_loss   dfl_loss  Instances       Size\n"
     ]
    },
    {
     "name": "stderr",
     "output_type": "stream",
     "text": [
      "     72/100      8.76G      1.367     0.5675      1.456         18       1280: 100%|██████████| 80/80 [00:20<00:00,  3.\n",
      "                 Class     Images  Instances      Box(P          R      mAP50  mAP50-95): 100%|██████████| 10/10 [00:02"
     ]
    },
    {
     "name": "stdout",
     "output_type": "stream",
     "text": [
      "                   all        200        353      0.948      0.878      0.929      0.573\n"
     ]
    },
    {
     "name": "stderr",
     "output_type": "stream",
     "text": [
      "\n"
     ]
    },
    {
     "name": "stdout",
     "output_type": "stream",
     "text": [
      "\n",
      "      Epoch    GPU_mem   box_loss   cls_loss   dfl_loss  Instances       Size\n"
     ]
    },
    {
     "name": "stderr",
     "output_type": "stream",
     "text": [
      "     73/100      8.76G       1.39     0.5679      1.456         16       1280: 100%|██████████| 80/80 [00:20<00:00,  3.\n",
      "                 Class     Images  Instances      Box(P          R      mAP50  mAP50-95): 100%|██████████| 10/10 [00:01"
     ]
    },
    {
     "name": "stdout",
     "output_type": "stream",
     "text": [
      "                   all        200        353      0.933      0.871      0.925      0.568\n"
     ]
    },
    {
     "name": "stderr",
     "output_type": "stream",
     "text": [
      "\n"
     ]
    },
    {
     "name": "stdout",
     "output_type": "stream",
     "text": [
      "\n",
      "      Epoch    GPU_mem   box_loss   cls_loss   dfl_loss  Instances       Size\n"
     ]
    },
    {
     "name": "stderr",
     "output_type": "stream",
     "text": [
      "     74/100      8.79G      1.345     0.5488      1.453         23       1280: 100%|██████████| 80/80 [00:20<00:00,  3.\n",
      "                 Class     Images  Instances      Box(P          R      mAP50  mAP50-95): 100%|██████████| 10/10 [00:01"
     ]
    },
    {
     "name": "stdout",
     "output_type": "stream",
     "text": [
      "                   all        200        353      0.925      0.861      0.919      0.569\n"
     ]
    },
    {
     "name": "stderr",
     "output_type": "stream",
     "text": [
      "\n"
     ]
    },
    {
     "name": "stdout",
     "output_type": "stream",
     "text": [
      "\n",
      "      Epoch    GPU_mem   box_loss   cls_loss   dfl_loss  Instances       Size\n"
     ]
    },
    {
     "name": "stderr",
     "output_type": "stream",
     "text": [
      "     75/100      8.79G      1.425     0.5901      1.455         18       1280: 100%|██████████| 80/80 [00:20<00:00,  3.\n",
      "                 Class     Images  Instances      Box(P          R      mAP50  mAP50-95): 100%|██████████| 10/10 [00:01"
     ]
    },
    {
     "name": "stdout",
     "output_type": "stream",
     "text": [
      "                   all        200        353      0.916      0.856      0.918      0.554\n"
     ]
    },
    {
     "name": "stderr",
     "output_type": "stream",
     "text": [
      "\n"
     ]
    },
    {
     "name": "stdout",
     "output_type": "stream",
     "text": [
      "\n",
      "      Epoch    GPU_mem   box_loss   cls_loss   dfl_loss  Instances       Size\n"
     ]
    },
    {
     "name": "stderr",
     "output_type": "stream",
     "text": [
      "     76/100      8.76G      1.347     0.5517      1.449         14       1280: 100%|██████████| 80/80 [00:20<00:00,  3.\n",
      "                 Class     Images  Instances      Box(P          R      mAP50  mAP50-95): 100%|██████████| 10/10 [00:01"
     ]
    },
    {
     "name": "stdout",
     "output_type": "stream",
     "text": [
      "                   all        200        353      0.922      0.878      0.921      0.574\n"
     ]
    },
    {
     "name": "stderr",
     "output_type": "stream",
     "text": [
      "\n"
     ]
    },
    {
     "name": "stdout",
     "output_type": "stream",
     "text": [
      "\n",
      "      Epoch    GPU_mem   box_loss   cls_loss   dfl_loss  Instances       Size\n"
     ]
    },
    {
     "name": "stderr",
     "output_type": "stream",
     "text": [
      "     77/100      8.79G      1.376     0.5647      1.455         24       1280: 100%|██████████| 80/80 [00:20<00:00,  3.\n",
      "                 Class     Images  Instances      Box(P          R      mAP50  mAP50-95): 100%|██████████| 10/10 [00:01"
     ]
    },
    {
     "name": "stdout",
     "output_type": "stream",
     "text": [
      "                   all        200        353      0.931      0.887      0.931      0.574\n"
     ]
    },
    {
     "name": "stderr",
     "output_type": "stream",
     "text": [
      "\n"
     ]
    },
    {
     "name": "stdout",
     "output_type": "stream",
     "text": [
      "\n",
      "      Epoch    GPU_mem   box_loss   cls_loss   dfl_loss  Instances       Size\n"
     ]
    },
    {
     "name": "stderr",
     "output_type": "stream",
     "text": [
      "     78/100      8.79G      1.367     0.5545      1.463         14       1280: 100%|██████████| 80/80 [00:20<00:00,  3.\n",
      "                 Class     Images  Instances      Box(P          R      mAP50  mAP50-95): 100%|██████████| 10/10 [00:01"
     ]
    },
    {
     "name": "stdout",
     "output_type": "stream",
     "text": [
      "                   all        200        353      0.931      0.887      0.933       0.59\n"
     ]
    },
    {
     "name": "stderr",
     "output_type": "stream",
     "text": [
      "\n"
     ]
    },
    {
     "name": "stdout",
     "output_type": "stream",
     "text": [
      "\n",
      "      Epoch    GPU_mem   box_loss   cls_loss   dfl_loss  Instances       Size\n"
     ]
    },
    {
     "name": "stderr",
     "output_type": "stream",
     "text": [
      "     79/100      8.76G      1.376      0.552      1.461         28       1280: 100%|██████████| 80/80 [00:20<00:00,  3.\n",
      "                 Class     Images  Instances      Box(P          R      mAP50  mAP50-95): 100%|██████████| 10/10 [00:01"
     ]
    },
    {
     "name": "stdout",
     "output_type": "stream",
     "text": [
      "                   all        200        353      0.932      0.881      0.932      0.576\n"
     ]
    },
    {
     "name": "stderr",
     "output_type": "stream",
     "text": [
      "\n"
     ]
    },
    {
     "name": "stdout",
     "output_type": "stream",
     "text": [
      "\n",
      "      Epoch    GPU_mem   box_loss   cls_loss   dfl_loss  Instances       Size\n"
     ]
    },
    {
     "name": "stderr",
     "output_type": "stream",
     "text": [
      "     80/100       8.8G      1.374     0.5587      1.463         16       1280: 100%|██████████| 80/80 [00:20<00:00,  3.\n",
      "                 Class     Images  Instances      Box(P          R      mAP50  mAP50-95): 100%|██████████| 10/10 [00:01"
     ]
    },
    {
     "name": "stdout",
     "output_type": "stream",
     "text": [
      "                   all        200        353      0.929      0.889      0.933      0.582\n"
     ]
    },
    {
     "name": "stderr",
     "output_type": "stream",
     "text": [
      "\n"
     ]
    },
    {
     "name": "stdout",
     "output_type": "stream",
     "text": [
      "\n",
      "      Epoch    GPU_mem   box_loss   cls_loss   dfl_loss  Instances       Size\n"
     ]
    },
    {
     "name": "stderr",
     "output_type": "stream",
     "text": [
      "     81/100       8.8G      1.362     0.5508      1.458         26       1280: 100%|██████████| 80/80 [00:20<00:00,  3.\n",
      "                 Class     Images  Instances      Box(P          R      mAP50  mAP50-95): 100%|██████████| 10/10 [00:01"
     ]
    },
    {
     "name": "stdout",
     "output_type": "stream",
     "text": [
      "                   all        200        353      0.929      0.883      0.934      0.574\n"
     ]
    },
    {
     "name": "stderr",
     "output_type": "stream",
     "text": [
      "\n"
     ]
    },
    {
     "name": "stdout",
     "output_type": "stream",
     "text": [
      "\n",
      "      Epoch    GPU_mem   box_loss   cls_loss   dfl_loss  Instances       Size\n"
     ]
    },
    {
     "name": "stderr",
     "output_type": "stream",
     "text": [
      "     82/100      8.77G      1.373     0.5564      1.466         22       1280: 100%|██████████| 80/80 [00:20<00:00,  3.\n",
      "                 Class     Images  Instances      Box(P          R      mAP50  mAP50-95): 100%|██████████| 10/10 [00:02"
     ]
    },
    {
     "name": "stdout",
     "output_type": "stream",
     "text": [
      "                   all        200        353      0.931      0.883      0.932      0.572\n"
     ]
    },
    {
     "name": "stderr",
     "output_type": "stream",
     "text": [
      "\n"
     ]
    },
    {
     "name": "stdout",
     "output_type": "stream",
     "text": [
      "\n",
      "      Epoch    GPU_mem   box_loss   cls_loss   dfl_loss  Instances       Size\n"
     ]
    },
    {
     "name": "stderr",
     "output_type": "stream",
     "text": [
      "     83/100      8.77G      1.352     0.5565      1.464          8       1280: 100%|██████████| 80/80 [00:20<00:00,  3.\n",
      "                 Class     Images  Instances      Box(P          R      mAP50  mAP50-95): 100%|██████████| 10/10 [00:01"
     ]
    },
    {
     "name": "stdout",
     "output_type": "stream",
     "text": [
      "                   all        200        353      0.929      0.895      0.932      0.559\n"
     ]
    },
    {
     "name": "stderr",
     "output_type": "stream",
     "text": [
      "\n"
     ]
    },
    {
     "name": "stdout",
     "output_type": "stream",
     "text": [
      "\n",
      "      Epoch    GPU_mem   box_loss   cls_loss   dfl_loss  Instances       Size\n"
     ]
    },
    {
     "name": "stderr",
     "output_type": "stream",
     "text": [
      "     84/100      8.79G      1.396     0.5686      1.466         10       1280: 100%|██████████| 80/80 [00:20<00:00,  3.\n",
      "                 Class     Images  Instances      Box(P          R      mAP50  mAP50-95): 100%|██████████| 10/10 [00:01"
     ]
    },
    {
     "name": "stdout",
     "output_type": "stream",
     "text": [
      "                   all        200        353      0.927      0.892      0.931      0.572\n"
     ]
    },
    {
     "name": "stderr",
     "output_type": "stream",
     "text": [
      "\n"
     ]
    },
    {
     "name": "stdout",
     "output_type": "stream",
     "text": [
      "\n",
      "      Epoch    GPU_mem   box_loss   cls_loss   dfl_loss  Instances       Size\n"
     ]
    },
    {
     "name": "stderr",
     "output_type": "stream",
     "text": [
      "     85/100      8.76G      1.368      0.556      1.474         23       1280: 100%|██████████| 80/80 [00:20<00:00,  3.\n",
      "                 Class     Images  Instances      Box(P          R      mAP50  mAP50-95): 100%|██████████| 10/10 [00:01"
     ]
    },
    {
     "name": "stdout",
     "output_type": "stream",
     "text": [
      "                   all        200        353      0.919      0.873      0.928      0.565\n"
     ]
    },
    {
     "name": "stderr",
     "output_type": "stream",
     "text": [
      "\n"
     ]
    },
    {
     "name": "stdout",
     "output_type": "stream",
     "text": [
      "\n",
      "      Epoch    GPU_mem   box_loss   cls_loss   dfl_loss  Instances       Size\n"
     ]
    },
    {
     "name": "stderr",
     "output_type": "stream",
     "text": [
      "     86/100      8.79G      1.367     0.5528      1.454         17       1280: 100%|██████████| 80/80 [00:20<00:00,  3.\n",
      "                 Class     Images  Instances      Box(P          R      mAP50  mAP50-95): 100%|██████████| 10/10 [00:01"
     ]
    },
    {
     "name": "stdout",
     "output_type": "stream",
     "text": [
      "                   all        200        353      0.923      0.885       0.93      0.564\n"
     ]
    },
    {
     "name": "stderr",
     "output_type": "stream",
     "text": [
      "\n"
     ]
    },
    {
     "name": "stdout",
     "output_type": "stream",
     "text": [
      "\n",
      "      Epoch    GPU_mem   box_loss   cls_loss   dfl_loss  Instances       Size\n"
     ]
    },
    {
     "name": "stderr",
     "output_type": "stream",
     "text": [
      "     87/100       8.8G      1.326     0.5435      1.454         22       1280: 100%|██████████| 80/80 [00:20<00:00,  3.\n",
      "                 Class     Images  Instances      Box(P          R      mAP50  mAP50-95): 100%|██████████| 10/10 [00:01"
     ]
    },
    {
     "name": "stdout",
     "output_type": "stream",
     "text": [
      "                   all        200        353      0.929      0.884      0.933      0.578\n"
     ]
    },
    {
     "name": "stderr",
     "output_type": "stream",
     "text": [
      "\n"
     ]
    },
    {
     "name": "stdout",
     "output_type": "stream",
     "text": [
      "\n",
      "      Epoch    GPU_mem   box_loss   cls_loss   dfl_loss  Instances       Size\n"
     ]
    },
    {
     "name": "stderr",
     "output_type": "stream",
     "text": [
      "     88/100      8.76G      1.365      0.547      1.452         27       1280: 100%|██████████| 80/80 [00:20<00:00,  3.\n",
      "                 Class     Images  Instances      Box(P          R      mAP50  mAP50-95): 100%|██████████| 10/10 [00:01"
     ]
    },
    {
     "name": "stdout",
     "output_type": "stream",
     "text": [
      "                   all        200        353      0.948      0.878      0.934      0.572\n"
     ]
    },
    {
     "name": "stderr",
     "output_type": "stream",
     "text": [
      "\n"
     ]
    },
    {
     "name": "stdout",
     "output_type": "stream",
     "text": [
      "\n",
      "      Epoch    GPU_mem   box_loss   cls_loss   dfl_loss  Instances       Size\n"
     ]
    },
    {
     "name": "stderr",
     "output_type": "stream",
     "text": [
      "     89/100      8.79G      1.344     0.5408      1.457         21       1280: 100%|██████████| 80/80 [00:20<00:00,  3.\n",
      "                 Class     Images  Instances      Box(P          R      mAP50  mAP50-95): 100%|██████████| 10/10 [00:01"
     ]
    },
    {
     "name": "stdout",
     "output_type": "stream",
     "text": [
      "                   all        200        353      0.948      0.884      0.932      0.567\n"
     ]
    },
    {
     "name": "stderr",
     "output_type": "stream",
     "text": [
      "\n"
     ]
    },
    {
     "name": "stdout",
     "output_type": "stream",
     "text": [
      "\n",
      "      Epoch    GPU_mem   box_loss   cls_loss   dfl_loss  Instances       Size\n"
     ]
    },
    {
     "name": "stderr",
     "output_type": "stream",
     "text": [
      "     90/100       8.8G      1.372     0.5516      1.456         33       1280: 100%|██████████| 80/80 [00:20<00:00,  3.\n",
      "                 Class     Images  Instances      Box(P          R      mAP50  mAP50-95): 100%|██████████| 10/10 [00:01"
     ]
    },
    {
     "name": "stdout",
     "output_type": "stream",
     "text": [
      "                   all        200        353       0.94      0.884      0.932      0.572\n"
     ]
    },
    {
     "name": "stderr",
     "output_type": "stream",
     "text": [
      "\n"
     ]
    },
    {
     "name": "stdout",
     "output_type": "stream",
     "text": [
      "Closing dataloader mosaic\n",
      "\n",
      "      Epoch    GPU_mem   box_loss   cls_loss   dfl_loss  Instances       Size\n"
     ]
    },
    {
     "name": "stderr",
     "output_type": "stream",
     "text": [
      "     91/100      8.76G      1.287      0.519      1.446         24       1280: 100%|██████████| 80/80 [00:21<00:00,  3.\n",
      "                 Class     Images  Instances      Box(P          R      mAP50  mAP50-95): 100%|██████████| 10/10 [00:01"
     ]
    },
    {
     "name": "stdout",
     "output_type": "stream",
     "text": [
      "                   all        200        353      0.934      0.875      0.931       0.57\n"
     ]
    },
    {
     "name": "stderr",
     "output_type": "stream",
     "text": [
      "\n"
     ]
    },
    {
     "name": "stdout",
     "output_type": "stream",
     "text": [
      "\n",
      "      Epoch    GPU_mem   box_loss   cls_loss   dfl_loss  Instances       Size\n"
     ]
    },
    {
     "name": "stderr",
     "output_type": "stream",
     "text": [
      "     92/100      8.79G      1.343     0.5441      1.452         14       1280: 100%|██████████| 80/80 [00:20<00:00,  3.\n",
      "                 Class     Images  Instances      Box(P          R      mAP50  mAP50-95): 100%|██████████| 10/10 [00:01"
     ]
    },
    {
     "name": "stdout",
     "output_type": "stream",
     "text": [
      "                   all        200        353      0.942      0.878      0.929      0.569\n"
     ]
    },
    {
     "name": "stderr",
     "output_type": "stream",
     "text": [
      "\n"
     ]
    },
    {
     "name": "stdout",
     "output_type": "stream",
     "text": [
      "\n",
      "      Epoch    GPU_mem   box_loss   cls_loss   dfl_loss  Instances       Size\n"
     ]
    },
    {
     "name": "stderr",
     "output_type": "stream",
     "text": [
      "     93/100      8.79G      1.332     0.5367      1.448         14       1280: 100%|██████████| 80/80 [00:20<00:00,  3.\n",
      "                 Class     Images  Instances      Box(P          R      mAP50  mAP50-95): 100%|██████████| 10/10 [00:01"
     ]
    },
    {
     "name": "stdout",
     "output_type": "stream",
     "text": [
      "                   all        200        353      0.927      0.884       0.93      0.569\n"
     ]
    },
    {
     "name": "stderr",
     "output_type": "stream",
     "text": [
      "\n"
     ]
    },
    {
     "name": "stdout",
     "output_type": "stream",
     "text": [
      "\n",
      "      Epoch    GPU_mem   box_loss   cls_loss   dfl_loss  Instances       Size\n"
     ]
    },
    {
     "name": "stderr",
     "output_type": "stream",
     "text": [
      "     94/100      8.76G      1.336     0.5412      1.452         16       1280: 100%|██████████| 80/80 [00:20<00:00,  3.\n",
      "                 Class     Images  Instances      Box(P          R      mAP50  mAP50-95): 100%|██████████| 10/10 [00:01"
     ]
    },
    {
     "name": "stdout",
     "output_type": "stream",
     "text": [
      "                   all        200        353      0.948      0.887      0.936      0.571\n"
     ]
    },
    {
     "name": "stderr",
     "output_type": "stream",
     "text": [
      "\n"
     ]
    },
    {
     "name": "stdout",
     "output_type": "stream",
     "text": [
      "\n",
      "      Epoch    GPU_mem   box_loss   cls_loss   dfl_loss  Instances       Size\n"
     ]
    },
    {
     "name": "stderr",
     "output_type": "stream",
     "text": [
      "     95/100      8.79G      1.323     0.5304      1.456         12       1280: 100%|██████████| 80/80 [00:20<00:00,  3.\n",
      "                 Class     Images  Instances      Box(P          R      mAP50  mAP50-95): 100%|██████████| 10/10 [00:01"
     ]
    },
    {
     "name": "stdout",
     "output_type": "stream",
     "text": [
      "                   all        200        353      0.938      0.881      0.934      0.577\n"
     ]
    },
    {
     "name": "stderr",
     "output_type": "stream",
     "text": [
      "\n"
     ]
    },
    {
     "name": "stdout",
     "output_type": "stream",
     "text": [
      "\n",
      "      Epoch    GPU_mem   box_loss   cls_loss   dfl_loss  Instances       Size\n"
     ]
    },
    {
     "name": "stderr",
     "output_type": "stream",
     "text": [
      "     96/100      8.81G      1.345     0.5329      1.445         26       1280: 100%|██████████| 80/80 [00:20<00:00,  3.\n",
      "                 Class     Images  Instances      Box(P          R      mAP50  mAP50-95): 100%|██████████| 10/10 [00:01"
     ]
    },
    {
     "name": "stdout",
     "output_type": "stream",
     "text": [
      "                   all        200        353      0.937      0.887      0.933      0.572\n"
     ]
    },
    {
     "name": "stderr",
     "output_type": "stream",
     "text": [
      "\n"
     ]
    },
    {
     "name": "stdout",
     "output_type": "stream",
     "text": [
      "\n",
      "      Epoch    GPU_mem   box_loss   cls_loss   dfl_loss  Instances       Size\n"
     ]
    },
    {
     "name": "stderr",
     "output_type": "stream",
     "text": [
      "     97/100      8.76G      1.343     0.5419      1.449         18       1280: 100%|██████████| 80/80 [00:20<00:00,  3.\n",
      "                 Class     Images  Instances      Box(P          R      mAP50  mAP50-95): 100%|██████████| 10/10 [00:01"
     ]
    },
    {
     "name": "stdout",
     "output_type": "stream",
     "text": [
      "                   all        200        353      0.935      0.887      0.931      0.569\n"
     ]
    },
    {
     "name": "stderr",
     "output_type": "stream",
     "text": [
      "\n"
     ]
    },
    {
     "name": "stdout",
     "output_type": "stream",
     "text": [
      "\n",
      "      Epoch    GPU_mem   box_loss   cls_loss   dfl_loss  Instances       Size\n"
     ]
    },
    {
     "name": "stderr",
     "output_type": "stream",
     "text": [
      "     98/100      8.79G      1.339     0.5394      1.446         16       1280: 100%|██████████| 80/80 [00:20<00:00,  3.\n",
      "                 Class     Images  Instances      Box(P          R      mAP50  mAP50-95): 100%|██████████| 10/10 [00:01"
     ]
    },
    {
     "name": "stdout",
     "output_type": "stream",
     "text": [
      "                   all        200        353      0.937      0.882      0.929      0.568\n",
      "\u001b[34m\u001b[1mEarlyStopping: \u001b[0mTraining stopped early as no improvement observed in last 20 epochs. Best results observed at epoch 78, best model saved as best.pt.\n",
      "To update EarlyStopping(patience=20) pass a new patience value, i.e. `patience=300` or use `patience=0` to disable EarlyStopping.\n"
     ]
    },
    {
     "name": "stderr",
     "output_type": "stream",
     "text": [
      "\n"
     ]
    },
    {
     "name": "stdout",
     "output_type": "stream",
     "text": [
      "\n",
      "98 epochs completed in 0.681 hours.\n",
      "Optimizer stripped from runs\\detect\\train38\\weights\\last.pt, 22.6MB\n",
      "Optimizer stripped from runs\\detect\\train38\\weights\\best.pt, 22.6MB\n",
      "\n",
      "Validating runs\\detect\\train38\\weights\\best.pt...\n",
      "Ultralytics 8.3.172  Python-3.11.5 torch-2.0.1+cu118 CUDA:0 (NVIDIA GeForce RTX 4070 SUPER, 12282MiB)\n",
      "YOLOv8s summary (fused): 72 layers, 11,125,971 parameters, 0 gradients, 28.4 GFLOPs\n"
     ]
    },
    {
     "name": "stderr",
     "output_type": "stream",
     "text": [
      "                 Class     Images  Instances      Box(P          R      mAP50  mAP50-95): 100%|██████████| 10/10 [00:02\n"
     ]
    },
    {
     "name": "stdout",
     "output_type": "stream",
     "text": [
      "                   all        200        353      0.932      0.887      0.933       0.59\n",
      "Speed: 3.7ms preprocess, 4.2ms inference, 0.0ms loss, 1.3ms postprocess per image\n",
      "Results saved to \u001b[1mruns\\detect\\train38\u001b[0m\n"
     ]
    },
    {
     "data": {
      "text/plain": [
       "ultralytics.utils.metrics.DetMetrics object with attributes:\n",
       "\n",
       "ap_class_index: array([0])\n",
       "box: ultralytics.utils.metrics.Metric object\n",
       "confusion_matrix: <ultralytics.utils.metrics.ConfusionMatrix object at 0x0000023D10806F10>\n",
       "curves: ['Precision-Recall(B)', 'F1-Confidence(B)', 'Precision-Confidence(B)', 'Recall-Confidence(B)']\n",
       "curves_results: [[array([          0,    0.001001,    0.002002,    0.003003,    0.004004,    0.005005,    0.006006,    0.007007,    0.008008,    0.009009,     0.01001,    0.011011,    0.012012,    0.013013,    0.014014,    0.015015,    0.016016,    0.017017,    0.018018,    0.019019,     0.02002,    0.021021,    0.022022,    0.023023,\n",
       "          0.024024,    0.025025,    0.026026,    0.027027,    0.028028,    0.029029,     0.03003,    0.031031,    0.032032,    0.033033,    0.034034,    0.035035,    0.036036,    0.037037,    0.038038,    0.039039,     0.04004,    0.041041,    0.042042,    0.043043,    0.044044,    0.045045,    0.046046,    0.047047,\n",
       "          0.048048,    0.049049,     0.05005,    0.051051,    0.052052,    0.053053,    0.054054,    0.055055,    0.056056,    0.057057,    0.058058,    0.059059,     0.06006,    0.061061,    0.062062,    0.063063,    0.064064,    0.065065,    0.066066,    0.067067,    0.068068,    0.069069,     0.07007,    0.071071,\n",
       "          0.072072,    0.073073,    0.074074,    0.075075,    0.076076,    0.077077,    0.078078,    0.079079,     0.08008,    0.081081,    0.082082,    0.083083,    0.084084,    0.085085,    0.086086,    0.087087,    0.088088,    0.089089,     0.09009,    0.091091,    0.092092,    0.093093,    0.094094,    0.095095,\n",
       "          0.096096,    0.097097,    0.098098,    0.099099,      0.1001,      0.1011,      0.1021,      0.1031,      0.1041,     0.10511,     0.10611,     0.10711,     0.10811,     0.10911,     0.11011,     0.11111,     0.11211,     0.11311,     0.11411,     0.11512,     0.11612,     0.11712,     0.11812,     0.11912,\n",
       "           0.12012,     0.12112,     0.12212,     0.12312,     0.12412,     0.12513,     0.12613,     0.12713,     0.12813,     0.12913,     0.13013,     0.13113,     0.13213,     0.13313,     0.13413,     0.13514,     0.13614,     0.13714,     0.13814,     0.13914,     0.14014,     0.14114,     0.14214,     0.14314,\n",
       "           0.14414,     0.14515,     0.14615,     0.14715,     0.14815,     0.14915,     0.15015,     0.15115,     0.15215,     0.15315,     0.15415,     0.15516,     0.15616,     0.15716,     0.15816,     0.15916,     0.16016,     0.16116,     0.16216,     0.16316,     0.16416,     0.16517,     0.16617,     0.16717,\n",
       "           0.16817,     0.16917,     0.17017,     0.17117,     0.17217,     0.17317,     0.17417,     0.17518,     0.17618,     0.17718,     0.17818,     0.17918,     0.18018,     0.18118,     0.18218,     0.18318,     0.18418,     0.18519,     0.18619,     0.18719,     0.18819,     0.18919,     0.19019,     0.19119,\n",
       "           0.19219,     0.19319,     0.19419,      0.1952,      0.1962,      0.1972,      0.1982,      0.1992,      0.2002,      0.2012,      0.2022,      0.2032,      0.2042,     0.20521,     0.20621,     0.20721,     0.20821,     0.20921,     0.21021,     0.21121,     0.21221,     0.21321,     0.21421,     0.21522,\n",
       "           0.21622,     0.21722,     0.21822,     0.21922,     0.22022,     0.22122,     0.22222,     0.22322,     0.22422,     0.22523,     0.22623,     0.22723,     0.22823,     0.22923,     0.23023,     0.23123,     0.23223,     0.23323,     0.23423,     0.23524,     0.23624,     0.23724,     0.23824,     0.23924,\n",
       "           0.24024,     0.24124,     0.24224,     0.24324,     0.24424,     0.24525,     0.24625,     0.24725,     0.24825,     0.24925,     0.25025,     0.25125,     0.25225,     0.25325,     0.25425,     0.25526,     0.25626,     0.25726,     0.25826,     0.25926,     0.26026,     0.26126,     0.26226,     0.26326,\n",
       "           0.26426,     0.26527,     0.26627,     0.26727,     0.26827,     0.26927,     0.27027,     0.27127,     0.27227,     0.27327,     0.27427,     0.27528,     0.27628,     0.27728,     0.27828,     0.27928,     0.28028,     0.28128,     0.28228,     0.28328,     0.28428,     0.28529,     0.28629,     0.28729,\n",
       "           0.28829,     0.28929,     0.29029,     0.29129,     0.29229,     0.29329,     0.29429,      0.2953,      0.2963,      0.2973,      0.2983,      0.2993,      0.3003,      0.3013,      0.3023,      0.3033,      0.3043,     0.30531,     0.30631,     0.30731,     0.30831,     0.30931,     0.31031,     0.31131,\n",
       "           0.31231,     0.31331,     0.31431,     0.31532,     0.31632,     0.31732,     0.31832,     0.31932,     0.32032,     0.32132,     0.32232,     0.32332,     0.32432,     0.32533,     0.32633,     0.32733,     0.32833,     0.32933,     0.33033,     0.33133,     0.33233,     0.33333,     0.33433,     0.33534,\n",
       "           0.33634,     0.33734,     0.33834,     0.33934,     0.34034,     0.34134,     0.34234,     0.34334,     0.34434,     0.34535,     0.34635,     0.34735,     0.34835,     0.34935,     0.35035,     0.35135,     0.35235,     0.35335,     0.35435,     0.35536,     0.35636,     0.35736,     0.35836,     0.35936,\n",
       "           0.36036,     0.36136,     0.36236,     0.36336,     0.36436,     0.36537,     0.36637,     0.36737,     0.36837,     0.36937,     0.37037,     0.37137,     0.37237,     0.37337,     0.37437,     0.37538,     0.37638,     0.37738,     0.37838,     0.37938,     0.38038,     0.38138,     0.38238,     0.38338,\n",
       "           0.38438,     0.38539,     0.38639,     0.38739,     0.38839,     0.38939,     0.39039,     0.39139,     0.39239,     0.39339,     0.39439,      0.3954,      0.3964,      0.3974,      0.3984,      0.3994,      0.4004,      0.4014,      0.4024,      0.4034,      0.4044,     0.40541,     0.40641,     0.40741,\n",
       "           0.40841,     0.40941,     0.41041,     0.41141,     0.41241,     0.41341,     0.41441,     0.41542,     0.41642,     0.41742,     0.41842,     0.41942,     0.42042,     0.42142,     0.42242,     0.42342,     0.42442,     0.42543,     0.42643,     0.42743,     0.42843,     0.42943,     0.43043,     0.43143,\n",
       "           0.43243,     0.43343,     0.43443,     0.43544,     0.43644,     0.43744,     0.43844,     0.43944,     0.44044,     0.44144,     0.44244,     0.44344,     0.44444,     0.44545,     0.44645,     0.44745,     0.44845,     0.44945,     0.45045,     0.45145,     0.45245,     0.45345,     0.45445,     0.45546,\n",
       "           0.45646,     0.45746,     0.45846,     0.45946,     0.46046,     0.46146,     0.46246,     0.46346,     0.46446,     0.46547,     0.46647,     0.46747,     0.46847,     0.46947,     0.47047,     0.47147,     0.47247,     0.47347,     0.47447,     0.47548,     0.47648,     0.47748,     0.47848,     0.47948,\n",
       "           0.48048,     0.48148,     0.48248,     0.48348,     0.48448,     0.48549,     0.48649,     0.48749,     0.48849,     0.48949,     0.49049,     0.49149,     0.49249,     0.49349,     0.49449,      0.4955,      0.4965,      0.4975,      0.4985,      0.4995,      0.5005,      0.5015,      0.5025,      0.5035,\n",
       "            0.5045,     0.50551,     0.50651,     0.50751,     0.50851,     0.50951,     0.51051,     0.51151,     0.51251,     0.51351,     0.51451,     0.51552,     0.51652,     0.51752,     0.51852,     0.51952,     0.52052,     0.52152,     0.52252,     0.52352,     0.52452,     0.52553,     0.52653,     0.52753,\n",
       "           0.52853,     0.52953,     0.53053,     0.53153,     0.53253,     0.53353,     0.53453,     0.53554,     0.53654,     0.53754,     0.53854,     0.53954,     0.54054,     0.54154,     0.54254,     0.54354,     0.54454,     0.54555,     0.54655,     0.54755,     0.54855,     0.54955,     0.55055,     0.55155,\n",
       "           0.55255,     0.55355,     0.55455,     0.55556,     0.55656,     0.55756,     0.55856,     0.55956,     0.56056,     0.56156,     0.56256,     0.56356,     0.56456,     0.56557,     0.56657,     0.56757,     0.56857,     0.56957,     0.57057,     0.57157,     0.57257,     0.57357,     0.57457,     0.57558,\n",
       "           0.57658,     0.57758,     0.57858,     0.57958,     0.58058,     0.58158,     0.58258,     0.58358,     0.58458,     0.58559,     0.58659,     0.58759,     0.58859,     0.58959,     0.59059,     0.59159,     0.59259,     0.59359,     0.59459,      0.5956,      0.5966,      0.5976,      0.5986,      0.5996,\n",
       "            0.6006,      0.6016,      0.6026,      0.6036,      0.6046,     0.60561,     0.60661,     0.60761,     0.60861,     0.60961,     0.61061,     0.61161,     0.61261,     0.61361,     0.61461,     0.61562,     0.61662,     0.61762,     0.61862,     0.61962,     0.62062,     0.62162,     0.62262,     0.62362,\n",
       "           0.62462,     0.62563,     0.62663,     0.62763,     0.62863,     0.62963,     0.63063,     0.63163,     0.63263,     0.63363,     0.63463,     0.63564,     0.63664,     0.63764,     0.63864,     0.63964,     0.64064,     0.64164,     0.64264,     0.64364,     0.64464,     0.64565,     0.64665,     0.64765,\n",
       "           0.64865,     0.64965,     0.65065,     0.65165,     0.65265,     0.65365,     0.65465,     0.65566,     0.65666,     0.65766,     0.65866,     0.65966,     0.66066,     0.66166,     0.66266,     0.66366,     0.66466,     0.66567,     0.66667,     0.66767,     0.66867,     0.66967,     0.67067,     0.67167,\n",
       "           0.67267,     0.67367,     0.67467,     0.67568,     0.67668,     0.67768,     0.67868,     0.67968,     0.68068,     0.68168,     0.68268,     0.68368,     0.68468,     0.68569,     0.68669,     0.68769,     0.68869,     0.68969,     0.69069,     0.69169,     0.69269,     0.69369,     0.69469,      0.6957,\n",
       "            0.6967,      0.6977,      0.6987,      0.6997,      0.7007,      0.7017,      0.7027,      0.7037,      0.7047,     0.70571,     0.70671,     0.70771,     0.70871,     0.70971,     0.71071,     0.71171,     0.71271,     0.71371,     0.71471,     0.71572,     0.71672,     0.71772,     0.71872,     0.71972,\n",
       "           0.72072,     0.72172,     0.72272,     0.72372,     0.72472,     0.72573,     0.72673,     0.72773,     0.72873,     0.72973,     0.73073,     0.73173,     0.73273,     0.73373,     0.73473,     0.73574,     0.73674,     0.73774,     0.73874,     0.73974,     0.74074,     0.74174,     0.74274,     0.74374,\n",
       "           0.74474,     0.74575,     0.74675,     0.74775,     0.74875,     0.74975,     0.75075,     0.75175,     0.75275,     0.75375,     0.75475,     0.75576,     0.75676,     0.75776,     0.75876,     0.75976,     0.76076,     0.76176,     0.76276,     0.76376,     0.76476,     0.76577,     0.76677,     0.76777,\n",
       "           0.76877,     0.76977,     0.77077,     0.77177,     0.77277,     0.77377,     0.77477,     0.77578,     0.77678,     0.77778,     0.77878,     0.77978,     0.78078,     0.78178,     0.78278,     0.78378,     0.78478,     0.78579,     0.78679,     0.78779,     0.78879,     0.78979,     0.79079,     0.79179,\n",
       "           0.79279,     0.79379,     0.79479,      0.7958,      0.7968,      0.7978,      0.7988,      0.7998,      0.8008,      0.8018,      0.8028,      0.8038,      0.8048,     0.80581,     0.80681,     0.80781,     0.80881,     0.80981,     0.81081,     0.81181,     0.81281,     0.81381,     0.81481,     0.81582,\n",
       "           0.81682,     0.81782,     0.81882,     0.81982,     0.82082,     0.82182,     0.82282,     0.82382,     0.82482,     0.82583,     0.82683,     0.82783,     0.82883,     0.82983,     0.83083,     0.83183,     0.83283,     0.83383,     0.83483,     0.83584,     0.83684,     0.83784,     0.83884,     0.83984,\n",
       "           0.84084,     0.84184,     0.84284,     0.84384,     0.84484,     0.84585,     0.84685,     0.84785,     0.84885,     0.84985,     0.85085,     0.85185,     0.85285,     0.85385,     0.85485,     0.85586,     0.85686,     0.85786,     0.85886,     0.85986,     0.86086,     0.86186,     0.86286,     0.86386,\n",
       "           0.86486,     0.86587,     0.86687,     0.86787,     0.86887,     0.86987,     0.87087,     0.87187,     0.87287,     0.87387,     0.87487,     0.87588,     0.87688,     0.87788,     0.87888,     0.87988,     0.88088,     0.88188,     0.88288,     0.88388,     0.88488,     0.88589,     0.88689,     0.88789,\n",
       "           0.88889,     0.88989,     0.89089,     0.89189,     0.89289,     0.89389,     0.89489,      0.8959,      0.8969,      0.8979,      0.8989,      0.8999,      0.9009,      0.9019,      0.9029,      0.9039,      0.9049,     0.90591,     0.90691,     0.90791,     0.90891,     0.90991,     0.91091,     0.91191,\n",
       "           0.91291,     0.91391,     0.91491,     0.91592,     0.91692,     0.91792,     0.91892,     0.91992,     0.92092,     0.92192,     0.92292,     0.92392,     0.92492,     0.92593,     0.92693,     0.92793,     0.92893,     0.92993,     0.93093,     0.93193,     0.93293,     0.93393,     0.93493,     0.93594,\n",
       "           0.93694,     0.93794,     0.93894,     0.93994,     0.94094,     0.94194,     0.94294,     0.94394,     0.94494,     0.94595,     0.94695,     0.94795,     0.94895,     0.94995,     0.95095,     0.95195,     0.95295,     0.95395,     0.95495,     0.95596,     0.95696,     0.95796,     0.95896,     0.95996,\n",
       "           0.96096,     0.96196,     0.96296,     0.96396,     0.96496,     0.96597,     0.96697,     0.96797,     0.96897,     0.96997,     0.97097,     0.97197,     0.97297,     0.97397,     0.97497,     0.97598,     0.97698,     0.97798,     0.97898,     0.97998,     0.98098,     0.98198,     0.98298,     0.98398,\n",
       "           0.98498,     0.98599,     0.98699,     0.98799,     0.98899,     0.98999,     0.99099,     0.99199,     0.99299,     0.99399,     0.99499,       0.996,       0.997,       0.998,       0.999,           1]), array([[          1,           1,           1,           1,           1,           1,           1,           1,           1,           1,           1,           1,           1,           1,           1,           1,           1,           1,           1,           1,           1,           1,           1,\n",
       "                  1,           1,           1,           1,           1,           1,           1,           1,           1,           1,           1,           1,           1,           1,           1,           1,           1,           1,           1,           1,           1,           1,           1,\n",
       "                  1,           1,           1,           1,           1,           1,           1,           1,           1,           1,           1,           1,           1,           1,           1,           1,           1,           1,           1,           1,           1,           1,           1,\n",
       "                  1,           1,           1,           1,           1,           1,           1,           1,           1,           1,           1,           1,           1,           1,           1,           1,           1,           1,           1,           1,           1,           1,           1,\n",
       "                  1,           1,           1,           1,           1,           1,           1,           1,           1,           1,           1,           1,           1,           1,           1,           1,           1,           1,           1,           1,           1,           1,           1,\n",
       "                  1,           1,           1,           1,           1,           1,           1,           1,           1,           1,           1,           1,           1,           1,           1,           1,           1,           1,           1,           1,           1,           1,           1,\n",
       "                  1,           1,           1,           1,           1,           1,           1,           1,           1,           1,           1,           1,           1,           1,           1,           1,           1,           1,           1,           1,           1,           1,           1,\n",
       "                  1,           1,           1,           1,           1,           1,           1,           1,           1,           1,           1,           1,           1,           1,           1,           1,           1,           1,           1,           1,           1,           1,           1,\n",
       "                  1,           1,           1,           1,           1,           1,           1,           1,           1,           1,           1,           1,           1,           1,           1,           1,           1,           1,           1,           1,           1,           1,           1,\n",
       "                  1,           1,           1,           1,           1,           1,           1,           1,           1,           1,           1,           1,           1,           1,           1,           1,           1,           1,           1,           1,           1,           1,           1,\n",
       "                  1,           1,           1,           1,           1,           1,           1,           1,           1,           1,           1,           1,           1,           1,           1,           1,           1,           1,           1,           1,           1,           1,           1,\n",
       "                  1,           1,           1,           1,           1,           1,           1,           1,           1,           1,           1,           1,           1,           1,           1,           1,           1,           1,           1,           1,           1,           1,           1,\n",
       "                  1,           1,           1,           1,           1,           1,           1,           1,           1,           1,           1,           1,           1,           1,           1,           1,           1,           1,           1,           1,           1,           1,           1,\n",
       "                  1,           1,           1,           1,           1,           1,           1,           1,           1,           1,           1,           1,           1,           1,           1,           1,           1,           1,           1,           1,           1,           1,           1,\n",
       "                  1,           1,           1,           1,           1,           1,           1,           1,           1,           1,           1,           1,           1,           1,           1,           1,           1,           1,           1,           1,           1,           1,           1,\n",
       "                  1,           1,           1,           1,           1,           1,           1,           1,           1,           1,           1,           1,           1,           1,           1,           1,           1,           1,           1,           1,           1,           1,           1,\n",
       "                  1,           1,           1,           1,           1,           1,           1,           1,           1,           1,           1,           1,           1,           1,           1,           1,           1,           1,           1,           1,           1,           1,           1,\n",
       "                  1,           1,           1,           1,           1,           1,           1,           1,           1,           1,           1,           1,           1,           1,           1,           1,           1,           1,           1,           1,           1,           1,           1,\n",
       "                  1,           1,           1,           1,           1,           1,           1,           1,           1,           1,           1,           1,           1,           1,           1,           1,           1,           1,           1,           1,           1,           1,           1,\n",
       "                  1,           1,           1,           1,           1,           1,           1,           1,           1,           1,           1,           1,           1,           1,           1,           1,           1,           1,           1,           1,           1,           1,           1,\n",
       "                  1,           1,           1,           1,           1,           1,           1,           1,           1,           1,           1,           1,           1,           1,           1,           1,           1,           1,           1,           1,           1,           1,           1,\n",
       "                  1,           1,           1,           1,           1,           1,           1,           1,           1,           1,           1,           1,           1,           1,           1,           1,           1,           1,           1,           1,           1,           1,           1,\n",
       "                  1,           1,           1,           1,           1,           1,           1,           1,           1,           1,           1,           1,           1,           1,           1,           1,           1,           1,           1,           1,           1,           1,           1,\n",
       "                  1,           1,           1,           1,           1,           1,           1,           1,           1,           1,           1,           1,           1,           1,           1,           1,           1,           1,           1,           1,           1,           1,           1,\n",
       "                  1,           1,           1,           1,           1,           1,           1,           1,           1,           1,           1,           1,           1,           1,           1,           1,           1,           1,           1,           1,           1,           1,           1,\n",
       "                  1,           1,           1,           1,           1,           1,     0.99598,     0.99598,     0.99598,     0.99598,     0.99598,     0.99598,     0.99598,     0.99598,     0.99598,     0.99598,     0.99598,     0.99598,     0.99598,     0.99598,     0.99598,     0.99598,     0.99598,\n",
       "            0.99598,     0.99598,     0.99598,     0.99598,     0.99598,     0.99598,     0.99598,     0.99598,     0.99598,     0.99598,     0.99598,     0.99598,     0.99598,     0.99598,     0.99598,     0.99598,     0.99598,     0.99598,     0.99598,     0.99598,     0.99598,     0.99598,     0.99598,\n",
       "            0.99598,     0.99598,     0.99598,     0.99598,     0.99598,     0.99598,     0.99598,     0.99598,     0.99598,     0.99598,     0.99598,     0.99598,     0.99598,     0.99598,     0.99598,     0.99598,     0.99598,     0.99598,     0.99598,     0.99598,     0.99598,     0.99598,     0.99598,\n",
       "            0.99598,     0.99598,     0.99598,     0.99598,     0.99598,     0.99598,     0.99598,     0.99598,     0.99598,     0.99598,     0.99598,     0.99598,     0.99598,     0.99598,     0.99598,     0.99598,     0.99598,     0.99598,     0.99598,     0.99598,     0.99598,     0.99598,     0.99598,\n",
       "            0.99598,     0.99598,     0.99598,     0.99598,     0.99598,     0.99598,     0.99598,     0.99598,     0.99598,     0.99598,     0.99598,     0.99598,     0.99598,     0.99598,     0.99598,     0.99598,     0.99598,     0.99598,     0.99598,     0.99598,     0.99598,     0.99598,     0.99598,\n",
       "            0.99598,     0.99598,     0.99598,     0.99598,     0.99598,     0.99598,     0.99598,     0.99598,     0.99598,     0.99598,     0.99598,     0.99598,     0.98917,     0.98917,     0.98917,     0.98917,     0.98917,     0.98917,     0.98917,     0.98917,     0.98917,     0.98917,     0.98917,\n",
       "            0.98917,     0.98917,     0.98917,     0.98917,     0.98917,     0.98917,     0.98917,     0.98917,     0.98917,     0.98917,     0.98917,     0.98917,     0.98917,     0.98917,     0.98917,     0.98917,     0.98917,     0.98917,     0.98917,     0.98917,     0.98917,     0.98917,     0.98917,\n",
       "            0.98917,     0.98917,     0.98917,     0.98917,     0.98917,     0.98917,     0.98917,     0.98917,     0.98917,     0.98917,     0.98917,     0.98917,     0.98917,     0.98917,     0.98917,     0.98917,     0.98917,     0.98917,     0.98917,     0.98917,     0.98917,     0.98917,     0.98917,\n",
       "            0.98917,     0.98917,     0.98917,     0.98917,     0.98917,     0.98917,     0.98917,     0.98917,     0.98917,     0.98917,     0.98917,     0.98917,     0.98917,     0.98917,     0.98917,     0.98917,     0.98917,     0.98571,     0.98571,     0.98571,     0.98571,     0.98571,     0.98571,\n",
       "            0.98227,     0.98227,     0.97924,     0.97924,     0.97924,     0.97924,     0.97924,     0.97924,     0.97924,     0.97924,     0.97924,     0.97924,     0.97924,     0.97924,     0.97924,     0.97924,     0.97924,     0.97924,     0.97924,     0.97619,     0.97619,     0.97619,     0.97619,\n",
       "            0.97619,     0.97619,     0.97619,     0.97619,     0.97619,     0.97619,     0.97619,     0.97619,     0.97324,     0.97324,     0.97324,     0.97324,     0.97324,     0.97324,     0.97324,     0.97324,     0.97324,     0.97324,     0.97324,     0.97049,     0.97049,     0.97049,     0.97049,\n",
       "            0.97049,     0.97049,     0.97049,     0.97049,     0.97049,     0.97049,     0.97049,     0.97049,     0.97049,     0.97049,     0.96743,     0.96743,     0.96743,     0.96166,     0.96166,     0.96166,     0.96166,     0.96166,     0.96166,     0.96166,     0.96166,     0.96166,     0.96166,\n",
       "            0.96166,     0.95873,     0.95873,     0.95873,     0.95584,     0.95584,     0.95584,     0.95298,     0.95298,     0.95298,     0.95016,     0.95016,     0.95016,     0.94817,     0.94817,     0.94817,     0.94817,     0.94817,     0.94817,     0.94817,     0.94817,     0.94817,     0.94817,\n",
       "            0.94817,     0.94817,     0.94817,     0.94817,     0.94817,     0.94817,     0.94817,     0.94545,     0.94545,     0.93713,     0.93713,     0.93713,     0.92899,     0.92899,     0.92899,     0.92647,     0.92647,     0.92647,     0.92398,     0.92398,     0.92398,     0.92151,     0.92151,\n",
       "            0.92151,     0.91117,     0.91117,     0.89356,     0.89356,     0.89356,     0.87193,     0.87193,     0.87193,     0.86059,     0.86059,     0.86059,     0.85638,     0.85638,     0.85638,        0.85,        0.85,        0.85,     0.83721,     0.83721,     0.77014,     0.77014,     0.77014,\n",
       "             0.7087,      0.7087,      0.7087,     0.67562,     0.67562,     0.67562,     0.64258,     0.64258,     0.64258,     0.64258,     0.64258,     0.64258,     0.60886,     0.60886,     0.57867,     0.57867,     0.57867,      0.5784,      0.5784,      0.5784,     0.41469,     0.41469,     0.41469,\n",
       "             0.3911,      0.3911,      0.3911,      0.2962,      0.2962,      0.2962,     0.23415,     0.23415,     0.23114,     0.23114,     0.23114,     0.16528,     0.16528,     0.16528,     0.14868,     0.14868,     0.14868,     0.14719,     0.14719,     0.14719,     0.12956,     0.12956,     0.12956,\n",
       "            0.11101,     0.10764,     0.10428,     0.10092,    0.097552,    0.094188,    0.090824,     0.08746,    0.084097,    0.080733,    0.077369,    0.074005,    0.070641,    0.067277,    0.063913,    0.060549,    0.057186,    0.053822,    0.050458,    0.047094,     0.04373,    0.040366,    0.037002,\n",
       "           0.033639,    0.030275,    0.026911,    0.023547,    0.020183,    0.016819,    0.013455,    0.010092,   0.0067277,   0.0033639,           0]]), 'Recall', 'Precision'], [array([          0,    0.001001,    0.002002,    0.003003,    0.004004,    0.005005,    0.006006,    0.007007,    0.008008,    0.009009,     0.01001,    0.011011,    0.012012,    0.013013,    0.014014,    0.015015,    0.016016,    0.017017,    0.018018,    0.019019,     0.02002,    0.021021,    0.022022,    0.023023,\n",
       "          0.024024,    0.025025,    0.026026,    0.027027,    0.028028,    0.029029,     0.03003,    0.031031,    0.032032,    0.033033,    0.034034,    0.035035,    0.036036,    0.037037,    0.038038,    0.039039,     0.04004,    0.041041,    0.042042,    0.043043,    0.044044,    0.045045,    0.046046,    0.047047,\n",
       "          0.048048,    0.049049,     0.05005,    0.051051,    0.052052,    0.053053,    0.054054,    0.055055,    0.056056,    0.057057,    0.058058,    0.059059,     0.06006,    0.061061,    0.062062,    0.063063,    0.064064,    0.065065,    0.066066,    0.067067,    0.068068,    0.069069,     0.07007,    0.071071,\n",
       "          0.072072,    0.073073,    0.074074,    0.075075,    0.076076,    0.077077,    0.078078,    0.079079,     0.08008,    0.081081,    0.082082,    0.083083,    0.084084,    0.085085,    0.086086,    0.087087,    0.088088,    0.089089,     0.09009,    0.091091,    0.092092,    0.093093,    0.094094,    0.095095,\n",
       "          0.096096,    0.097097,    0.098098,    0.099099,      0.1001,      0.1011,      0.1021,      0.1031,      0.1041,     0.10511,     0.10611,     0.10711,     0.10811,     0.10911,     0.11011,     0.11111,     0.11211,     0.11311,     0.11411,     0.11512,     0.11612,     0.11712,     0.11812,     0.11912,\n",
       "           0.12012,     0.12112,     0.12212,     0.12312,     0.12412,     0.12513,     0.12613,     0.12713,     0.12813,     0.12913,     0.13013,     0.13113,     0.13213,     0.13313,     0.13413,     0.13514,     0.13614,     0.13714,     0.13814,     0.13914,     0.14014,     0.14114,     0.14214,     0.14314,\n",
       "           0.14414,     0.14515,     0.14615,     0.14715,     0.14815,     0.14915,     0.15015,     0.15115,     0.15215,     0.15315,     0.15415,     0.15516,     0.15616,     0.15716,     0.15816,     0.15916,     0.16016,     0.16116,     0.16216,     0.16316,     0.16416,     0.16517,     0.16617,     0.16717,\n",
       "           0.16817,     0.16917,     0.17017,     0.17117,     0.17217,     0.17317,     0.17417,     0.17518,     0.17618,     0.17718,     0.17818,     0.17918,     0.18018,     0.18118,     0.18218,     0.18318,     0.18418,     0.18519,     0.18619,     0.18719,     0.18819,     0.18919,     0.19019,     0.19119,\n",
       "           0.19219,     0.19319,     0.19419,      0.1952,      0.1962,      0.1972,      0.1982,      0.1992,      0.2002,      0.2012,      0.2022,      0.2032,      0.2042,     0.20521,     0.20621,     0.20721,     0.20821,     0.20921,     0.21021,     0.21121,     0.21221,     0.21321,     0.21421,     0.21522,\n",
       "           0.21622,     0.21722,     0.21822,     0.21922,     0.22022,     0.22122,     0.22222,     0.22322,     0.22422,     0.22523,     0.22623,     0.22723,     0.22823,     0.22923,     0.23023,     0.23123,     0.23223,     0.23323,     0.23423,     0.23524,     0.23624,     0.23724,     0.23824,     0.23924,\n",
       "           0.24024,     0.24124,     0.24224,     0.24324,     0.24424,     0.24525,     0.24625,     0.24725,     0.24825,     0.24925,     0.25025,     0.25125,     0.25225,     0.25325,     0.25425,     0.25526,     0.25626,     0.25726,     0.25826,     0.25926,     0.26026,     0.26126,     0.26226,     0.26326,\n",
       "           0.26426,     0.26527,     0.26627,     0.26727,     0.26827,     0.26927,     0.27027,     0.27127,     0.27227,     0.27327,     0.27427,     0.27528,     0.27628,     0.27728,     0.27828,     0.27928,     0.28028,     0.28128,     0.28228,     0.28328,     0.28428,     0.28529,     0.28629,     0.28729,\n",
       "           0.28829,     0.28929,     0.29029,     0.29129,     0.29229,     0.29329,     0.29429,      0.2953,      0.2963,      0.2973,      0.2983,      0.2993,      0.3003,      0.3013,      0.3023,      0.3033,      0.3043,     0.30531,     0.30631,     0.30731,     0.30831,     0.30931,     0.31031,     0.31131,\n",
       "           0.31231,     0.31331,     0.31431,     0.31532,     0.31632,     0.31732,     0.31832,     0.31932,     0.32032,     0.32132,     0.32232,     0.32332,     0.32432,     0.32533,     0.32633,     0.32733,     0.32833,     0.32933,     0.33033,     0.33133,     0.33233,     0.33333,     0.33433,     0.33534,\n",
       "           0.33634,     0.33734,     0.33834,     0.33934,     0.34034,     0.34134,     0.34234,     0.34334,     0.34434,     0.34535,     0.34635,     0.34735,     0.34835,     0.34935,     0.35035,     0.35135,     0.35235,     0.35335,     0.35435,     0.35536,     0.35636,     0.35736,     0.35836,     0.35936,\n",
       "           0.36036,     0.36136,     0.36236,     0.36336,     0.36436,     0.36537,     0.36637,     0.36737,     0.36837,     0.36937,     0.37037,     0.37137,     0.37237,     0.37337,     0.37437,     0.37538,     0.37638,     0.37738,     0.37838,     0.37938,     0.38038,     0.38138,     0.38238,     0.38338,\n",
       "           0.38438,     0.38539,     0.38639,     0.38739,     0.38839,     0.38939,     0.39039,     0.39139,     0.39239,     0.39339,     0.39439,      0.3954,      0.3964,      0.3974,      0.3984,      0.3994,      0.4004,      0.4014,      0.4024,      0.4034,      0.4044,     0.40541,     0.40641,     0.40741,\n",
       "           0.40841,     0.40941,     0.41041,     0.41141,     0.41241,     0.41341,     0.41441,     0.41542,     0.41642,     0.41742,     0.41842,     0.41942,     0.42042,     0.42142,     0.42242,     0.42342,     0.42442,     0.42543,     0.42643,     0.42743,     0.42843,     0.42943,     0.43043,     0.43143,\n",
       "           0.43243,     0.43343,     0.43443,     0.43544,     0.43644,     0.43744,     0.43844,     0.43944,     0.44044,     0.44144,     0.44244,     0.44344,     0.44444,     0.44545,     0.44645,     0.44745,     0.44845,     0.44945,     0.45045,     0.45145,     0.45245,     0.45345,     0.45445,     0.45546,\n",
       "           0.45646,     0.45746,     0.45846,     0.45946,     0.46046,     0.46146,     0.46246,     0.46346,     0.46446,     0.46547,     0.46647,     0.46747,     0.46847,     0.46947,     0.47047,     0.47147,     0.47247,     0.47347,     0.47447,     0.47548,     0.47648,     0.47748,     0.47848,     0.47948,\n",
       "           0.48048,     0.48148,     0.48248,     0.48348,     0.48448,     0.48549,     0.48649,     0.48749,     0.48849,     0.48949,     0.49049,     0.49149,     0.49249,     0.49349,     0.49449,      0.4955,      0.4965,      0.4975,      0.4985,      0.4995,      0.5005,      0.5015,      0.5025,      0.5035,\n",
       "            0.5045,     0.50551,     0.50651,     0.50751,     0.50851,     0.50951,     0.51051,     0.51151,     0.51251,     0.51351,     0.51451,     0.51552,     0.51652,     0.51752,     0.51852,     0.51952,     0.52052,     0.52152,     0.52252,     0.52352,     0.52452,     0.52553,     0.52653,     0.52753,\n",
       "           0.52853,     0.52953,     0.53053,     0.53153,     0.53253,     0.53353,     0.53453,     0.53554,     0.53654,     0.53754,     0.53854,     0.53954,     0.54054,     0.54154,     0.54254,     0.54354,     0.54454,     0.54555,     0.54655,     0.54755,     0.54855,     0.54955,     0.55055,     0.55155,\n",
       "           0.55255,     0.55355,     0.55455,     0.55556,     0.55656,     0.55756,     0.55856,     0.55956,     0.56056,     0.56156,     0.56256,     0.56356,     0.56456,     0.56557,     0.56657,     0.56757,     0.56857,     0.56957,     0.57057,     0.57157,     0.57257,     0.57357,     0.57457,     0.57558,\n",
       "           0.57658,     0.57758,     0.57858,     0.57958,     0.58058,     0.58158,     0.58258,     0.58358,     0.58458,     0.58559,     0.58659,     0.58759,     0.58859,     0.58959,     0.59059,     0.59159,     0.59259,     0.59359,     0.59459,      0.5956,      0.5966,      0.5976,      0.5986,      0.5996,\n",
       "            0.6006,      0.6016,      0.6026,      0.6036,      0.6046,     0.60561,     0.60661,     0.60761,     0.60861,     0.60961,     0.61061,     0.61161,     0.61261,     0.61361,     0.61461,     0.61562,     0.61662,     0.61762,     0.61862,     0.61962,     0.62062,     0.62162,     0.62262,     0.62362,\n",
       "           0.62462,     0.62563,     0.62663,     0.62763,     0.62863,     0.62963,     0.63063,     0.63163,     0.63263,     0.63363,     0.63463,     0.63564,     0.63664,     0.63764,     0.63864,     0.63964,     0.64064,     0.64164,     0.64264,     0.64364,     0.64464,     0.64565,     0.64665,     0.64765,\n",
       "           0.64865,     0.64965,     0.65065,     0.65165,     0.65265,     0.65365,     0.65465,     0.65566,     0.65666,     0.65766,     0.65866,     0.65966,     0.66066,     0.66166,     0.66266,     0.66366,     0.66466,     0.66567,     0.66667,     0.66767,     0.66867,     0.66967,     0.67067,     0.67167,\n",
       "           0.67267,     0.67367,     0.67467,     0.67568,     0.67668,     0.67768,     0.67868,     0.67968,     0.68068,     0.68168,     0.68268,     0.68368,     0.68468,     0.68569,     0.68669,     0.68769,     0.68869,     0.68969,     0.69069,     0.69169,     0.69269,     0.69369,     0.69469,      0.6957,\n",
       "            0.6967,      0.6977,      0.6987,      0.6997,      0.7007,      0.7017,      0.7027,      0.7037,      0.7047,     0.70571,     0.70671,     0.70771,     0.70871,     0.70971,     0.71071,     0.71171,     0.71271,     0.71371,     0.71471,     0.71572,     0.71672,     0.71772,     0.71872,     0.71972,\n",
       "           0.72072,     0.72172,     0.72272,     0.72372,     0.72472,     0.72573,     0.72673,     0.72773,     0.72873,     0.72973,     0.73073,     0.73173,     0.73273,     0.73373,     0.73473,     0.73574,     0.73674,     0.73774,     0.73874,     0.73974,     0.74074,     0.74174,     0.74274,     0.74374,\n",
       "           0.74474,     0.74575,     0.74675,     0.74775,     0.74875,     0.74975,     0.75075,     0.75175,     0.75275,     0.75375,     0.75475,     0.75576,     0.75676,     0.75776,     0.75876,     0.75976,     0.76076,     0.76176,     0.76276,     0.76376,     0.76476,     0.76577,     0.76677,     0.76777,\n",
       "           0.76877,     0.76977,     0.77077,     0.77177,     0.77277,     0.77377,     0.77477,     0.77578,     0.77678,     0.77778,     0.77878,     0.77978,     0.78078,     0.78178,     0.78278,     0.78378,     0.78478,     0.78579,     0.78679,     0.78779,     0.78879,     0.78979,     0.79079,     0.79179,\n",
       "           0.79279,     0.79379,     0.79479,      0.7958,      0.7968,      0.7978,      0.7988,      0.7998,      0.8008,      0.8018,      0.8028,      0.8038,      0.8048,     0.80581,     0.80681,     0.80781,     0.80881,     0.80981,     0.81081,     0.81181,     0.81281,     0.81381,     0.81481,     0.81582,\n",
       "           0.81682,     0.81782,     0.81882,     0.81982,     0.82082,     0.82182,     0.82282,     0.82382,     0.82482,     0.82583,     0.82683,     0.82783,     0.82883,     0.82983,     0.83083,     0.83183,     0.83283,     0.83383,     0.83483,     0.83584,     0.83684,     0.83784,     0.83884,     0.83984,\n",
       "           0.84084,     0.84184,     0.84284,     0.84384,     0.84484,     0.84585,     0.84685,     0.84785,     0.84885,     0.84985,     0.85085,     0.85185,     0.85285,     0.85385,     0.85485,     0.85586,     0.85686,     0.85786,     0.85886,     0.85986,     0.86086,     0.86186,     0.86286,     0.86386,\n",
       "           0.86486,     0.86587,     0.86687,     0.86787,     0.86887,     0.86987,     0.87087,     0.87187,     0.87287,     0.87387,     0.87487,     0.87588,     0.87688,     0.87788,     0.87888,     0.87988,     0.88088,     0.88188,     0.88288,     0.88388,     0.88488,     0.88589,     0.88689,     0.88789,\n",
       "           0.88889,     0.88989,     0.89089,     0.89189,     0.89289,     0.89389,     0.89489,      0.8959,      0.8969,      0.8979,      0.8989,      0.8999,      0.9009,      0.9019,      0.9029,      0.9039,      0.9049,     0.90591,     0.90691,     0.90791,     0.90891,     0.90991,     0.91091,     0.91191,\n",
       "           0.91291,     0.91391,     0.91491,     0.91592,     0.91692,     0.91792,     0.91892,     0.91992,     0.92092,     0.92192,     0.92292,     0.92392,     0.92492,     0.92593,     0.92693,     0.92793,     0.92893,     0.92993,     0.93093,     0.93193,     0.93293,     0.93393,     0.93493,     0.93594,\n",
       "           0.93694,     0.93794,     0.93894,     0.93994,     0.94094,     0.94194,     0.94294,     0.94394,     0.94494,     0.94595,     0.94695,     0.94795,     0.94895,     0.94995,     0.95095,     0.95195,     0.95295,     0.95395,     0.95495,     0.95596,     0.95696,     0.95796,     0.95896,     0.95996,\n",
       "           0.96096,     0.96196,     0.96296,     0.96396,     0.96496,     0.96597,     0.96697,     0.96797,     0.96897,     0.96997,     0.97097,     0.97197,     0.97297,     0.97397,     0.97497,     0.97598,     0.97698,     0.97798,     0.97898,     0.97998,     0.98098,     0.98198,     0.98298,     0.98398,\n",
       "           0.98498,     0.98599,     0.98699,     0.98799,     0.98899,     0.98999,     0.99099,     0.99199,     0.99299,     0.99399,     0.99499,       0.996,       0.997,       0.998,       0.999,           1]), array([[    0.20431,     0.20431,      0.2938,     0.35983,     0.40531,     0.44213,     0.47244,     0.49455,     0.51855,     0.53755,     0.55025,     0.55908,     0.57024,     0.57871,     0.58508,     0.59339,     0.60551,      0.6127,     0.62239,     0.63184,     0.63642,     0.64151,     0.64899,\n",
       "              0.655,     0.66458,      0.6705,     0.67504,     0.67697,     0.68285,     0.68554,      0.6869,     0.69024,     0.69413,     0.69844,     0.70083,      0.7054,     0.70842,     0.71281,     0.71595,     0.71727,     0.72116,     0.72352,     0.72461,     0.72511,     0.72733,     0.72979,\n",
       "            0.73263,     0.73411,     0.73708,     0.73688,     0.73947,     0.74147,     0.74373,     0.74623,     0.74957,     0.75253,     0.75404,     0.75541,     0.75777,     0.75962,     0.75965,     0.75806,     0.75849,     0.75891,     0.75934,     0.76202,     0.76485,     0.76667,     0.76942,\n",
       "            0.77035,     0.77105,     0.77259,     0.77394,      0.7764,     0.77962,     0.78125,     0.78005,     0.78075,     0.78274,     0.78511,     0.78683,     0.78762,     0.78802,     0.78845,     0.78928,     0.79126,     0.79229,     0.79304,     0.79404,      0.7951,     0.79656,     0.79819,\n",
       "            0.79862,      0.7991,     0.80015,     0.80116,     0.80158,     0.80194,     0.80133,     0.80073,     0.80083,     0.80139,     0.80294,     0.80452,     0.80543,     0.80599,      0.8065,      0.8068,     0.80709,     0.80739,     0.80856,      0.8088,     0.80903,     0.80927,     0.81155,\n",
       "            0.81198,     0.81241,     0.81343,     0.81624,     0.81797,     0.81849,     0.81948,     0.81988,     0.82013,     0.82037,     0.82062,     0.82086,     0.82109,     0.82133,     0.82157,     0.82245,     0.82405,     0.82462,     0.82504,     0.82534,     0.82563,     0.82593,      0.8261,\n",
       "            0.82627,     0.82644,     0.82662,     0.82679,     0.82696,     0.82798,     0.82928,     0.82972,     0.83017,     0.83132,     0.83244,     0.83276,     0.83307,      0.8335,     0.83445,     0.83471,     0.83497,     0.83522,     0.83551,     0.83765,     0.83805,     0.83846,     0.83844,\n",
       "            0.83772,     0.83736,     0.83789,     0.83978,     0.84079,     0.84132,     0.84168,      0.8419,     0.84211,     0.84233,     0.84255,     0.84286,     0.84326,     0.84365,     0.84449,     0.84549,     0.84644,     0.84714,     0.84738,     0.84763,     0.84788,     0.84812,     0.84936,\n",
       "            0.84974,     0.85012,     0.85046,     0.85069,     0.85093,     0.85116,      0.8514,     0.85311,     0.85383,      0.8541,     0.85436,     0.85463,     0.85494,     0.85636,     0.85729,     0.85857,     0.85919,      0.8597,     0.86015,     0.86057,     0.86075,     0.86093,     0.86111,\n",
       "            0.86129,     0.86147,     0.86165,     0.86182,     0.86198,     0.86214,      0.8623,     0.86246,     0.86262,     0.86278,     0.86408,     0.86422,     0.86436,     0.86451,     0.86465,     0.86479,     0.86494,     0.86508,     0.86522,     0.86536,      0.8655,     0.86564,     0.86578,\n",
       "            0.86592,     0.86606,      0.8662,     0.86663,     0.86766,     0.86808,     0.86849,     0.86882,      0.8691,     0.86938,     0.86966,     0.87001,     0.87041,      0.8708,     0.87102,     0.87112,     0.87121,     0.87131,      0.8714,      0.8715,     0.87159,     0.87168,     0.87178,\n",
       "            0.87187,     0.87197,     0.87206,     0.87344,     0.87424,     0.87487,      0.8754,     0.87516,     0.87417,     0.87466,     0.87514,     0.87553,     0.87586,     0.87618,      0.8765,     0.87673,     0.87696,     0.87718,      0.8774,     0.87762,     0.87841,     0.87899,     0.87914,\n",
       "            0.87928,     0.87942,     0.87956,      0.8797,     0.87984,     0.87998,      0.8802,     0.88063,     0.87989,     0.88007,     0.88026,     0.88044,     0.88062,      0.8808,      0.8822,     0.88311,     0.88207,     0.88245,     0.88313,     0.88363,     0.88413,      0.8829,     0.88465,\n",
       "            0.88526,     0.88551,     0.88576,     0.88601,     0.88626,     0.88646,     0.88654,     0.88663,     0.88671,      0.8868,     0.88688,     0.88697,     0.88705,     0.88714,     0.88723,     0.88731,      0.8874,     0.88748,     0.88757,     0.88765,     0.88853,     0.88816,     0.88779,\n",
       "            0.88741,     0.88747,     0.88763,     0.88779,     0.88795,     0.88811,     0.88826,     0.88842,     0.88859,     0.89017,     0.89117,     0.89154,      0.8919,     0.89227,     0.89296,     0.89364,     0.89411,     0.89458,     0.89643,     0.89717,     0.89814,     0.89756,     0.89706,\n",
       "            0.89727,     0.89748,     0.89768,     0.89789,      0.8981,     0.89832,     0.89959,     0.89994,     0.90028,     0.90063,     0.90091,     0.90107,     0.90123,     0.90139,     0.90154,      0.9017,     0.90186,     0.90202,     0.90219,      0.9024,      0.9026,      0.9028,       0.903,\n",
       "             0.9032,     0.90341,     0.90358,     0.90376,     0.90393,     0.90411,     0.90428,     0.90446,     0.90464,     0.90489,     0.90518,     0.90548,     0.90577,     0.90591,     0.90563,     0.90535,     0.90507,     0.90479,     0.90451,     0.90531,     0.90591,     0.90619,     0.90647,\n",
       "            0.90675,     0.90702,     0.90726,     0.90749,     0.90772,     0.90795,     0.90818,     0.90841,     0.90865,     0.90888,     0.90911,     0.90934,     0.90958,     0.90925,     0.90883,      0.9084,     0.90928,     0.90888,     0.90847,     0.90807,     0.90788,     0.90824,      0.9086,\n",
       "            0.90895,     0.90859,     0.90778,     0.90797,     0.90864,     0.90874,     0.90863,     0.90851,     0.90839,     0.90827,     0.90815,     0.90804,     0.90792,      0.9078,     0.90768,     0.90756,     0.90745,     0.90733,      0.9073,     0.90747,     0.90765,     0.90782,       0.908,\n",
       "            0.90817,     0.90834,     0.90852,     0.90881,     0.90915,     0.90949,     0.90983,     0.91019,     0.91087,     0.91125,     0.91159,     0.91194,     0.91228,     0.91262,     0.91296,      0.9133,     0.91359,     0.91331,     0.91303,     0.91274,     0.91246,     0.91217,     0.91208,\n",
       "            0.91219,     0.91231,     0.91242,     0.91254,     0.91265,     0.91276,     0.91288,     0.91299,     0.91311,     0.91322,     0.91334,     0.91321,       0.913,      0.9128,     0.91259,     0.91239,     0.91218,     0.91198,     0.91177,     0.91145,     0.91112,     0.91079,     0.91046,\n",
       "            0.91013,     0.90972,      0.9093,     0.90889,      0.9069,     0.90666,     0.90643,     0.90619,     0.90595,     0.90572,     0.90548,     0.90525,     0.90504,     0.90484,     0.90463,     0.90442,     0.90421,     0.90401,      0.9038,     0.90376,     0.90386,     0.90395,     0.90405,\n",
       "            0.90415,     0.90425,     0.90435,     0.90445,     0.90454,     0.90464,     0.90474,     0.90484,     0.90494,     0.90503,      0.9043,     0.90347,     0.90407,     0.90475,     0.90381,     0.90445,     0.90361,     0.90286,     0.90309,     0.90332,     0.90355,     0.90378,     0.90401,\n",
       "              0.904,     0.90315,     0.90265,     0.90299,     0.90334,     0.90369,     0.90374,     0.90332,      0.9029,     0.90248,     0.90205,     0.90163,     0.90121,     0.90078,     0.89748,     0.89783,     0.89818,     0.89852,     0.89887,     0.89922,     0.89957,     0.89992,     0.89934,\n",
       "            0.89849,      0.8989,      0.8996,     0.89943,     0.89911,      0.8988,     0.89849,     0.89818,     0.89788,     0.89759,      0.8973,     0.89702,     0.89673,     0.89644,     0.89612,     0.89577,     0.89543,     0.89508,     0.89474,     0.89332,     0.89146,     0.89169,     0.89192,\n",
       "            0.89216,     0.89239,     0.89262,     0.89182,     0.89095,     0.88836,     0.88747,      0.8863,     0.88616,     0.88492,     0.88403,     0.88257,     0.88079,     0.88123,     0.87962,     0.87926,      0.8789,     0.87854,     0.87818,     0.87785,     0.87752,      0.8772,     0.87687,\n",
       "            0.87654,     0.87608,     0.87548,     0.87488,     0.87443,      0.8741,     0.87377,     0.87344,     0.87311,     0.87267,     0.87177,     0.87115,      0.8715,     0.87186,     0.87221,     0.87184,     0.87117,     0.87016,     0.86992,     0.86967,     0.86943,     0.86918,     0.86894,\n",
       "            0.86869,     0.86972,     0.86788,     0.86401,     0.86223,     0.86161,     0.86099,     0.86015,     0.85921,     0.85827,     0.85733,     0.85519,     0.85481,     0.85443,     0.85406,     0.85368,     0.85314,     0.85238,     0.85162,     0.84973,     0.84782,     0.84407,     0.84279,\n",
       "            0.84207,     0.84171,     0.84136,     0.84101,     0.84066,     0.84033,     0.84007,     0.83981,     0.83956,      0.8393,     0.83904,     0.83878,     0.83852,     0.83799,     0.83743,     0.83688,     0.83638,     0.83595,     0.83552,     0.83508,     0.83447,     0.83268,     0.83189,\n",
       "            0.83111,     0.83018,      0.8292,     0.82836,     0.82757,     0.82684,     0.82628,     0.82571,     0.82514,     0.82457,     0.82401,     0.82344,       0.823,      0.8239,      0.8229,     0.81991,     0.81857,     0.81284,      0.8108,     0.80982,     0.80941,       0.809,     0.80859,\n",
       "            0.80817,     0.80649,     0.80442,     0.80089,     0.79746,     0.79607,     0.79498,     0.79393,      0.7932,      0.7925,     0.79179,     0.79073,     0.78972,     0.78929,     0.78887,     0.78844,     0.78802,     0.78532,      0.7839,     0.78247,     0.78113,     0.78005,     0.77886,\n",
       "            0.77742,     0.77537,     0.77414,     0.77305,     0.77196,     0.77087,     0.76584,      0.7651,     0.76004,     0.75941,     0.75877,     0.75813,      0.7512,     0.75029,     0.74939,     0.74806,     0.74432,      0.7428,     0.73903,       0.735,     0.73321,     0.72922,     0.72805,\n",
       "            0.72004,     0.71567,     0.71407,     0.71052,     0.70614,     0.70214,      0.7005,     0.69405,     0.68754,     0.68587,     0.67872,     0.66001,     0.65827,     0.65397,     0.64963,     0.64787,     0.64349,     0.63646,     0.63466,     0.63364,     0.63274,     0.63183,      0.6274,\n",
       "            0.60933,     0.60471,     0.60282,     0.59857,     0.59743,      0.5934,     0.59149,     0.58674,     0.57911,     0.57715,     0.56941,     0.56347,     0.55979,     0.55233,      0.5463,     0.53452,     0.53244,     0.52421,      0.5109,      0.5075,     0.48826,     0.47622,     0.47126,\n",
       "            0.47013,       0.469,     0.46442,     0.44688,     0.44111,     0.43876,     0.41803,     0.41171,     0.40232,     0.40084,     0.39935,      0.3887,     0.37982,     0.37727,     0.35875,     0.35189,     0.34296,     0.33361,     0.31897,     0.31492,     0.31216,      0.3086,      0.3012,\n",
       "            0.29856,     0.29687,     0.29519,     0.28178,     0.27963,     0.27691,     0.26877,     0.26587,     0.26175,     0.24653,     0.24032,     0.21978,     0.21583,     0.21275,     0.20358,     0.18971,      0.1878,     0.18589,      0.1729,     0.16426,     0.16076,     0.14615,     0.13624,\n",
       "            0.13009,     0.11861,     0.11346,     0.10827,     0.10557,     0.10348,     0.10026,    0.096019,    0.093384,    0.090357,    0.086821,    0.076315,    0.060402,     0.05858,    0.056754,    0.054982,    0.053761,    0.052538,    0.051313,    0.050087,     0.04583,     0.04331,    0.041919,\n",
       "           0.040527,    0.039132,    0.034268,    0.031037,    0.028218,     0.02701,    0.025982,    0.024952,    0.023922,    0.022891,    0.021904,    0.020957,    0.020009,     0.01906,     0.01811,    0.017159,    0.015744,     0.01411,    0.012473,    0.011172,    0.010813,    0.010454,    0.010095,\n",
       "          0.0097357,   0.0093762,   0.0090166,   0.0086568,   0.0082969,   0.0079369,   0.0075767,   0.0072164,    0.006856,   0.0064954,   0.0061348,    0.005774,           0,           0,           0,           0,           0,           0,           0,           0,           0,           0,           0,\n",
       "                  0,           0,           0,           0,           0,           0,           0,           0,           0,           0,           0,           0,           0,           0,           0,           0,           0,           0,           0,           0,           0,           0,           0,\n",
       "                  0,           0,           0,           0,           0,           0,           0,           0,           0,           0,           0,           0,           0,           0,           0,           0,           0,           0,           0,           0,           0,           0,           0,\n",
       "                  0,           0,           0,           0,           0,           0,           0,           0,           0,           0,           0,           0,           0,           0,           0,           0,           0,           0,           0,           0,           0,           0,           0,\n",
       "                  0,           0,           0,           0,           0,           0,           0,           0,           0,           0,           0,           0,           0,           0,           0,           0,           0,           0,           0,           0,           0,           0,           0,\n",
       "                  0,           0,           0,           0,           0,           0,           0,           0,           0,           0,           0]]), 'Confidence', 'F1'], [array([          0,    0.001001,    0.002002,    0.003003,    0.004004,    0.005005,    0.006006,    0.007007,    0.008008,    0.009009,     0.01001,    0.011011,    0.012012,    0.013013,    0.014014,    0.015015,    0.016016,    0.017017,    0.018018,    0.019019,     0.02002,    0.021021,    0.022022,    0.023023,\n",
       "          0.024024,    0.025025,    0.026026,    0.027027,    0.028028,    0.029029,     0.03003,    0.031031,    0.032032,    0.033033,    0.034034,    0.035035,    0.036036,    0.037037,    0.038038,    0.039039,     0.04004,    0.041041,    0.042042,    0.043043,    0.044044,    0.045045,    0.046046,    0.047047,\n",
       "          0.048048,    0.049049,     0.05005,    0.051051,    0.052052,    0.053053,    0.054054,    0.055055,    0.056056,    0.057057,    0.058058,    0.059059,     0.06006,    0.061061,    0.062062,    0.063063,    0.064064,    0.065065,    0.066066,    0.067067,    0.068068,    0.069069,     0.07007,    0.071071,\n",
       "          0.072072,    0.073073,    0.074074,    0.075075,    0.076076,    0.077077,    0.078078,    0.079079,     0.08008,    0.081081,    0.082082,    0.083083,    0.084084,    0.085085,    0.086086,    0.087087,    0.088088,    0.089089,     0.09009,    0.091091,    0.092092,    0.093093,    0.094094,    0.095095,\n",
       "          0.096096,    0.097097,    0.098098,    0.099099,      0.1001,      0.1011,      0.1021,      0.1031,      0.1041,     0.10511,     0.10611,     0.10711,     0.10811,     0.10911,     0.11011,     0.11111,     0.11211,     0.11311,     0.11411,     0.11512,     0.11612,     0.11712,     0.11812,     0.11912,\n",
       "           0.12012,     0.12112,     0.12212,     0.12312,     0.12412,     0.12513,     0.12613,     0.12713,     0.12813,     0.12913,     0.13013,     0.13113,     0.13213,     0.13313,     0.13413,     0.13514,     0.13614,     0.13714,     0.13814,     0.13914,     0.14014,     0.14114,     0.14214,     0.14314,\n",
       "           0.14414,     0.14515,     0.14615,     0.14715,     0.14815,     0.14915,     0.15015,     0.15115,     0.15215,     0.15315,     0.15415,     0.15516,     0.15616,     0.15716,     0.15816,     0.15916,     0.16016,     0.16116,     0.16216,     0.16316,     0.16416,     0.16517,     0.16617,     0.16717,\n",
       "           0.16817,     0.16917,     0.17017,     0.17117,     0.17217,     0.17317,     0.17417,     0.17518,     0.17618,     0.17718,     0.17818,     0.17918,     0.18018,     0.18118,     0.18218,     0.18318,     0.18418,     0.18519,     0.18619,     0.18719,     0.18819,     0.18919,     0.19019,     0.19119,\n",
       "           0.19219,     0.19319,     0.19419,      0.1952,      0.1962,      0.1972,      0.1982,      0.1992,      0.2002,      0.2012,      0.2022,      0.2032,      0.2042,     0.20521,     0.20621,     0.20721,     0.20821,     0.20921,     0.21021,     0.21121,     0.21221,     0.21321,     0.21421,     0.21522,\n",
       "           0.21622,     0.21722,     0.21822,     0.21922,     0.22022,     0.22122,     0.22222,     0.22322,     0.22422,     0.22523,     0.22623,     0.22723,     0.22823,     0.22923,     0.23023,     0.23123,     0.23223,     0.23323,     0.23423,     0.23524,     0.23624,     0.23724,     0.23824,     0.23924,\n",
       "           0.24024,     0.24124,     0.24224,     0.24324,     0.24424,     0.24525,     0.24625,     0.24725,     0.24825,     0.24925,     0.25025,     0.25125,     0.25225,     0.25325,     0.25425,     0.25526,     0.25626,     0.25726,     0.25826,     0.25926,     0.26026,     0.26126,     0.26226,     0.26326,\n",
       "           0.26426,     0.26527,     0.26627,     0.26727,     0.26827,     0.26927,     0.27027,     0.27127,     0.27227,     0.27327,     0.27427,     0.27528,     0.27628,     0.27728,     0.27828,     0.27928,     0.28028,     0.28128,     0.28228,     0.28328,     0.28428,     0.28529,     0.28629,     0.28729,\n",
       "           0.28829,     0.28929,     0.29029,     0.29129,     0.29229,     0.29329,     0.29429,      0.2953,      0.2963,      0.2973,      0.2983,      0.2993,      0.3003,      0.3013,      0.3023,      0.3033,      0.3043,     0.30531,     0.30631,     0.30731,     0.30831,     0.30931,     0.31031,     0.31131,\n",
       "           0.31231,     0.31331,     0.31431,     0.31532,     0.31632,     0.31732,     0.31832,     0.31932,     0.32032,     0.32132,     0.32232,     0.32332,     0.32432,     0.32533,     0.32633,     0.32733,     0.32833,     0.32933,     0.33033,     0.33133,     0.33233,     0.33333,     0.33433,     0.33534,\n",
       "           0.33634,     0.33734,     0.33834,     0.33934,     0.34034,     0.34134,     0.34234,     0.34334,     0.34434,     0.34535,     0.34635,     0.34735,     0.34835,     0.34935,     0.35035,     0.35135,     0.35235,     0.35335,     0.35435,     0.35536,     0.35636,     0.35736,     0.35836,     0.35936,\n",
       "           0.36036,     0.36136,     0.36236,     0.36336,     0.36436,     0.36537,     0.36637,     0.36737,     0.36837,     0.36937,     0.37037,     0.37137,     0.37237,     0.37337,     0.37437,     0.37538,     0.37638,     0.37738,     0.37838,     0.37938,     0.38038,     0.38138,     0.38238,     0.38338,\n",
       "           0.38438,     0.38539,     0.38639,     0.38739,     0.38839,     0.38939,     0.39039,     0.39139,     0.39239,     0.39339,     0.39439,      0.3954,      0.3964,      0.3974,      0.3984,      0.3994,      0.4004,      0.4014,      0.4024,      0.4034,      0.4044,     0.40541,     0.40641,     0.40741,\n",
       "           0.40841,     0.40941,     0.41041,     0.41141,     0.41241,     0.41341,     0.41441,     0.41542,     0.41642,     0.41742,     0.41842,     0.41942,     0.42042,     0.42142,     0.42242,     0.42342,     0.42442,     0.42543,     0.42643,     0.42743,     0.42843,     0.42943,     0.43043,     0.43143,\n",
       "           0.43243,     0.43343,     0.43443,     0.43544,     0.43644,     0.43744,     0.43844,     0.43944,     0.44044,     0.44144,     0.44244,     0.44344,     0.44444,     0.44545,     0.44645,     0.44745,     0.44845,     0.44945,     0.45045,     0.45145,     0.45245,     0.45345,     0.45445,     0.45546,\n",
       "           0.45646,     0.45746,     0.45846,     0.45946,     0.46046,     0.46146,     0.46246,     0.46346,     0.46446,     0.46547,     0.46647,     0.46747,     0.46847,     0.46947,     0.47047,     0.47147,     0.47247,     0.47347,     0.47447,     0.47548,     0.47648,     0.47748,     0.47848,     0.47948,\n",
       "           0.48048,     0.48148,     0.48248,     0.48348,     0.48448,     0.48549,     0.48649,     0.48749,     0.48849,     0.48949,     0.49049,     0.49149,     0.49249,     0.49349,     0.49449,      0.4955,      0.4965,      0.4975,      0.4985,      0.4995,      0.5005,      0.5015,      0.5025,      0.5035,\n",
       "            0.5045,     0.50551,     0.50651,     0.50751,     0.50851,     0.50951,     0.51051,     0.51151,     0.51251,     0.51351,     0.51451,     0.51552,     0.51652,     0.51752,     0.51852,     0.51952,     0.52052,     0.52152,     0.52252,     0.52352,     0.52452,     0.52553,     0.52653,     0.52753,\n",
       "           0.52853,     0.52953,     0.53053,     0.53153,     0.53253,     0.53353,     0.53453,     0.53554,     0.53654,     0.53754,     0.53854,     0.53954,     0.54054,     0.54154,     0.54254,     0.54354,     0.54454,     0.54555,     0.54655,     0.54755,     0.54855,     0.54955,     0.55055,     0.55155,\n",
       "           0.55255,     0.55355,     0.55455,     0.55556,     0.55656,     0.55756,     0.55856,     0.55956,     0.56056,     0.56156,     0.56256,     0.56356,     0.56456,     0.56557,     0.56657,     0.56757,     0.56857,     0.56957,     0.57057,     0.57157,     0.57257,     0.57357,     0.57457,     0.57558,\n",
       "           0.57658,     0.57758,     0.57858,     0.57958,     0.58058,     0.58158,     0.58258,     0.58358,     0.58458,     0.58559,     0.58659,     0.58759,     0.58859,     0.58959,     0.59059,     0.59159,     0.59259,     0.59359,     0.59459,      0.5956,      0.5966,      0.5976,      0.5986,      0.5996,\n",
       "            0.6006,      0.6016,      0.6026,      0.6036,      0.6046,     0.60561,     0.60661,     0.60761,     0.60861,     0.60961,     0.61061,     0.61161,     0.61261,     0.61361,     0.61461,     0.61562,     0.61662,     0.61762,     0.61862,     0.61962,     0.62062,     0.62162,     0.62262,     0.62362,\n",
       "           0.62462,     0.62563,     0.62663,     0.62763,     0.62863,     0.62963,     0.63063,     0.63163,     0.63263,     0.63363,     0.63463,     0.63564,     0.63664,     0.63764,     0.63864,     0.63964,     0.64064,     0.64164,     0.64264,     0.64364,     0.64464,     0.64565,     0.64665,     0.64765,\n",
       "           0.64865,     0.64965,     0.65065,     0.65165,     0.65265,     0.65365,     0.65465,     0.65566,     0.65666,     0.65766,     0.65866,     0.65966,     0.66066,     0.66166,     0.66266,     0.66366,     0.66466,     0.66567,     0.66667,     0.66767,     0.66867,     0.66967,     0.67067,     0.67167,\n",
       "           0.67267,     0.67367,     0.67467,     0.67568,     0.67668,     0.67768,     0.67868,     0.67968,     0.68068,     0.68168,     0.68268,     0.68368,     0.68468,     0.68569,     0.68669,     0.68769,     0.68869,     0.68969,     0.69069,     0.69169,     0.69269,     0.69369,     0.69469,      0.6957,\n",
       "            0.6967,      0.6977,      0.6987,      0.6997,      0.7007,      0.7017,      0.7027,      0.7037,      0.7047,     0.70571,     0.70671,     0.70771,     0.70871,     0.70971,     0.71071,     0.71171,     0.71271,     0.71371,     0.71471,     0.71572,     0.71672,     0.71772,     0.71872,     0.71972,\n",
       "           0.72072,     0.72172,     0.72272,     0.72372,     0.72472,     0.72573,     0.72673,     0.72773,     0.72873,     0.72973,     0.73073,     0.73173,     0.73273,     0.73373,     0.73473,     0.73574,     0.73674,     0.73774,     0.73874,     0.73974,     0.74074,     0.74174,     0.74274,     0.74374,\n",
       "           0.74474,     0.74575,     0.74675,     0.74775,     0.74875,     0.74975,     0.75075,     0.75175,     0.75275,     0.75375,     0.75475,     0.75576,     0.75676,     0.75776,     0.75876,     0.75976,     0.76076,     0.76176,     0.76276,     0.76376,     0.76476,     0.76577,     0.76677,     0.76777,\n",
       "           0.76877,     0.76977,     0.77077,     0.77177,     0.77277,     0.77377,     0.77477,     0.77578,     0.77678,     0.77778,     0.77878,     0.77978,     0.78078,     0.78178,     0.78278,     0.78378,     0.78478,     0.78579,     0.78679,     0.78779,     0.78879,     0.78979,     0.79079,     0.79179,\n",
       "           0.79279,     0.79379,     0.79479,      0.7958,      0.7968,      0.7978,      0.7988,      0.7998,      0.8008,      0.8018,      0.8028,      0.8038,      0.8048,     0.80581,     0.80681,     0.80781,     0.80881,     0.80981,     0.81081,     0.81181,     0.81281,     0.81381,     0.81481,     0.81582,\n",
       "           0.81682,     0.81782,     0.81882,     0.81982,     0.82082,     0.82182,     0.82282,     0.82382,     0.82482,     0.82583,     0.82683,     0.82783,     0.82883,     0.82983,     0.83083,     0.83183,     0.83283,     0.83383,     0.83483,     0.83584,     0.83684,     0.83784,     0.83884,     0.83984,\n",
       "           0.84084,     0.84184,     0.84284,     0.84384,     0.84484,     0.84585,     0.84685,     0.84785,     0.84885,     0.84985,     0.85085,     0.85185,     0.85285,     0.85385,     0.85485,     0.85586,     0.85686,     0.85786,     0.85886,     0.85986,     0.86086,     0.86186,     0.86286,     0.86386,\n",
       "           0.86486,     0.86587,     0.86687,     0.86787,     0.86887,     0.86987,     0.87087,     0.87187,     0.87287,     0.87387,     0.87487,     0.87588,     0.87688,     0.87788,     0.87888,     0.87988,     0.88088,     0.88188,     0.88288,     0.88388,     0.88488,     0.88589,     0.88689,     0.88789,\n",
       "           0.88889,     0.88989,     0.89089,     0.89189,     0.89289,     0.89389,     0.89489,      0.8959,      0.8969,      0.8979,      0.8989,      0.8999,      0.9009,      0.9019,      0.9029,      0.9039,      0.9049,     0.90591,     0.90691,     0.90791,     0.90891,     0.90991,     0.91091,     0.91191,\n",
       "           0.91291,     0.91391,     0.91491,     0.91592,     0.91692,     0.91792,     0.91892,     0.91992,     0.92092,     0.92192,     0.92292,     0.92392,     0.92492,     0.92593,     0.92693,     0.92793,     0.92893,     0.92993,     0.93093,     0.93193,     0.93293,     0.93393,     0.93493,     0.93594,\n",
       "           0.93694,     0.93794,     0.93894,     0.93994,     0.94094,     0.94194,     0.94294,     0.94394,     0.94494,     0.94595,     0.94695,     0.94795,     0.94895,     0.94995,     0.95095,     0.95195,     0.95295,     0.95395,     0.95495,     0.95596,     0.95696,     0.95796,     0.95896,     0.95996,\n",
       "           0.96096,     0.96196,     0.96296,     0.96396,     0.96496,     0.96597,     0.96697,     0.96797,     0.96897,     0.96997,     0.97097,     0.97197,     0.97297,     0.97397,     0.97497,     0.97598,     0.97698,     0.97798,     0.97898,     0.97998,     0.98098,     0.98198,     0.98298,     0.98398,\n",
       "           0.98498,     0.98599,     0.98699,     0.98799,     0.98899,     0.98999,     0.99099,     0.99199,     0.99299,     0.99399,     0.99499,       0.996,       0.997,       0.998,       0.999,           1]), array([[    0.11424,     0.11424,     0.17361,      0.2217,     0.25768,      0.2882,     0.31482,     0.33476,     0.35714,     0.37541,     0.38792,     0.39726,     0.40863,     0.41793,     0.42462,     0.43342,     0.44648,     0.45435,     0.46508,     0.47571,     0.48093,     0.48676,     0.49543,\n",
       "            0.50247,     0.51383,     0.52094,     0.52645,     0.52879,     0.53601,     0.53933,     0.54101,     0.54517,     0.55004,     0.55547,     0.55851,     0.56433,     0.56821,     0.57388,     0.57822,     0.58185,     0.58698,     0.59012,     0.59157,     0.59224,      0.5952,     0.59851,\n",
       "            0.60234,     0.60434,     0.60838,      0.6093,     0.61286,     0.61562,     0.61873,      0.6222,     0.62686,     0.63102,     0.63313,     0.63507,     0.63841,     0.64104,     0.64207,     0.64151,     0.64213,     0.64274,     0.64335,     0.64721,      0.6513,     0.65394,     0.65797,\n",
       "            0.65931,     0.66035,     0.66261,     0.66461,     0.66823,     0.67301,     0.67557,     0.67517,     0.67621,      0.6792,     0.68279,     0.68539,     0.68659,      0.6872,     0.68786,     0.68911,     0.69215,     0.69372,     0.69487,     0.69641,     0.69804,     0.70029,     0.70281,\n",
       "            0.70348,     0.70422,     0.70586,     0.70744,     0.70808,     0.70868,     0.70842,     0.70816,      0.7086,     0.70947,      0.7119,     0.71439,     0.71583,      0.7167,     0.71751,     0.71798,     0.71846,     0.71893,     0.72078,     0.72116,     0.72153,     0.72191,     0.72556,\n",
       "            0.72624,     0.72692,     0.72857,     0.73307,     0.73588,     0.73671,     0.73833,     0.73897,     0.73937,     0.73977,     0.74017,     0.74056,     0.74095,     0.74133,     0.74172,     0.74316,     0.74578,     0.74672,      0.7474,     0.74789,     0.74837,     0.74886,     0.74914,\n",
       "            0.74942,     0.74971,     0.74999,     0.75027,     0.75056,     0.75223,      0.7544,     0.75512,     0.75586,     0.75777,     0.75964,     0.76016,     0.76068,      0.7614,     0.76299,     0.76342,     0.76385,     0.76429,     0.76476,     0.76836,     0.76904,     0.76971,     0.77004,\n",
       "            0.76978,     0.76986,     0.77074,     0.77395,     0.77567,     0.77657,     0.77718,     0.77755,     0.77793,      0.7783,     0.77867,     0.77921,     0.77988,     0.78055,     0.78199,     0.78371,     0.78535,     0.78654,     0.78697,     0.78739,     0.78782,     0.78824,     0.79038,\n",
       "            0.79104,      0.7917,     0.79229,      0.7927,      0.7931,     0.79351,     0.79392,      0.7969,     0.79817,     0.79863,     0.79909,     0.79955,     0.80009,      0.8026,     0.80423,     0.80648,     0.80758,     0.80848,     0.80927,     0.81003,     0.81035,     0.81067,     0.81099,\n",
       "            0.81131,     0.81163,     0.81195,     0.81224,     0.81252,     0.81281,     0.81309,     0.81337,     0.81366,     0.81394,     0.81626,     0.81652,     0.81677,     0.81703,     0.81728,     0.81754,      0.8178,     0.81805,     0.81831,     0.81855,      0.8188,     0.81905,      0.8193,\n",
       "            0.81955,      0.8198,     0.82005,     0.82082,     0.82268,     0.82343,     0.82418,     0.82476,     0.82527,     0.82578,     0.82629,      0.8269,     0.82763,     0.82835,     0.82875,     0.82892,     0.82909,     0.82926,     0.82943,      0.8296,     0.82977,     0.82994,     0.83011,\n",
       "            0.83028,     0.83045,     0.83062,     0.83313,      0.8346,     0.83573,     0.83671,     0.83707,     0.83681,     0.83771,      0.8386,     0.83931,     0.83991,     0.84051,     0.84111,     0.84153,     0.84194,     0.84235,     0.84276,     0.84317,     0.84463,      0.8457,     0.84596,\n",
       "            0.84622,     0.84648,     0.84674,       0.847,     0.84726,     0.84752,     0.84794,     0.84982,     0.84981,     0.85015,     0.85049,     0.85083,     0.85117,     0.85151,     0.85413,     0.85631,     0.85605,     0.85709,     0.85839,     0.85933,     0.86027,     0.86025,     0.86381,\n",
       "            0.86497,     0.86545,     0.86593,     0.86642,      0.8669,     0.86727,     0.86743,     0.86759,     0.86776,     0.86792,     0.86808,     0.86825,     0.86841,     0.86858,     0.86874,      0.8689,     0.86907,     0.86923,     0.86939,     0.86956,     0.87185,     0.87177,     0.87168,\n",
       "             0.8716,     0.87183,     0.87214,     0.87245,     0.87275,     0.87306,     0.87336,     0.87367,       0.874,     0.87706,       0.879,     0.87971,     0.88042,     0.88113,     0.88248,     0.88382,     0.88474,     0.88565,      0.8893,     0.89075,     0.89347,     0.89336,      0.8933,\n",
       "            0.89371,     0.89413,     0.89454,     0.89495,     0.89537,      0.8958,     0.89833,     0.89902,     0.89972,     0.90041,     0.90097,     0.90129,      0.9016,     0.90192,     0.90224,     0.90256,     0.90288,     0.90319,     0.90354,     0.90395,     0.90435,     0.90476,     0.90516,\n",
       "            0.90557,     0.90598,     0.90633,     0.90669,     0.90704,     0.90739,     0.90775,      0.9081,     0.90845,     0.90897,     0.90956,     0.91015,     0.91075,     0.91116,     0.91112,     0.91107,     0.91103,     0.91098,     0.91093,     0.91272,     0.91394,     0.91451,     0.91508,\n",
       "            0.91565,     0.91621,     0.91669,     0.91716,     0.91763,     0.91811,     0.91858,     0.91905,     0.91953,     0.92001,     0.92048,     0.92096,     0.92144,     0.92146,      0.9214,     0.92133,     0.92397,     0.92391,     0.92385,     0.92379,     0.92396,      0.9247,     0.92545,\n",
       "            0.92619,      0.9264,     0.92629,     0.92719,      0.9286,     0.92898,     0.92897,     0.92895,     0.92894,     0.92892,      0.9289,     0.92889,     0.92887,     0.92886,     0.92884,     0.92883,     0.92881,     0.92879,     0.92889,     0.92926,     0.92963,     0.92999,     0.93036,\n",
       "            0.93072,     0.93109,     0.93145,     0.93208,     0.93279,      0.9335,     0.93421,     0.93815,      0.9396,     0.94041,     0.94113,     0.94186,     0.94259,     0.94332,     0.94405,     0.94478,     0.94545,     0.94542,     0.94539,     0.94536,     0.94533,      0.9453,     0.94541,\n",
       "            0.94565,      0.9459,     0.94614,     0.94639,     0.94664,     0.94688,     0.94713,     0.94737,     0.94762,     0.94787,     0.94811,     0.94816,     0.94813,     0.94811,     0.94809,     0.94807,     0.94805,     0.94803,     0.94801,     0.94798,     0.94795,     0.94792,     0.94788,\n",
       "            0.94785,     0.94781,     0.94777,     0.94773,     0.94753,      0.9475,     0.94748,     0.94746,     0.94743,     0.94741,     0.94738,     0.94736,     0.94734,     0.94732,      0.9473,     0.94728,     0.94726,     0.94724,     0.94721,     0.94732,     0.94754,     0.94776,     0.94797,\n",
       "            0.94819,      0.9484,     0.94862,     0.94884,     0.94905,     0.94927,     0.94948,      0.9497,     0.94992,     0.95013,     0.95008,        0.95,     0.95143,     0.95296,     0.95435,     0.95583,     0.95576,     0.95574,     0.95626,     0.95678,      0.9573,     0.95781,     0.95833,\n",
       "            0.95871,     0.95865,     0.95882,      0.9596,     0.96039,     0.96117,     0.96165,     0.96162,     0.96159,     0.96155,     0.96152,     0.96149,     0.96146,     0.96143,     0.96162,     0.96242,     0.96322,     0.96402,     0.96483,     0.96563,     0.96644,     0.96724,     0.96738,\n",
       "            0.96733,     0.96865,     0.97028,     0.97048,     0.97046,     0.97044,     0.97042,      0.9704,     0.97039,     0.97037,     0.97035,     0.97034,     0.97032,      0.9703,     0.97028,     0.97026,     0.97024,     0.97022,      0.9702,     0.97012,     0.97044,     0.97099,     0.97155,\n",
       "             0.9721,     0.97266,     0.97321,      0.9732,     0.97315,     0.97302,     0.97297,     0.97291,     0.97614,     0.97608,     0.97604,     0.97597,     0.97589,     0.97828,     0.97916,     0.97914,     0.97913,     0.97911,      0.9791,     0.97908,     0.97907,     0.97906,     0.97904,\n",
       "            0.97903,     0.97901,     0.97898,     0.97896,     0.97894,     0.97893,     0.97891,      0.9789,     0.97888,     0.97887,     0.97883,     0.97901,      0.9799,     0.98079,     0.98168,     0.98225,     0.98349,     0.98566,     0.98565,     0.98565,     0.98564,     0.98563,     0.98563,\n",
       "            0.98562,     0.98917,     0.98913,     0.98904,       0.989,     0.98899,     0.98897,     0.98896,     0.98894,     0.98891,     0.98889,     0.98884,     0.98884,     0.98883,     0.98882,     0.98881,      0.9888,     0.98878,     0.98876,     0.98872,     0.98868,     0.98859,     0.98856,\n",
       "            0.98854,     0.98854,     0.98853,     0.98852,     0.98851,      0.9885,      0.9885,     0.98849,     0.98849,     0.98848,     0.98847,     0.98847,     0.98846,     0.98845,     0.98844,     0.98842,     0.98841,      0.9884,     0.98839,     0.98838,     0.98837,     0.98832,     0.98831,\n",
       "            0.98829,     0.98826,     0.98824,     0.98822,      0.9882,     0.98818,     0.98817,     0.98816,     0.98814,     0.98813,     0.98812,      0.9881,     0.99331,     0.99598,     0.99598,     0.99595,     0.99594,     0.99589,     0.99587,     0.99587,     0.99586,     0.99586,     0.99585,\n",
       "            0.99585,     0.99584,     0.99582,     0.99579,     0.99576,     0.99575,     0.99574,     0.99573,     0.99572,     0.99571,     0.99571,      0.9957,     0.99569,     0.99569,     0.99568,     0.99568,     0.99567,     0.99565,     0.99564,     0.99562,     0.99561,      0.9956,     0.99559,\n",
       "            0.99558,     0.99556,     0.99555,     0.99554,     0.99553,     0.99552,     0.99547,     0.99546,     0.99541,     0.99541,      0.9954,     0.99539,     0.99533,     0.99532,     0.99531,     0.99529,     0.99526,     0.99524,      0.9952,     0.99516,           1,           1,           1,\n",
       "                  1,           1,           1,           1,           1,           1,           1,           1,           1,           1,           1,           1,           1,           1,           1,           1,           1,           1,           1,           1,           1,           1,           1,\n",
       "                  1,           1,           1,           1,           1,           1,           1,           1,           1,           1,           1,           1,           1,           1,           1,           1,           1,           1,           1,           1,           1,           1,           1,\n",
       "                  1,           1,           1,           1,           1,           1,           1,           1,           1,           1,           1,           1,           1,           1,           1,           1,           1,           1,           1,           1,           1,           1,           1,\n",
       "                  1,           1,           1,           1,           1,           1,           1,           1,           1,           1,           1,           1,           1,           1,           1,           1,           1,           1,           1,           1,           1,           1,           1,\n",
       "                  1,           1,           1,           1,           1,           1,           1,           1,           1,           1,           1,           1,           1,           1,           1,           1,           1,           1,           1,           1,           1,           1,           1,\n",
       "                  1,           1,           1,           1,           1,           1,           1,           1,           1,           1,           1,           1,           1,           1,           1,           1,           1,           1,           1,           1,           1,           1,           1,\n",
       "                  1,           1,           1,           1,           1,           1,           1,           1,           1,           1,           1,           1,           1,           1,           1,           1,           1,           1,           1,           1,           1,           1,           1,\n",
       "                  1,           1,           1,           1,           1,           1,           1,           1,           1,           1,           1,           1,           1,           1,           1,           1,           1,           1,           1,           1,           1,           1,           1,\n",
       "                  1,           1,           1,           1,           1,           1,           1,           1,           1,           1,           1,           1,           1,           1,           1,           1,           1,           1,           1,           1,           1,           1,           1,\n",
       "                  1,           1,           1,           1,           1,           1,           1,           1,           1,           1,           1,           1,           1,           1,           1,           1,           1,           1,           1,           1,           1,           1,           1,\n",
       "                  1,           1,           1,           1,           1,           1,           1,           1,           1,           1,           1,           1,           1,           1,           1,           1,           1,           1,           1,           1,           1,           1,           1,\n",
       "                  1,           1,           1,           1,           1,           1,           1,           1,           1,           1,           1]]), 'Confidence', 'Precision'], [array([          0,    0.001001,    0.002002,    0.003003,    0.004004,    0.005005,    0.006006,    0.007007,    0.008008,    0.009009,     0.01001,    0.011011,    0.012012,    0.013013,    0.014014,    0.015015,    0.016016,    0.017017,    0.018018,    0.019019,     0.02002,    0.021021,    0.022022,    0.023023,\n",
       "          0.024024,    0.025025,    0.026026,    0.027027,    0.028028,    0.029029,     0.03003,    0.031031,    0.032032,    0.033033,    0.034034,    0.035035,    0.036036,    0.037037,    0.038038,    0.039039,     0.04004,    0.041041,    0.042042,    0.043043,    0.044044,    0.045045,    0.046046,    0.047047,\n",
       "          0.048048,    0.049049,     0.05005,    0.051051,    0.052052,    0.053053,    0.054054,    0.055055,    0.056056,    0.057057,    0.058058,    0.059059,     0.06006,    0.061061,    0.062062,    0.063063,    0.064064,    0.065065,    0.066066,    0.067067,    0.068068,    0.069069,     0.07007,    0.071071,\n",
       "          0.072072,    0.073073,    0.074074,    0.075075,    0.076076,    0.077077,    0.078078,    0.079079,     0.08008,    0.081081,    0.082082,    0.083083,    0.084084,    0.085085,    0.086086,    0.087087,    0.088088,    0.089089,     0.09009,    0.091091,    0.092092,    0.093093,    0.094094,    0.095095,\n",
       "          0.096096,    0.097097,    0.098098,    0.099099,      0.1001,      0.1011,      0.1021,      0.1031,      0.1041,     0.10511,     0.10611,     0.10711,     0.10811,     0.10911,     0.11011,     0.11111,     0.11211,     0.11311,     0.11411,     0.11512,     0.11612,     0.11712,     0.11812,     0.11912,\n",
       "           0.12012,     0.12112,     0.12212,     0.12312,     0.12412,     0.12513,     0.12613,     0.12713,     0.12813,     0.12913,     0.13013,     0.13113,     0.13213,     0.13313,     0.13413,     0.13514,     0.13614,     0.13714,     0.13814,     0.13914,     0.14014,     0.14114,     0.14214,     0.14314,\n",
       "           0.14414,     0.14515,     0.14615,     0.14715,     0.14815,     0.14915,     0.15015,     0.15115,     0.15215,     0.15315,     0.15415,     0.15516,     0.15616,     0.15716,     0.15816,     0.15916,     0.16016,     0.16116,     0.16216,     0.16316,     0.16416,     0.16517,     0.16617,     0.16717,\n",
       "           0.16817,     0.16917,     0.17017,     0.17117,     0.17217,     0.17317,     0.17417,     0.17518,     0.17618,     0.17718,     0.17818,     0.17918,     0.18018,     0.18118,     0.18218,     0.18318,     0.18418,     0.18519,     0.18619,     0.18719,     0.18819,     0.18919,     0.19019,     0.19119,\n",
       "           0.19219,     0.19319,     0.19419,      0.1952,      0.1962,      0.1972,      0.1982,      0.1992,      0.2002,      0.2012,      0.2022,      0.2032,      0.2042,     0.20521,     0.20621,     0.20721,     0.20821,     0.20921,     0.21021,     0.21121,     0.21221,     0.21321,     0.21421,     0.21522,\n",
       "           0.21622,     0.21722,     0.21822,     0.21922,     0.22022,     0.22122,     0.22222,     0.22322,     0.22422,     0.22523,     0.22623,     0.22723,     0.22823,     0.22923,     0.23023,     0.23123,     0.23223,     0.23323,     0.23423,     0.23524,     0.23624,     0.23724,     0.23824,     0.23924,\n",
       "           0.24024,     0.24124,     0.24224,     0.24324,     0.24424,     0.24525,     0.24625,     0.24725,     0.24825,     0.24925,     0.25025,     0.25125,     0.25225,     0.25325,     0.25425,     0.25526,     0.25626,     0.25726,     0.25826,     0.25926,     0.26026,     0.26126,     0.26226,     0.26326,\n",
       "           0.26426,     0.26527,     0.26627,     0.26727,     0.26827,     0.26927,     0.27027,     0.27127,     0.27227,     0.27327,     0.27427,     0.27528,     0.27628,     0.27728,     0.27828,     0.27928,     0.28028,     0.28128,     0.28228,     0.28328,     0.28428,     0.28529,     0.28629,     0.28729,\n",
       "           0.28829,     0.28929,     0.29029,     0.29129,     0.29229,     0.29329,     0.29429,      0.2953,      0.2963,      0.2973,      0.2983,      0.2993,      0.3003,      0.3013,      0.3023,      0.3033,      0.3043,     0.30531,     0.30631,     0.30731,     0.30831,     0.30931,     0.31031,     0.31131,\n",
       "           0.31231,     0.31331,     0.31431,     0.31532,     0.31632,     0.31732,     0.31832,     0.31932,     0.32032,     0.32132,     0.32232,     0.32332,     0.32432,     0.32533,     0.32633,     0.32733,     0.32833,     0.32933,     0.33033,     0.33133,     0.33233,     0.33333,     0.33433,     0.33534,\n",
       "           0.33634,     0.33734,     0.33834,     0.33934,     0.34034,     0.34134,     0.34234,     0.34334,     0.34434,     0.34535,     0.34635,     0.34735,     0.34835,     0.34935,     0.35035,     0.35135,     0.35235,     0.35335,     0.35435,     0.35536,     0.35636,     0.35736,     0.35836,     0.35936,\n",
       "           0.36036,     0.36136,     0.36236,     0.36336,     0.36436,     0.36537,     0.36637,     0.36737,     0.36837,     0.36937,     0.37037,     0.37137,     0.37237,     0.37337,     0.37437,     0.37538,     0.37638,     0.37738,     0.37838,     0.37938,     0.38038,     0.38138,     0.38238,     0.38338,\n",
       "           0.38438,     0.38539,     0.38639,     0.38739,     0.38839,     0.38939,     0.39039,     0.39139,     0.39239,     0.39339,     0.39439,      0.3954,      0.3964,      0.3974,      0.3984,      0.3994,      0.4004,      0.4014,      0.4024,      0.4034,      0.4044,     0.40541,     0.40641,     0.40741,\n",
       "           0.40841,     0.40941,     0.41041,     0.41141,     0.41241,     0.41341,     0.41441,     0.41542,     0.41642,     0.41742,     0.41842,     0.41942,     0.42042,     0.42142,     0.42242,     0.42342,     0.42442,     0.42543,     0.42643,     0.42743,     0.42843,     0.42943,     0.43043,     0.43143,\n",
       "           0.43243,     0.43343,     0.43443,     0.43544,     0.43644,     0.43744,     0.43844,     0.43944,     0.44044,     0.44144,     0.44244,     0.44344,     0.44444,     0.44545,     0.44645,     0.44745,     0.44845,     0.44945,     0.45045,     0.45145,     0.45245,     0.45345,     0.45445,     0.45546,\n",
       "           0.45646,     0.45746,     0.45846,     0.45946,     0.46046,     0.46146,     0.46246,     0.46346,     0.46446,     0.46547,     0.46647,     0.46747,     0.46847,     0.46947,     0.47047,     0.47147,     0.47247,     0.47347,     0.47447,     0.47548,     0.47648,     0.47748,     0.47848,     0.47948,\n",
       "           0.48048,     0.48148,     0.48248,     0.48348,     0.48448,     0.48549,     0.48649,     0.48749,     0.48849,     0.48949,     0.49049,     0.49149,     0.49249,     0.49349,     0.49449,      0.4955,      0.4965,      0.4975,      0.4985,      0.4995,      0.5005,      0.5015,      0.5025,      0.5035,\n",
       "            0.5045,     0.50551,     0.50651,     0.50751,     0.50851,     0.50951,     0.51051,     0.51151,     0.51251,     0.51351,     0.51451,     0.51552,     0.51652,     0.51752,     0.51852,     0.51952,     0.52052,     0.52152,     0.52252,     0.52352,     0.52452,     0.52553,     0.52653,     0.52753,\n",
       "           0.52853,     0.52953,     0.53053,     0.53153,     0.53253,     0.53353,     0.53453,     0.53554,     0.53654,     0.53754,     0.53854,     0.53954,     0.54054,     0.54154,     0.54254,     0.54354,     0.54454,     0.54555,     0.54655,     0.54755,     0.54855,     0.54955,     0.55055,     0.55155,\n",
       "           0.55255,     0.55355,     0.55455,     0.55556,     0.55656,     0.55756,     0.55856,     0.55956,     0.56056,     0.56156,     0.56256,     0.56356,     0.56456,     0.56557,     0.56657,     0.56757,     0.56857,     0.56957,     0.57057,     0.57157,     0.57257,     0.57357,     0.57457,     0.57558,\n",
       "           0.57658,     0.57758,     0.57858,     0.57958,     0.58058,     0.58158,     0.58258,     0.58358,     0.58458,     0.58559,     0.58659,     0.58759,     0.58859,     0.58959,     0.59059,     0.59159,     0.59259,     0.59359,     0.59459,      0.5956,      0.5966,      0.5976,      0.5986,      0.5996,\n",
       "            0.6006,      0.6016,      0.6026,      0.6036,      0.6046,     0.60561,     0.60661,     0.60761,     0.60861,     0.60961,     0.61061,     0.61161,     0.61261,     0.61361,     0.61461,     0.61562,     0.61662,     0.61762,     0.61862,     0.61962,     0.62062,     0.62162,     0.62262,     0.62362,\n",
       "           0.62462,     0.62563,     0.62663,     0.62763,     0.62863,     0.62963,     0.63063,     0.63163,     0.63263,     0.63363,     0.63463,     0.63564,     0.63664,     0.63764,     0.63864,     0.63964,     0.64064,     0.64164,     0.64264,     0.64364,     0.64464,     0.64565,     0.64665,     0.64765,\n",
       "           0.64865,     0.64965,     0.65065,     0.65165,     0.65265,     0.65365,     0.65465,     0.65566,     0.65666,     0.65766,     0.65866,     0.65966,     0.66066,     0.66166,     0.66266,     0.66366,     0.66466,     0.66567,     0.66667,     0.66767,     0.66867,     0.66967,     0.67067,     0.67167,\n",
       "           0.67267,     0.67367,     0.67467,     0.67568,     0.67668,     0.67768,     0.67868,     0.67968,     0.68068,     0.68168,     0.68268,     0.68368,     0.68468,     0.68569,     0.68669,     0.68769,     0.68869,     0.68969,     0.69069,     0.69169,     0.69269,     0.69369,     0.69469,      0.6957,\n",
       "            0.6967,      0.6977,      0.6987,      0.6997,      0.7007,      0.7017,      0.7027,      0.7037,      0.7047,     0.70571,     0.70671,     0.70771,     0.70871,     0.70971,     0.71071,     0.71171,     0.71271,     0.71371,     0.71471,     0.71572,     0.71672,     0.71772,     0.71872,     0.71972,\n",
       "           0.72072,     0.72172,     0.72272,     0.72372,     0.72472,     0.72573,     0.72673,     0.72773,     0.72873,     0.72973,     0.73073,     0.73173,     0.73273,     0.73373,     0.73473,     0.73574,     0.73674,     0.73774,     0.73874,     0.73974,     0.74074,     0.74174,     0.74274,     0.74374,\n",
       "           0.74474,     0.74575,     0.74675,     0.74775,     0.74875,     0.74975,     0.75075,     0.75175,     0.75275,     0.75375,     0.75475,     0.75576,     0.75676,     0.75776,     0.75876,     0.75976,     0.76076,     0.76176,     0.76276,     0.76376,     0.76476,     0.76577,     0.76677,     0.76777,\n",
       "           0.76877,     0.76977,     0.77077,     0.77177,     0.77277,     0.77377,     0.77477,     0.77578,     0.77678,     0.77778,     0.77878,     0.77978,     0.78078,     0.78178,     0.78278,     0.78378,     0.78478,     0.78579,     0.78679,     0.78779,     0.78879,     0.78979,     0.79079,     0.79179,\n",
       "           0.79279,     0.79379,     0.79479,      0.7958,      0.7968,      0.7978,      0.7988,      0.7998,      0.8008,      0.8018,      0.8028,      0.8038,      0.8048,     0.80581,     0.80681,     0.80781,     0.80881,     0.80981,     0.81081,     0.81181,     0.81281,     0.81381,     0.81481,     0.81582,\n",
       "           0.81682,     0.81782,     0.81882,     0.81982,     0.82082,     0.82182,     0.82282,     0.82382,     0.82482,     0.82583,     0.82683,     0.82783,     0.82883,     0.82983,     0.83083,     0.83183,     0.83283,     0.83383,     0.83483,     0.83584,     0.83684,     0.83784,     0.83884,     0.83984,\n",
       "           0.84084,     0.84184,     0.84284,     0.84384,     0.84484,     0.84585,     0.84685,     0.84785,     0.84885,     0.84985,     0.85085,     0.85185,     0.85285,     0.85385,     0.85485,     0.85586,     0.85686,     0.85786,     0.85886,     0.85986,     0.86086,     0.86186,     0.86286,     0.86386,\n",
       "           0.86486,     0.86587,     0.86687,     0.86787,     0.86887,     0.86987,     0.87087,     0.87187,     0.87287,     0.87387,     0.87487,     0.87588,     0.87688,     0.87788,     0.87888,     0.87988,     0.88088,     0.88188,     0.88288,     0.88388,     0.88488,     0.88589,     0.88689,     0.88789,\n",
       "           0.88889,     0.88989,     0.89089,     0.89189,     0.89289,     0.89389,     0.89489,      0.8959,      0.8969,      0.8979,      0.8989,      0.8999,      0.9009,      0.9019,      0.9029,      0.9039,      0.9049,     0.90591,     0.90691,     0.90791,     0.90891,     0.90991,     0.91091,     0.91191,\n",
       "           0.91291,     0.91391,     0.91491,     0.91592,     0.91692,     0.91792,     0.91892,     0.91992,     0.92092,     0.92192,     0.92292,     0.92392,     0.92492,     0.92593,     0.92693,     0.92793,     0.92893,     0.92993,     0.93093,     0.93193,     0.93293,     0.93393,     0.93493,     0.93594,\n",
       "           0.93694,     0.93794,     0.93894,     0.93994,     0.94094,     0.94194,     0.94294,     0.94394,     0.94494,     0.94595,     0.94695,     0.94795,     0.94895,     0.94995,     0.95095,     0.95195,     0.95295,     0.95395,     0.95495,     0.95596,     0.95696,     0.95796,     0.95896,     0.95996,\n",
       "           0.96096,     0.96196,     0.96296,     0.96396,     0.96496,     0.96597,     0.96697,     0.96797,     0.96897,     0.96997,     0.97097,     0.97197,     0.97297,     0.97397,     0.97497,     0.97598,     0.97698,     0.97798,     0.97898,     0.97998,     0.98098,     0.98198,     0.98298,     0.98398,\n",
       "           0.98498,     0.98599,     0.98699,     0.98799,     0.98899,     0.98999,     0.99099,     0.99199,     0.99299,     0.99399,     0.99499,       0.996,       0.997,       0.998,       0.999,           1]), array([[    0.96601,     0.96601,     0.95467,     0.95467,     0.94901,     0.94901,     0.94618,     0.94618,     0.94618,     0.94618,     0.94618,     0.94334,     0.94334,     0.94051,     0.94051,     0.94051,     0.94051,     0.94051,     0.94051,     0.94051,     0.94051,     0.94051,     0.94051,\n",
       "            0.94051,     0.94051,     0.94051,     0.94051,     0.94051,     0.94051,     0.94051,     0.94051,     0.94051,     0.94051,     0.94051,     0.94051,     0.94051,     0.94051,     0.94051,     0.93981,     0.93484,     0.93484,     0.93484,     0.93484,     0.93484,     0.93484,     0.93484,\n",
       "            0.93484,     0.93484,     0.93484,     0.93201,     0.93201,     0.93201,     0.93201,     0.93201,     0.93201,     0.93201,     0.93201,     0.93201,     0.93201,     0.93201,     0.92996,     0.92635,     0.92635,     0.92635,     0.92635,     0.92635,     0.92635,     0.92635,     0.92635,\n",
       "            0.92635,     0.92635,     0.92635,     0.92635,     0.92635,     0.92635,     0.92614,     0.92351,     0.92351,     0.92351,     0.92351,     0.92351,     0.92351,     0.92351,     0.92351,     0.92351,     0.92351,     0.92351,     0.92351,     0.92351,     0.92351,     0.92351,     0.92351,\n",
       "            0.92351,     0.92351,     0.92351,     0.92351,     0.92351,     0.92345,     0.92229,     0.92113,     0.92068,     0.92068,     0.92068,     0.92068,     0.92068,     0.92068,     0.92068,     0.92068,     0.92068,     0.92068,     0.92068,     0.92068,     0.92068,     0.92068,     0.92068,\n",
       "            0.92068,     0.92068,     0.92068,     0.92068,     0.92068,     0.92068,     0.92068,     0.92068,     0.92068,     0.92068,     0.92068,     0.92068,     0.92068,     0.92068,     0.92068,     0.92068,     0.92068,     0.92068,     0.92068,     0.92068,     0.92068,     0.92068,     0.92068,\n",
       "            0.92068,     0.92068,     0.92068,     0.92068,     0.92068,     0.92068,     0.92068,     0.92068,     0.92068,     0.92068,     0.92068,     0.92068,     0.92068,     0.92068,     0.92068,     0.92068,     0.92068,     0.92068,     0.92068,     0.92068,     0.92068,     0.92068,     0.92017,\n",
       "            0.91881,     0.91785,     0.91785,     0.91785,     0.91785,     0.91785,     0.91785,     0.91785,     0.91785,     0.91785,     0.91785,     0.91785,     0.91785,     0.91785,     0.91785,     0.91785,     0.91785,     0.91785,     0.91785,     0.91785,     0.91785,     0.91785,     0.91785,\n",
       "            0.91785,     0.91785,     0.91785,     0.91785,     0.91785,     0.91785,     0.91785,     0.91785,     0.91785,     0.91785,     0.91785,     0.91785,     0.91785,     0.91785,     0.91785,     0.91785,     0.91785,     0.91785,     0.91785,     0.91785,     0.91785,     0.91785,     0.91785,\n",
       "            0.91785,     0.91785,     0.91785,     0.91785,     0.91785,     0.91785,     0.91785,     0.91785,     0.91785,     0.91785,     0.91785,     0.91785,     0.91785,     0.91785,     0.91785,     0.91785,     0.91785,     0.91785,     0.91785,     0.91785,     0.91785,     0.91785,     0.91785,\n",
       "            0.91785,     0.91785,     0.91785,     0.91785,     0.91785,     0.91785,     0.91785,     0.91785,     0.91785,     0.91785,     0.91785,     0.91785,     0.91785,     0.91785,     0.91785,     0.91785,     0.91785,     0.91785,     0.91785,     0.91785,     0.91785,     0.91785,     0.91785,\n",
       "            0.91785,     0.91785,     0.91785,     0.91785,     0.91785,     0.91785,     0.91785,     0.91689,     0.91501,     0.91501,     0.91501,     0.91501,     0.91501,     0.91501,     0.91501,     0.91501,     0.91501,     0.91501,     0.91501,     0.91501,     0.91501,     0.91501,     0.91501,\n",
       "            0.91501,     0.91501,     0.91501,     0.91501,     0.91501,     0.91501,     0.91501,     0.91376,     0.91218,     0.91218,     0.91218,     0.91218,     0.91218,     0.91218,     0.91218,     0.91165,     0.90971,     0.90935,     0.90935,     0.90935,     0.90935,     0.90677,     0.90652,\n",
       "            0.90652,     0.90652,     0.90652,     0.90652,     0.90652,     0.90652,     0.90652,     0.90652,     0.90652,     0.90652,     0.90652,     0.90652,     0.90652,     0.90652,     0.90652,     0.90652,     0.90652,     0.90652,     0.90652,     0.90652,     0.90586,     0.90518,     0.90449,\n",
       "            0.90381,     0.90368,     0.90368,     0.90368,     0.90368,     0.90368,     0.90368,     0.90368,     0.90368,     0.90368,     0.90368,     0.90368,     0.90368,     0.90368,     0.90368,     0.90368,     0.90368,     0.90368,     0.90368,     0.90368,     0.90285,     0.90179,     0.90085,\n",
       "            0.90085,     0.90085,     0.90085,     0.90085,     0.90085,     0.90085,     0.90085,     0.90085,     0.90085,     0.90085,     0.90085,     0.90085,     0.90085,     0.90085,     0.90085,     0.90085,     0.90085,     0.90085,     0.90085,     0.90085,     0.90085,     0.90085,     0.90085,\n",
       "            0.90085,     0.90085,     0.90085,     0.90085,     0.90085,     0.90085,     0.90085,     0.90085,     0.90085,     0.90085,     0.90085,     0.90085,     0.90085,     0.90071,      0.9002,      0.8997,     0.89919,     0.89869,     0.89818,     0.89802,     0.89802,     0.89802,     0.89802,\n",
       "            0.89802,     0.89802,     0.89802,     0.89802,     0.89802,     0.89802,     0.89802,     0.89802,     0.89802,     0.89802,     0.89802,     0.89802,     0.89802,     0.89737,     0.89659,     0.89582,     0.89505,     0.89433,      0.8936,     0.89288,     0.89235,     0.89235,     0.89235,\n",
       "            0.89235,     0.89145,        0.89,     0.88952,     0.88952,     0.88937,     0.88916,     0.88894,     0.88873,     0.88852,     0.88831,      0.8881,     0.88789,     0.88768,     0.88747,     0.88726,     0.88704,     0.88683,     0.88669,     0.88669,     0.88669,     0.88669,     0.88669,\n",
       "            0.88669,     0.88669,     0.88669,     0.88669,     0.88669,     0.88669,     0.88669,     0.88385,     0.88385,     0.88385,     0.88385,     0.88385,     0.88385,     0.88385,     0.88385,     0.88385,     0.88381,     0.88331,      0.8828,      0.8823,     0.88179,     0.88129,     0.88102,\n",
       "            0.88102,     0.88102,     0.88102,     0.88102,     0.88102,     0.88102,     0.88102,     0.88102,     0.88102,     0.88102,     0.88102,     0.88074,     0.88038,     0.88002,     0.87965,     0.87929,     0.87893,     0.87856,      0.8782,     0.87763,     0.87705,     0.87647,     0.87589,\n",
       "            0.87529,     0.87457,     0.87384,     0.87311,     0.86961,      0.8692,     0.86878,     0.86837,     0.86795,     0.86754,     0.86712,     0.86673,     0.86636,       0.866,     0.86564,     0.86528,     0.86491,     0.86455,     0.86419,     0.86402,     0.86402,     0.86402,     0.86402,\n",
       "            0.86402,     0.86402,     0.86402,     0.86402,     0.86402,     0.86402,     0.86402,     0.86402,     0.86402,     0.86402,     0.86273,     0.86128,     0.86119,     0.86119,     0.85836,      0.8583,     0.85685,     0.85552,     0.85552,     0.85552,     0.85552,     0.85552,     0.85552,\n",
       "            0.85519,     0.85373,     0.85269,     0.85269,     0.85269,     0.85269,     0.85242,     0.85169,     0.85096,     0.85024,     0.84951,     0.84879,     0.84806,     0.84733,     0.84136,     0.84136,     0.84136,     0.84136,     0.84136,     0.84136,     0.84136,     0.84136,     0.84024,\n",
       "            0.83879,     0.83853,     0.83853,     0.83807,     0.83754,     0.83701,     0.83649,     0.83596,     0.83545,     0.83497,     0.83448,       0.834,     0.83352,     0.83303,     0.83248,      0.8319,     0.83132,     0.83074,     0.83016,     0.82779,     0.82436,     0.82436,     0.82436,\n",
       "            0.82436,     0.82436,     0.82436,       0.823,     0.82154,     0.81726,     0.81579,     0.81385,     0.81136,     0.80933,     0.80788,     0.80548,     0.80258,      0.8017,     0.79845,     0.79787,     0.79729,     0.79671,     0.79612,     0.79559,     0.79506,     0.79453,       0.794,\n",
       "            0.79348,     0.79274,     0.79177,      0.7908,     0.79008,     0.78955,     0.78902,     0.78849,     0.78797,     0.78727,     0.78581,      0.7847,      0.7847,      0.7847,      0.7847,     0.78374,     0.78187,     0.77889,      0.7785,     0.77812,     0.77773,     0.77734,     0.77695,\n",
       "            0.77657,     0.77602,     0.77311,     0.76705,     0.76427,      0.7633,     0.76233,     0.76103,     0.75957,     0.75812,     0.75667,     0.75336,     0.75278,      0.7522,     0.75162,     0.75104,     0.75021,     0.74905,     0.74789,       0.745,     0.74209,     0.73642,     0.73448,\n",
       "            0.73339,     0.73287,     0.73234,     0.73181,     0.73128,     0.73079,      0.7304,     0.73001,     0.72963,     0.72924,     0.72885,     0.72846,     0.72808,     0.72728,     0.72645,     0.72562,     0.72489,     0.72424,      0.7236,     0.72295,     0.72205,     0.71939,     0.71822,\n",
       "            0.71706,      0.7157,     0.71425,     0.71301,     0.71185,     0.71079,     0.70996,     0.70913,      0.7083,     0.70747,     0.70664,     0.70581,     0.70255,     0.70253,     0.70107,     0.69676,     0.69482,     0.68664,     0.68373,     0.68234,     0.68176,     0.68118,      0.6806,\n",
       "            0.68002,     0.67764,     0.67474,      0.6698,     0.66503,     0.66309,     0.66159,     0.66014,     0.65914,     0.65818,      0.6572,     0.65575,     0.65435,     0.65377,     0.65319,     0.65261,     0.65203,     0.64836,     0.64643,     0.64449,     0.64268,     0.64123,     0.63963,\n",
       "            0.63769,     0.63494,      0.6333,     0.63184,     0.63039,     0.62894,     0.62229,     0.62132,      0.6147,     0.61387,     0.61304,     0.61221,     0.60324,     0.60208,     0.60091,     0.59921,     0.59444,     0.59251,     0.58774,     0.58267,     0.57879,     0.57384,     0.57239,\n",
       "            0.56255,     0.55724,      0.5553,     0.55101,     0.54576,     0.54099,     0.53906,     0.53146,     0.52386,     0.52192,     0.51369,     0.49255,     0.49062,     0.48585,     0.48108,     0.47914,     0.47437,     0.46677,     0.46484,     0.46375,     0.46278,     0.46181,     0.45709,\n",
       "            0.43816,     0.43339,     0.43146,     0.42712,     0.42596,     0.42187,     0.41994,     0.41517,     0.40757,     0.40563,     0.39803,     0.39224,     0.38868,     0.38153,      0.3758,     0.36474,     0.36281,      0.3552,     0.34309,     0.34003,     0.32298,     0.31252,     0.30827,\n",
       "             0.3073,     0.30633,     0.30244,     0.28773,     0.28297,     0.28103,     0.26425,     0.25922,     0.25182,     0.25066,      0.2495,     0.24123,     0.23443,     0.23249,     0.21858,     0.21351,     0.20697,      0.2002,     0.18974,     0.18688,     0.18495,     0.18245,      0.1773,\n",
       "            0.17547,     0.17431,     0.17315,     0.16399,     0.16254,     0.16071,     0.15525,     0.15331,     0.15058,     0.14059,     0.13657,     0.12345,     0.12097,     0.11904,     0.11333,     0.10479,     0.10363,     0.10247,     0.09463,    0.089479,    0.087406,    0.078837,      0.0731,\n",
       "           0.069571,    0.063043,    0.060139,    0.057236,    0.055727,    0.054566,    0.052774,    0.050431,    0.048979,    0.047316,    0.045381,    0.039671,    0.031142,    0.030174,    0.029206,    0.028268,    0.027623,    0.026978,    0.026332,    0.025687,    0.023453,    0.022134,    0.021408,\n",
       "           0.020683,    0.019957,    0.017432,    0.015763,    0.014311,     0.01369,    0.013162,    0.012634,    0.012106,    0.011578,    0.011073,    0.010589,    0.010105,   0.0096215,   0.0091376,   0.0086536,   0.0079347,    0.007105,   0.0062754,   0.0056176,   0.0054361,   0.0052546,   0.0050732,\n",
       "          0.0048917,   0.0047102,   0.0045287,   0.0043472,   0.0041657,   0.0039842,   0.0038028,   0.0036213,   0.0034398,   0.0032583,   0.0030768,   0.0028953,           0,           0,           0,           0,           0,           0,           0,           0,           0,           0,           0,\n",
       "                  0,           0,           0,           0,           0,           0,           0,           0,           0,           0,           0,           0,           0,           0,           0,           0,           0,           0,           0,           0,           0,           0,           0,\n",
       "                  0,           0,           0,           0,           0,           0,           0,           0,           0,           0,           0,           0,           0,           0,           0,           0,           0,           0,           0,           0,           0,           0,           0,\n",
       "                  0,           0,           0,           0,           0,           0,           0,           0,           0,           0,           0,           0,           0,           0,           0,           0,           0,           0,           0,           0,           0,           0,           0,\n",
       "                  0,           0,           0,           0,           0,           0,           0,           0,           0,           0,           0,           0,           0,           0,           0,           0,           0,           0,           0,           0,           0,           0,           0,\n",
       "                  0,           0,           0,           0,           0,           0,           0,           0,           0,           0,           0]]), 'Confidence', 'Recall']]\n",
       "fitness: 0.6238524205608282\n",
       "keys: ['metrics/precision(B)', 'metrics/recall(B)', 'metrics/mAP50(B)', 'metrics/mAP50-95(B)']\n",
       "maps: array([    0.58952])\n",
       "names: {0: 'item'}\n",
       "nt_per_class: array([353], dtype=int64)\n",
       "nt_per_image: array([138], dtype=int64)\n",
       "results_dict: {'metrics/precision(B)': 0.9320766623277507, 'metrics/recall(B)': 0.886685552407932, 'metrics/mAP50(B)': 0.9328812698476278, 'metrics/mAP50-95(B)': 0.5895158817511839, 'fitness': 0.6238524205608282}\n",
       "save_dir: WindowsPath('runs/detect/train38')\n",
       "speed: {'preprocess': 3.6764290000064648, 'inference': 4.20802550008375, 'loss': 0.0003850000211969018, 'postprocess': 1.3216085000385647}\n",
       "stats: {'tp': [], 'conf': [], 'pred_cls': [], 'target_cls': [], 'target_img': []}\n",
       "task: 'detect'"
      ]
     },
     "execution_count": 1,
     "metadata": {},
     "output_type": "execute_result"
    }
   ],
   "source": [
    "from ultralytics import YOLO\n",
    "\n",
    "#model = YOLO('yolov8s.yaml') # Изначальная модель YOLO\n",
    "model = YOLO('best.pt'); # Дообучение модели\n",
    "\n",
    "model.train(\n",
    "    data='data.yaml',\n",
    "    epochs=100,\n",
    "    imgsz=1280,\n",
    "    batch=10,\n",
    "    device='0',\n",
    "    lr0=0.001,\n",
    "    amp=True,\n",
    "    workers=6,\n",
    "    patience=20,\n",
    "    cos_lr=True,\n",
    "    optimizer='AdamW',\n",
    "    weight_decay=0.001,\n",
    "    box=9.0,\n",
    "    cls=0.5,\n",
    "    dfl=2.5,\n",
    "    single_cls=True,\n",
    "    warmup_epochs=5,\n",
    "    warmup_momentum=0.8,\n",
    "    hsv_h=0.1, hsv_s=0.1, hsv_v=0.1,\n",
    "    degrees=10.0, flipud=0.5, fliplr=0.5,\n",
    "    mosaic=0.2,\n",
    ")"
   ]
  },
  {
   "cell_type": "code",
   "execution_count": 4,
   "id": "50aeaa3f-7a6a-44b0-89fe-6e46d9b4e056",
   "metadata": {},
   "outputs": [],
   "source": [
    "model.save()"
   ]
  },
  {
   "cell_type": "code",
   "execution_count": 58,
   "id": "08e35cfe-5f45-4613-9b6c-e327190926a7",
   "metadata": {},
   "outputs": [
    {
     "name": "stdout",
     "output_type": "stream",
     "text": [
      "\n",
      "0: 864x1280 1 person, 33.8ms\n",
      "Speed: 6.5ms preprocess, 33.8ms inference, 1.4ms postprocess per image at shape (1, 3, 864, 1280)\n"
     ]
    }
   ],
   "source": [
    "# Проверка работы модели на ручной тестовой выборке\n",
    "model = YOLO('model.pt')  \n",
    "\n",
    "img = cv2.imread('C:/Human_rescue/test/test_image.jpg')  \n",
    "\n",
    "results = model.predict(img, classes=[0], conf=0.5)\n",
    "\n",
    "results[0].show()\n",
    "cv2.waitKey(0)\n",
    "cv2.destroyAllWindows()"
   ]
  }
 ],
 "metadata": {
  "kernelspec": {
   "display_name": "Python 3 (ipykernel)",
   "language": "python",
   "name": "python3"
  },
  "language_info": {
   "codemirror_mode": {
    "name": "ipython",
    "version": 3
   },
   "file_extension": ".py",
   "mimetype": "text/x-python",
   "name": "python",
   "nbconvert_exporter": "python",
   "pygments_lexer": "ipython3",
   "version": "3.11.5"
  }
 },
 "nbformat": 4,
 "nbformat_minor": 5
}
